{
 "cells": [
  {
   "cell_type": "code",
   "execution_count": 130,
   "id": "2c2edc07",
   "metadata": {},
   "outputs": [],
   "source": [
    "import pandas as pd \n",
    "import numpy as np\n",
    "import statsmodels.api as sm\n",
    "from statsmodels.stats.proportion import proportion_confint"
   ]
  },
  {
   "cell_type": "markdown",
   "id": "16e8c5b4",
   "metadata": {},
   "source": [
    "# Part 1: Statistical Analysis of Football Match Results of the 5 Countries that have Played the Most Matches"
   ]
  },
  {
   "cell_type": "markdown",
   "id": "7bf326ad",
   "metadata": {},
   "source": [
    "The following is an analysis of the probability of a country winning or losing a match. The data used includes the results of 43,170 international football matches starting in 1872 up to 2019. The data includes 9 columns which are the date of the match, home team, away team, home team scores, away team scores, name of the tournament, city match was played in, country match was played in, and a true or false column indicating whether the match was played on neutral ground. I have chosen to analyize the match results for the 5 countries that have played the most matches. Those countries are: the United States, France, Malaysia, France, and Sweden. I will find the probability that each of these countries wins a match, home or away, and friendly or official, with a 95% confidence interval. "
   ]
  },
  {
   "cell_type": "code",
   "execution_count": 147,
   "id": "52146ff3",
   "metadata": {},
   "outputs": [],
   "source": [
    "df = pd.read_csv(\"results.csv\")"
   ]
  },
  {
   "cell_type": "code",
   "execution_count": 148,
   "id": "aed2f024",
   "metadata": {},
   "outputs": [
    {
     "data": {
      "text/html": [
       "<div>\n",
       "<style scoped>\n",
       "    .dataframe tbody tr th:only-of-type {\n",
       "        vertical-align: middle;\n",
       "    }\n",
       "\n",
       "    .dataframe tbody tr th {\n",
       "        vertical-align: top;\n",
       "    }\n",
       "\n",
       "    .dataframe thead th {\n",
       "        text-align: right;\n",
       "    }\n",
       "</style>\n",
       "<table border=\"1\" class=\"dataframe\">\n",
       "  <thead>\n",
       "    <tr style=\"text-align: right;\">\n",
       "      <th></th>\n",
       "      <th>date</th>\n",
       "      <th>home_team</th>\n",
       "      <th>away_team</th>\n",
       "      <th>home_score</th>\n",
       "      <th>away_score</th>\n",
       "      <th>tournament</th>\n",
       "      <th>city</th>\n",
       "      <th>country</th>\n",
       "      <th>neutral</th>\n",
       "    </tr>\n",
       "  </thead>\n",
       "  <tbody>\n",
       "    <tr>\n",
       "      <th>0</th>\n",
       "      <td>1872-11-30</td>\n",
       "      <td>Scotland</td>\n",
       "      <td>England</td>\n",
       "      <td>0</td>\n",
       "      <td>0</td>\n",
       "      <td>Friendly</td>\n",
       "      <td>Glasgow</td>\n",
       "      <td>Scotland</td>\n",
       "      <td>False</td>\n",
       "    </tr>\n",
       "    <tr>\n",
       "      <th>1</th>\n",
       "      <td>1873-03-08</td>\n",
       "      <td>England</td>\n",
       "      <td>Scotland</td>\n",
       "      <td>4</td>\n",
       "      <td>2</td>\n",
       "      <td>Friendly</td>\n",
       "      <td>London</td>\n",
       "      <td>England</td>\n",
       "      <td>False</td>\n",
       "    </tr>\n",
       "    <tr>\n",
       "      <th>2</th>\n",
       "      <td>1874-03-07</td>\n",
       "      <td>Scotland</td>\n",
       "      <td>England</td>\n",
       "      <td>2</td>\n",
       "      <td>1</td>\n",
       "      <td>Friendly</td>\n",
       "      <td>Glasgow</td>\n",
       "      <td>Scotland</td>\n",
       "      <td>False</td>\n",
       "    </tr>\n",
       "    <tr>\n",
       "      <th>3</th>\n",
       "      <td>1875-03-06</td>\n",
       "      <td>England</td>\n",
       "      <td>Scotland</td>\n",
       "      <td>2</td>\n",
       "      <td>2</td>\n",
       "      <td>Friendly</td>\n",
       "      <td>London</td>\n",
       "      <td>England</td>\n",
       "      <td>False</td>\n",
       "    </tr>\n",
       "    <tr>\n",
       "      <th>4</th>\n",
       "      <td>1876-03-04</td>\n",
       "      <td>Scotland</td>\n",
       "      <td>England</td>\n",
       "      <td>3</td>\n",
       "      <td>0</td>\n",
       "      <td>Friendly</td>\n",
       "      <td>Glasgow</td>\n",
       "      <td>Scotland</td>\n",
       "      <td>False</td>\n",
       "    </tr>\n",
       "    <tr>\n",
       "      <th>5</th>\n",
       "      <td>1876-03-25</td>\n",
       "      <td>Scotland</td>\n",
       "      <td>Wales</td>\n",
       "      <td>4</td>\n",
       "      <td>0</td>\n",
       "      <td>Friendly</td>\n",
       "      <td>Glasgow</td>\n",
       "      <td>Scotland</td>\n",
       "      <td>False</td>\n",
       "    </tr>\n",
       "    <tr>\n",
       "      <th>6</th>\n",
       "      <td>1877-03-03</td>\n",
       "      <td>England</td>\n",
       "      <td>Scotland</td>\n",
       "      <td>1</td>\n",
       "      <td>3</td>\n",
       "      <td>Friendly</td>\n",
       "      <td>London</td>\n",
       "      <td>England</td>\n",
       "      <td>False</td>\n",
       "    </tr>\n",
       "    <tr>\n",
       "      <th>7</th>\n",
       "      <td>1877-03-05</td>\n",
       "      <td>Wales</td>\n",
       "      <td>Scotland</td>\n",
       "      <td>0</td>\n",
       "      <td>2</td>\n",
       "      <td>Friendly</td>\n",
       "      <td>Wrexham</td>\n",
       "      <td>Wales</td>\n",
       "      <td>False</td>\n",
       "    </tr>\n",
       "    <tr>\n",
       "      <th>8</th>\n",
       "      <td>1878-03-02</td>\n",
       "      <td>Scotland</td>\n",
       "      <td>England</td>\n",
       "      <td>7</td>\n",
       "      <td>2</td>\n",
       "      <td>Friendly</td>\n",
       "      <td>Glasgow</td>\n",
       "      <td>Scotland</td>\n",
       "      <td>False</td>\n",
       "    </tr>\n",
       "    <tr>\n",
       "      <th>9</th>\n",
       "      <td>1878-03-23</td>\n",
       "      <td>Scotland</td>\n",
       "      <td>Wales</td>\n",
       "      <td>9</td>\n",
       "      <td>0</td>\n",
       "      <td>Friendly</td>\n",
       "      <td>Glasgow</td>\n",
       "      <td>Scotland</td>\n",
       "      <td>False</td>\n",
       "    </tr>\n",
       "  </tbody>\n",
       "</table>\n",
       "</div>"
      ],
      "text/plain": [
       "         date home_team away_team  home_score  away_score tournament     city  \\\n",
       "0  1872-11-30  Scotland   England           0           0   Friendly  Glasgow   \n",
       "1  1873-03-08   England  Scotland           4           2   Friendly   London   \n",
       "2  1874-03-07  Scotland   England           2           1   Friendly  Glasgow   \n",
       "3  1875-03-06   England  Scotland           2           2   Friendly   London   \n",
       "4  1876-03-04  Scotland   England           3           0   Friendly  Glasgow   \n",
       "5  1876-03-25  Scotland     Wales           4           0   Friendly  Glasgow   \n",
       "6  1877-03-03   England  Scotland           1           3   Friendly   London   \n",
       "7  1877-03-05     Wales  Scotland           0           2   Friendly  Wrexham   \n",
       "8  1878-03-02  Scotland   England           7           2   Friendly  Glasgow   \n",
       "9  1878-03-23  Scotland     Wales           9           0   Friendly  Glasgow   \n",
       "\n",
       "    country  neutral  \n",
       "0  Scotland    False  \n",
       "1   England    False  \n",
       "2  Scotland    False  \n",
       "3   England    False  \n",
       "4  Scotland    False  \n",
       "5  Scotland    False  \n",
       "6   England    False  \n",
       "7     Wales    False  \n",
       "8  Scotland    False  \n",
       "9  Scotland    False  "
      ]
     },
     "execution_count": 148,
     "metadata": {},
     "output_type": "execute_result"
    }
   ],
   "source": [
    "df.head(10)"
   ]
  },
  {
   "cell_type": "markdown",
   "id": "62082c15",
   "metadata": {},
   "source": [
    "### Results Column"
   ]
  },
  {
   "cell_type": "markdown",
   "id": "981a59fe",
   "metadata": {},
   "source": [
    "The column named 'results' shows the results of the match. It says win if the home team wins and lose if they lose. "
   ]
  },
  {
   "cell_type": "code",
   "execution_count": 149,
   "id": "2238cfdd",
   "metadata": {},
   "outputs": [],
   "source": [
    "x=df['away_score']-df['home_score']\n",
    "conditions = [\n",
    "    (x<0),\n",
    "    (x>0),\n",
    "    (x==0)\n",
    "    ]"
   ]
  },
  {
   "cell_type": "code",
   "execution_count": 150,
   "id": "a61e1077",
   "metadata": {},
   "outputs": [],
   "source": [
    "values= ['win','lose','draw']"
   ]
  },
  {
   "cell_type": "code",
   "execution_count": 151,
   "id": "bd6b08ae",
   "metadata": {},
   "outputs": [],
   "source": [
    "df['result'] = np.select(conditions, values)"
   ]
  },
  {
   "cell_type": "code",
   "execution_count": 152,
   "id": "440c2465",
   "metadata": {},
   "outputs": [
    {
     "data": {
      "text/html": [
       "<div>\n",
       "<style scoped>\n",
       "    .dataframe tbody tr th:only-of-type {\n",
       "        vertical-align: middle;\n",
       "    }\n",
       "\n",
       "    .dataframe tbody tr th {\n",
       "        vertical-align: top;\n",
       "    }\n",
       "\n",
       "    .dataframe thead th {\n",
       "        text-align: right;\n",
       "    }\n",
       "</style>\n",
       "<table border=\"1\" class=\"dataframe\">\n",
       "  <thead>\n",
       "    <tr style=\"text-align: right;\">\n",
       "      <th></th>\n",
       "      <th>date</th>\n",
       "      <th>home_team</th>\n",
       "      <th>away_team</th>\n",
       "      <th>home_score</th>\n",
       "      <th>away_score</th>\n",
       "      <th>tournament</th>\n",
       "      <th>city</th>\n",
       "      <th>country</th>\n",
       "      <th>neutral</th>\n",
       "      <th>result</th>\n",
       "    </tr>\n",
       "  </thead>\n",
       "  <tbody>\n",
       "    <tr>\n",
       "      <th>0</th>\n",
       "      <td>1872-11-30</td>\n",
       "      <td>Scotland</td>\n",
       "      <td>England</td>\n",
       "      <td>0</td>\n",
       "      <td>0</td>\n",
       "      <td>Friendly</td>\n",
       "      <td>Glasgow</td>\n",
       "      <td>Scotland</td>\n",
       "      <td>False</td>\n",
       "      <td>draw</td>\n",
       "    </tr>\n",
       "    <tr>\n",
       "      <th>1</th>\n",
       "      <td>1873-03-08</td>\n",
       "      <td>England</td>\n",
       "      <td>Scotland</td>\n",
       "      <td>4</td>\n",
       "      <td>2</td>\n",
       "      <td>Friendly</td>\n",
       "      <td>London</td>\n",
       "      <td>England</td>\n",
       "      <td>False</td>\n",
       "      <td>win</td>\n",
       "    </tr>\n",
       "    <tr>\n",
       "      <th>2</th>\n",
       "      <td>1874-03-07</td>\n",
       "      <td>Scotland</td>\n",
       "      <td>England</td>\n",
       "      <td>2</td>\n",
       "      <td>1</td>\n",
       "      <td>Friendly</td>\n",
       "      <td>Glasgow</td>\n",
       "      <td>Scotland</td>\n",
       "      <td>False</td>\n",
       "      <td>win</td>\n",
       "    </tr>\n",
       "    <tr>\n",
       "      <th>3</th>\n",
       "      <td>1875-03-06</td>\n",
       "      <td>England</td>\n",
       "      <td>Scotland</td>\n",
       "      <td>2</td>\n",
       "      <td>2</td>\n",
       "      <td>Friendly</td>\n",
       "      <td>London</td>\n",
       "      <td>England</td>\n",
       "      <td>False</td>\n",
       "      <td>draw</td>\n",
       "    </tr>\n",
       "    <tr>\n",
       "      <th>4</th>\n",
       "      <td>1876-03-04</td>\n",
       "      <td>Scotland</td>\n",
       "      <td>England</td>\n",
       "      <td>3</td>\n",
       "      <td>0</td>\n",
       "      <td>Friendly</td>\n",
       "      <td>Glasgow</td>\n",
       "      <td>Scotland</td>\n",
       "      <td>False</td>\n",
       "      <td>win</td>\n",
       "    </tr>\n",
       "    <tr>\n",
       "      <th>5</th>\n",
       "      <td>1876-03-25</td>\n",
       "      <td>Scotland</td>\n",
       "      <td>Wales</td>\n",
       "      <td>4</td>\n",
       "      <td>0</td>\n",
       "      <td>Friendly</td>\n",
       "      <td>Glasgow</td>\n",
       "      <td>Scotland</td>\n",
       "      <td>False</td>\n",
       "      <td>win</td>\n",
       "    </tr>\n",
       "    <tr>\n",
       "      <th>6</th>\n",
       "      <td>1877-03-03</td>\n",
       "      <td>England</td>\n",
       "      <td>Scotland</td>\n",
       "      <td>1</td>\n",
       "      <td>3</td>\n",
       "      <td>Friendly</td>\n",
       "      <td>London</td>\n",
       "      <td>England</td>\n",
       "      <td>False</td>\n",
       "      <td>lose</td>\n",
       "    </tr>\n",
       "    <tr>\n",
       "      <th>7</th>\n",
       "      <td>1877-03-05</td>\n",
       "      <td>Wales</td>\n",
       "      <td>Scotland</td>\n",
       "      <td>0</td>\n",
       "      <td>2</td>\n",
       "      <td>Friendly</td>\n",
       "      <td>Wrexham</td>\n",
       "      <td>Wales</td>\n",
       "      <td>False</td>\n",
       "      <td>lose</td>\n",
       "    </tr>\n",
       "    <tr>\n",
       "      <th>8</th>\n",
       "      <td>1878-03-02</td>\n",
       "      <td>Scotland</td>\n",
       "      <td>England</td>\n",
       "      <td>7</td>\n",
       "      <td>2</td>\n",
       "      <td>Friendly</td>\n",
       "      <td>Glasgow</td>\n",
       "      <td>Scotland</td>\n",
       "      <td>False</td>\n",
       "      <td>win</td>\n",
       "    </tr>\n",
       "    <tr>\n",
       "      <th>9</th>\n",
       "      <td>1878-03-23</td>\n",
       "      <td>Scotland</td>\n",
       "      <td>Wales</td>\n",
       "      <td>9</td>\n",
       "      <td>0</td>\n",
       "      <td>Friendly</td>\n",
       "      <td>Glasgow</td>\n",
       "      <td>Scotland</td>\n",
       "      <td>False</td>\n",
       "      <td>win</td>\n",
       "    </tr>\n",
       "  </tbody>\n",
       "</table>\n",
       "</div>"
      ],
      "text/plain": [
       "         date home_team away_team  home_score  away_score tournament     city  \\\n",
       "0  1872-11-30  Scotland   England           0           0   Friendly  Glasgow   \n",
       "1  1873-03-08   England  Scotland           4           2   Friendly   London   \n",
       "2  1874-03-07  Scotland   England           2           1   Friendly  Glasgow   \n",
       "3  1875-03-06   England  Scotland           2           2   Friendly   London   \n",
       "4  1876-03-04  Scotland   England           3           0   Friendly  Glasgow   \n",
       "5  1876-03-25  Scotland     Wales           4           0   Friendly  Glasgow   \n",
       "6  1877-03-03   England  Scotland           1           3   Friendly   London   \n",
       "7  1877-03-05     Wales  Scotland           0           2   Friendly  Wrexham   \n",
       "8  1878-03-02  Scotland   England           7           2   Friendly  Glasgow   \n",
       "9  1878-03-23  Scotland     Wales           9           0   Friendly  Glasgow   \n",
       "\n",
       "    country  neutral result  \n",
       "0  Scotland    False   draw  \n",
       "1   England    False    win  \n",
       "2  Scotland    False    win  \n",
       "3   England    False   draw  \n",
       "4  Scotland    False    win  \n",
       "5  Scotland    False    win  \n",
       "6   England    False   lose  \n",
       "7     Wales    False   lose  \n",
       "8  Scotland    False    win  \n",
       "9  Scotland    False    win  "
      ]
     },
     "execution_count": 152,
     "metadata": {},
     "output_type": "execute_result"
    }
   ],
   "source": [
    "df.head(10)"
   ]
  },
  {
   "cell_type": "markdown",
   "id": "466dcfc8",
   "metadata": {},
   "source": [
    "### Probability that the home team wins"
   ]
  },
  {
   "cell_type": "markdown",
   "id": "f6d1a193",
   "metadata": {},
   "source": [
    "95% confidence interval of the probability that the home team wins and that the home team loses and that the match ends in a draw"
   ]
  },
  {
   "cell_type": "code",
   "execution_count": 159,
   "id": "9f87221c",
   "metadata": {},
   "outputs": [],
   "source": [
    "x=df['result'].value_counts()\n",
    "x=np.array(x)"
   ]
  },
  {
   "cell_type": "code",
   "execution_count": 160,
   "id": "54f7444b",
   "metadata": {},
   "outputs": [],
   "source": [
    "N=x.sum()"
   ]
  },
  {
   "cell_type": "code",
   "execution_count": 161,
   "id": "598b2385",
   "metadata": {},
   "outputs": [
    {
     "data": {
      "text/plain": [
       "(0.27879305599044235, 0.28729011526083115)"
      ]
     },
     "execution_count": 161,
     "metadata": {},
     "output_type": "execute_result"
    }
   ],
   "source": [
    "CI_win=proportion_confint(count=x[1],nobs=N,alpha=(1-.95))\n",
    "CI_win"
   ]
  },
  {
   "cell_type": "code",
   "execution_count": 162,
   "id": "9d44d41e",
   "metadata": {},
   "outputs": [
    {
     "data": {
      "text/plain": [
       "(0.481740705905987, 0.49116843552218753)"
      ]
     },
     "execution_count": 162,
     "metadata": {},
     "output_type": "execute_result"
    }
   ],
   "source": [
    "CI_lose=proportion_confint(count=x[0],nobs=N,alpha=(1-.95))\n",
    "CI_lose"
   ]
  },
  {
   "cell_type": "code",
   "execution_count": 163,
   "id": "efd908df",
   "metadata": {},
   "outputs": [
    {
     "data": {
      "text/plain": [
       "(0.2265318471530234, 0.23447584016752862)"
      ]
     },
     "execution_count": 163,
     "metadata": {},
     "output_type": "execute_result"
    }
   ],
   "source": [
    "CI_draw=proportion_confint(count=x[2],nobs=N,alpha=(1-.95))\n",
    "CI_draw"
   ]
  },
  {
   "cell_type": "code",
   "execution_count": 179,
   "id": "dd50e8b3",
   "metadata": {},
   "outputs": [
    {
     "data": {
      "text/plain": [
       "['United States',\n",
       " 'France',\n",
       " 'Malaysia',\n",
       " 'England',\n",
       " 'Sweden',\n",
       " 'Germany',\n",
       " 'Brazil',\n",
       " 'Qatar',\n",
       " 'Spain',\n",
       " 'United Arab Emirates']"
      ]
     },
     "execution_count": 179,
     "metadata": {},
     "output_type": "execute_result"
    }
   ],
   "source": [
    "n = 10\n",
    "df['country'].value_counts()[:n].index.tolist()"
   ]
  },
  {
   "cell_type": "markdown",
   "id": "153371e3",
   "metadata": {},
   "source": [
    "### The United States"
   ]
  },
  {
   "cell_type": "code",
   "execution_count": 180,
   "id": "e2ad73a3",
   "metadata": {},
   "outputs": [
    {
     "data": {
      "text/html": [
       "<div>\n",
       "<style scoped>\n",
       "    .dataframe tbody tr th:only-of-type {\n",
       "        vertical-align: middle;\n",
       "    }\n",
       "\n",
       "    .dataframe tbody tr th {\n",
       "        vertical-align: top;\n",
       "    }\n",
       "\n",
       "    .dataframe thead th {\n",
       "        text-align: right;\n",
       "    }\n",
       "</style>\n",
       "<table border=\"1\" class=\"dataframe\">\n",
       "  <thead>\n",
       "    <tr style=\"text-align: right;\">\n",
       "      <th></th>\n",
       "      <th>date</th>\n",
       "      <th>home_team</th>\n",
       "      <th>away_team</th>\n",
       "      <th>home_score</th>\n",
       "      <th>away_score</th>\n",
       "      <th>tournament</th>\n",
       "      <th>city</th>\n",
       "      <th>country</th>\n",
       "      <th>neutral</th>\n",
       "      <th>result</th>\n",
       "    </tr>\n",
       "  </thead>\n",
       "  <tbody>\n",
       "    <tr>\n",
       "      <th>41</th>\n",
       "      <td>1885-11-28</td>\n",
       "      <td>United States</td>\n",
       "      <td>Canada</td>\n",
       "      <td>0</td>\n",
       "      <td>1</td>\n",
       "      <td>Friendly</td>\n",
       "      <td>Newark</td>\n",
       "      <td>United States</td>\n",
       "      <td>False</td>\n",
       "      <td>lose</td>\n",
       "    </tr>\n",
       "    <tr>\n",
       "      <th>48</th>\n",
       "      <td>1886-11-25</td>\n",
       "      <td>United States</td>\n",
       "      <td>Canada</td>\n",
       "      <td>3</td>\n",
       "      <td>2</td>\n",
       "      <td>Friendly</td>\n",
       "      <td>Newark</td>\n",
       "      <td>United States</td>\n",
       "      <td>False</td>\n",
       "      <td>win</td>\n",
       "    </tr>\n",
       "    <tr>\n",
       "      <th>935</th>\n",
       "      <td>11/8/1925</td>\n",
       "      <td>United States</td>\n",
       "      <td>Canada</td>\n",
       "      <td>6</td>\n",
       "      <td>1</td>\n",
       "      <td>Friendly</td>\n",
       "      <td>New York</td>\n",
       "      <td>United States</td>\n",
       "      <td>False</td>\n",
       "      <td>win</td>\n",
       "    </tr>\n",
       "    <tr>\n",
       "      <th>1022</th>\n",
       "      <td>11/6/1926</td>\n",
       "      <td>United States</td>\n",
       "      <td>Canada</td>\n",
       "      <td>6</td>\n",
       "      <td>2</td>\n",
       "      <td>Friendly</td>\n",
       "      <td>New York</td>\n",
       "      <td>United States</td>\n",
       "      <td>False</td>\n",
       "      <td>win</td>\n",
       "    </tr>\n",
       "    <tr>\n",
       "      <th>1790</th>\n",
       "      <td>5/19/1935</td>\n",
       "      <td>United States</td>\n",
       "      <td>Scotland</td>\n",
       "      <td>1</td>\n",
       "      <td>5</td>\n",
       "      <td>Friendly</td>\n",
       "      <td>New York</td>\n",
       "      <td>United States</td>\n",
       "      <td>False</td>\n",
       "      <td>lose</td>\n",
       "    </tr>\n",
       "  </tbody>\n",
       "</table>\n",
       "</div>"
      ],
      "text/plain": [
       "            date      home_team away_team  home_score  away_score tournament  \\\n",
       "41    1885-11-28  United States    Canada           0           1   Friendly   \n",
       "48    1886-11-25  United States    Canada           3           2   Friendly   \n",
       "935    11/8/1925  United States    Canada           6           1   Friendly   \n",
       "1022   11/6/1926  United States    Canada           6           2   Friendly   \n",
       "1790   5/19/1935  United States  Scotland           1           5   Friendly   \n",
       "\n",
       "          city        country  neutral result  \n",
       "41      Newark  United States    False   lose  \n",
       "48      Newark  United States    False    win  \n",
       "935   New York  United States    False    win  \n",
       "1022  New York  United States    False    win  \n",
       "1790  New York  United States    False   lose  "
      ]
     },
     "execution_count": 180,
     "metadata": {},
     "output_type": "execute_result"
    }
   ],
   "source": [
    "dfus=df[df['country']=='United States']\n",
    "dfus.head()"
   ]
  },
  {
   "cell_type": "code",
   "execution_count": 181,
   "id": "46679511",
   "metadata": {},
   "outputs": [
    {
     "name": "stderr",
     "output_type": "stream",
     "text": [
      "/var/folders/9p/lclsymtn1cz8pt0m19455t0r0000gn/T/ipykernel_61469/3054155073.py:1: SettingWithCopyWarning: \n",
      "A value is trying to be set on a copy of a slice from a DataFrame.\n",
      "Try using .loc[row_indexer,col_indexer] = value instead\n",
      "\n",
      "See the caveats in the documentation: https://pandas.pydata.org/pandas-docs/stable/user_guide/indexing.html#returning-a-view-versus-a-copy\n",
      "  dfus['home']=(dfus['home_team']=='United States')\n"
     ]
    }
   ],
   "source": [
    "dfus['home']=(dfus['home_team']=='United States')"
   ]
  },
  {
   "cell_type": "code",
   "execution_count": 182,
   "id": "1472ea1f",
   "metadata": {},
   "outputs": [
    {
     "data": {
      "text/plain": [
       "False    826\n",
       "True     411\n",
       "Name: home, dtype: int64"
      ]
     },
     "execution_count": 182,
     "metadata": {},
     "output_type": "execute_result"
    }
   ],
   "source": [
    "dfus['home'].value_counts()"
   ]
  },
  {
   "cell_type": "code",
   "execution_count": 183,
   "id": "63b239c6",
   "metadata": {},
   "outputs": [
    {
     "data": {
      "text/html": [
       "<div>\n",
       "<style scoped>\n",
       "    .dataframe tbody tr th:only-of-type {\n",
       "        vertical-align: middle;\n",
       "    }\n",
       "\n",
       "    .dataframe tbody tr th {\n",
       "        vertical-align: top;\n",
       "    }\n",
       "\n",
       "    .dataframe thead th {\n",
       "        text-align: right;\n",
       "    }\n",
       "</style>\n",
       "<table border=\"1\" class=\"dataframe\">\n",
       "  <thead>\n",
       "    <tr style=\"text-align: right;\">\n",
       "      <th>result</th>\n",
       "      <th>draw</th>\n",
       "      <th>lose</th>\n",
       "      <th>win</th>\n",
       "      <th>All</th>\n",
       "    </tr>\n",
       "    <tr>\n",
       "      <th>home</th>\n",
       "      <th></th>\n",
       "      <th></th>\n",
       "      <th></th>\n",
       "      <th></th>\n",
       "    </tr>\n",
       "  </thead>\n",
       "  <tbody>\n",
       "    <tr>\n",
       "      <th>False</th>\n",
       "      <td>203</td>\n",
       "      <td>290</td>\n",
       "      <td>333</td>\n",
       "      <td>826</td>\n",
       "    </tr>\n",
       "    <tr>\n",
       "      <th>True</th>\n",
       "      <td>91</td>\n",
       "      <td>91</td>\n",
       "      <td>229</td>\n",
       "      <td>411</td>\n",
       "    </tr>\n",
       "    <tr>\n",
       "      <th>All</th>\n",
       "      <td>294</td>\n",
       "      <td>381</td>\n",
       "      <td>562</td>\n",
       "      <td>1237</td>\n",
       "    </tr>\n",
       "  </tbody>\n",
       "</table>\n",
       "</div>"
      ],
      "text/plain": [
       "result  draw  lose  win   All\n",
       "home                         \n",
       "False    203   290  333   826\n",
       "True      91    91  229   411\n",
       "All      294   381  562  1237"
      ]
     },
     "execution_count": 183,
     "metadata": {},
     "output_type": "execute_result"
    }
   ],
   "source": [
    "x=pd.crosstab(dfus['home'],dfus['result'],margins=True)\n",
    "x"
   ]
  },
  {
   "cell_type": "code",
   "execution_count": 184,
   "id": "b1cfa4ab",
   "metadata": {},
   "outputs": [
    {
     "data": {
      "text/plain": [
       "array([[ 203,  290,  333,  826],\n",
       "       [  91,   91,  229,  411],\n",
       "       [ 294,  381,  562, 1237]])"
      ]
     },
     "execution_count": 184,
     "metadata": {},
     "output_type": "execute_result"
    }
   ],
   "source": [
    "x=np.array(x)\n",
    "x"
   ]
  },
  {
   "cell_type": "code",
   "execution_count": 185,
   "id": "a0f77d3d",
   "metadata": {},
   "outputs": [
    {
     "data": {
      "text/plain": [
       "(0.5091557759095878, 0.6051994552339645)"
      ]
     },
     "execution_count": 185,
     "metadata": {},
     "output_type": "execute_result"
    }
   ],
   "source": [
    "CI_uswin_home=proportion_confint(count=x[1,2],nobs=x[1,3],alpha=(1-.95))\n",
    "CI_uswin_home"
   ]
  },
  {
   "cell_type": "code",
   "execution_count": 186,
   "id": "0455139d",
   "metadata": {},
   "outputs": [
    {
     "data": {
      "text/plain": [
       "(0.3696955835778047, 0.4365998159379338)"
      ]
     },
     "execution_count": 186,
     "metadata": {},
     "output_type": "execute_result"
    }
   ],
   "source": [
    "CI_uswin_away=proportion_confint(count=x[0,2],nobs=x[0,3],alpha=(1-.95))\n",
    "CI_uswin_away"
   ]
  },
  {
   "cell_type": "code",
   "execution_count": 187,
   "id": "776a9a54",
   "metadata": {},
   "outputs": [
    {
     "data": {
      "text/html": [
       "<div>\n",
       "<style scoped>\n",
       "    .dataframe tbody tr th:only-of-type {\n",
       "        vertical-align: middle;\n",
       "    }\n",
       "\n",
       "    .dataframe tbody tr th {\n",
       "        vertical-align: top;\n",
       "    }\n",
       "\n",
       "    .dataframe thead th {\n",
       "        text-align: right;\n",
       "    }\n",
       "</style>\n",
       "<table border=\"1\" class=\"dataframe\">\n",
       "  <thead>\n",
       "    <tr style=\"text-align: right;\">\n",
       "      <th></th>\n",
       "      <th>home</th>\n",
       "      <th>lb</th>\n",
       "      <th>ub</th>\n",
       "    </tr>\n",
       "  </thead>\n",
       "  <tbody>\n",
       "    <tr>\n",
       "      <th>0</th>\n",
       "      <td>Yes</td>\n",
       "      <td>0.509156</td>\n",
       "      <td>0.605199</td>\n",
       "    </tr>\n",
       "    <tr>\n",
       "      <th>1</th>\n",
       "      <td>No</td>\n",
       "      <td>0.369696</td>\n",
       "      <td>0.436600</td>\n",
       "    </tr>\n",
       "  </tbody>\n",
       "</table>\n",
       "</div>"
      ],
      "text/plain": [
       "  home        lb        ub\n",
       "0  Yes  0.509156  0.605199\n",
       "1   No  0.369696  0.436600"
      ]
     },
     "execution_count": 187,
     "metadata": {},
     "output_type": "execute_result"
    }
   ],
   "source": [
    "ci_uswin = {}\n",
    "ci_uswin['home'] = ['Yes','No']\n",
    "ci_uswin['lb'] = [CI_uswin_home[0],CI_uswin_away[0]]\n",
    "ci_uswin['ub'] = [CI_uswin_home[1],CI_uswin_away[1]]\n",
    "df_ci= pd.DataFrame(ci_uswin)\n",
    "df_ci"
   ]
  },
  {
   "cell_type": "code",
   "execution_count": 188,
   "id": "9379bebf",
   "metadata": {
    "scrolled": true
   },
   "outputs": [
    {
     "data": {
      "text/plain": [
       "([<matplotlib.axis.YTick at 0x7fef944ba1f0>,\n",
       "  <matplotlib.axis.YTick at 0x7fef944b4a30>],\n",
       " [Text(0, 0, 'Yes'), Text(0, 1, 'No')])"
      ]
     },
     "execution_count": 188,
     "metadata": {},
     "output_type": "execute_result"
    },
    {
     "data": {
      "image/png": "[encoded data removed]",
      "text/plain": [
       "<Figure size 432x288 with 1 Axes>"
      ]
     },
     "metadata": {
      "needs_background": "light"
     },
     "output_type": "display_data"
    }
   ],
   "source": [
    "for lb,ub,y in zip(df_ci['lb'],df_ci['ub'],range(len(df_ci))):\n",
    "    plt.plot((lb,ub),(y,y),'ro-')\n",
    "plt.yticks(range(len(df_ci)),list(df_ci['home']))"
   ]
  },
  {
   "cell_type": "markdown",
   "id": "b3ed4886",
   "metadata": {},
   "source": [
    "The probability of the United States Football team winning a home game is between (0.5091557759095878, 0.6051994552339645), while the probability of them winning an away game is between (0.3696955835778047, 0.4365998159379338). The probability of them winning a home game is clearly higher, which shows that the US team clearly has an advantage when playing inside the US. This could be due to a number of reasons, including the fans. In the US, most fans will be cheering for them, boosting moral. At away games, fans are less likley to cheer for them and so their moral is lower. "
   ]
  },
  {
   "cell_type": "code",
   "execution_count": 245,
   "id": "5aeecbb2",
   "metadata": {},
   "outputs": [],
   "source": [
    "conditions = [\n",
    "    (dfus['tournament']=='Friendly'),\n",
    "    (dfus['tournament']!='Friendly')\n",
    "    ]\n",
    "values=['Friendly','Official']"
   ]
  },
  {
   "cell_type": "code",
   "execution_count": 246,
   "id": "12240f43",
   "metadata": {},
   "outputs": [
    {
     "name": "stderr",
     "output_type": "stream",
     "text": [
      "/var/folders/9p/lclsymtn1cz8pt0m19455t0r0000gn/T/ipykernel_61469/2674874851.py:1: SettingWithCopyWarning: \n",
      "A value is trying to be set on a copy of a slice from a DataFrame.\n",
      "Try using .loc[row_indexer,col_indexer] = value instead\n",
      "\n",
      "See the caveats in the documentation: https://pandas.pydata.org/pandas-docs/stable/user_guide/indexing.html#returning-a-view-versus-a-copy\n",
      "  dfus['typematch'] = np.select(conditions, values)\n"
     ]
    },
    {
     "data": {
      "text/plain": [
       "Friendly    653\n",
       "Official    584\n",
       "Name: typematch, dtype: int64"
      ]
     },
     "execution_count": 246,
     "metadata": {},
     "output_type": "execute_result"
    }
   ],
   "source": [
    "dfus['typematch'] = np.select(conditions, values)\n",
    "dfus['typematch'].value_counts()"
   ]
  },
  {
   "cell_type": "code",
   "execution_count": 250,
   "id": "ef43bc2b",
   "metadata": {},
   "outputs": [
    {
     "data": {
      "text/html": [
       "<div>\n",
       "<style scoped>\n",
       "    .dataframe tbody tr th:only-of-type {\n",
       "        vertical-align: middle;\n",
       "    }\n",
       "\n",
       "    .dataframe tbody tr th {\n",
       "        vertical-align: top;\n",
       "    }\n",
       "\n",
       "    .dataframe thead th {\n",
       "        text-align: right;\n",
       "    }\n",
       "</style>\n",
       "<table border=\"1\" class=\"dataframe\">\n",
       "  <thead>\n",
       "    <tr style=\"text-align: right;\">\n",
       "      <th>result</th>\n",
       "      <th>draw</th>\n",
       "      <th>lose</th>\n",
       "      <th>win</th>\n",
       "      <th>All</th>\n",
       "    </tr>\n",
       "    <tr>\n",
       "      <th>typematch</th>\n",
       "      <th></th>\n",
       "      <th></th>\n",
       "      <th></th>\n",
       "      <th></th>\n",
       "    </tr>\n",
       "  </thead>\n",
       "  <tbody>\n",
       "    <tr>\n",
       "      <th>Friendly</th>\n",
       "      <td>180</td>\n",
       "      <td>226</td>\n",
       "      <td>247</td>\n",
       "      <td>653</td>\n",
       "    </tr>\n",
       "    <tr>\n",
       "      <th>Official</th>\n",
       "      <td>114</td>\n",
       "      <td>155</td>\n",
       "      <td>315</td>\n",
       "      <td>584</td>\n",
       "    </tr>\n",
       "    <tr>\n",
       "      <th>All</th>\n",
       "      <td>294</td>\n",
       "      <td>381</td>\n",
       "      <td>562</td>\n",
       "      <td>1237</td>\n",
       "    </tr>\n",
       "  </tbody>\n",
       "</table>\n",
       "</div>"
      ],
      "text/plain": [
       "result     draw  lose  win   All\n",
       "typematch                       \n",
       "Friendly    180   226  247   653\n",
       "Official    114   155  315   584\n",
       "All         294   381  562  1237"
      ]
     },
     "execution_count": 250,
     "metadata": {},
     "output_type": "execute_result"
    }
   ],
   "source": [
    "x=pd.crosstab(dfus['typematch'],dfus['result'],margins=True)\n",
    "x"
   ]
  },
  {
   "cell_type": "code",
   "execution_count": 251,
   "id": "416bb2b5",
   "metadata": {},
   "outputs": [
    {
     "data": {
      "text/plain": [
       "array([[ 180,  226,  247,  653],\n",
       "       [ 114,  155,  315,  584],\n",
       "       [ 294,  381,  562, 1237]])"
      ]
     },
     "execution_count": 251,
     "metadata": {},
     "output_type": "execute_result"
    }
   ],
   "source": [
    "x=np.array(x)\n",
    "x"
   ]
  },
  {
   "cell_type": "code",
   "execution_count": 252,
   "id": "694b49fd",
   "metadata": {},
   "outputs": [
    {
     "data": {
      "text/plain": [
       "(0.3410587617395715, 0.4154496609250533)"
      ]
     },
     "execution_count": 252,
     "metadata": {},
     "output_type": "execute_result"
    }
   ],
   "source": [
    "CI_uswin_friendly=proportion_confint(count=x[0,2],nobs=x[0,3],alpha=(1-.95))\n",
    "CI_uswin_friendly"
   ]
  },
  {
   "cell_type": "code",
   "execution_count": 253,
   "id": "966ffcb9",
   "metadata": {},
   "outputs": [
    {
     "data": {
      "text/plain": [
       "(0.4989576113893054, 0.5798095118983658)"
      ]
     },
     "execution_count": 253,
     "metadata": {},
     "output_type": "execute_result"
    }
   ],
   "source": [
    "CI_uswin_official=proportion_confint(count=x[1,2],nobs=x[1,3],alpha=(1-.95))\n",
    "CI_uswin_official"
   ]
  },
  {
   "cell_type": "code",
   "execution_count": 254,
   "id": "459430d2",
   "metadata": {},
   "outputs": [
    {
     "data": {
      "text/html": [
       "<div>\n",
       "<style scoped>\n",
       "    .dataframe tbody tr th:only-of-type {\n",
       "        vertical-align: middle;\n",
       "    }\n",
       "\n",
       "    .dataframe tbody tr th {\n",
       "        vertical-align: top;\n",
       "    }\n",
       "\n",
       "    .dataframe thead th {\n",
       "        text-align: right;\n",
       "    }\n",
       "</style>\n",
       "<table border=\"1\" class=\"dataframe\">\n",
       "  <thead>\n",
       "    <tr style=\"text-align: right;\">\n",
       "      <th></th>\n",
       "      <th>Typematch</th>\n",
       "      <th>lb</th>\n",
       "      <th>ub</th>\n",
       "    </tr>\n",
       "  </thead>\n",
       "  <tbody>\n",
       "    <tr>\n",
       "      <th>0</th>\n",
       "      <td>Friendly</td>\n",
       "      <td>0.341059</td>\n",
       "      <td>0.41545</td>\n",
       "    </tr>\n",
       "    <tr>\n",
       "      <th>1</th>\n",
       "      <td>Official</td>\n",
       "      <td>0.498958</td>\n",
       "      <td>0.57981</td>\n",
       "    </tr>\n",
       "  </tbody>\n",
       "</table>\n",
       "</div>"
      ],
      "text/plain": [
       "  Typematch        lb       ub\n",
       "0  Friendly  0.341059  0.41545\n",
       "1  Official  0.498958  0.57981"
      ]
     },
     "execution_count": 254,
     "metadata": {},
     "output_type": "execute_result"
    }
   ],
   "source": [
    "ci_uswin = {}\n",
    "ci_uswin['Typematch'] = ['Friendly','Official']\n",
    "ci_uswin['lb'] = [CI_uswin_friendly[0],CI_uswin_official[0]]\n",
    "ci_uswin['ub'] = [CI_uswin_friendly[1],CI_uswin_official[1]]\n",
    "df_ci= pd.DataFrame(ci_uswin)\n",
    "df_ci"
   ]
  },
  {
   "cell_type": "code",
   "execution_count": 255,
   "id": "b528b5a3",
   "metadata": {},
   "outputs": [
    {
     "data": {
      "text/plain": [
       "([<matplotlib.axis.YTick at 0x7fef946e1430>,\n",
       "  <matplotlib.axis.YTick at 0x7fef9467fc70>],\n",
       " [Text(0, 0, 'Friendly'), Text(0, 1, 'Official')])"
      ]
     },
     "execution_count": 255,
     "metadata": {},
     "output_type": "execute_result"
    },
    {
     "data": {
      "image/png": "[encoded data removed]",
      "text/plain": [
       "<Figure size 432x288 with 1 Axes>"
      ]
     },
     "metadata": {
      "needs_background": "light"
     },
     "output_type": "display_data"
    }
   ],
   "source": [
    "import matplotlib.pyplot as plt\n",
    "for lb,ub,y in zip(df_ci['lb'],df_ci['ub'],range(len(df_ci))):\n",
    "    plt.plot((lb,ub),(y,y),'ro-')\n",
    "plt.yticks(range(len(df_ci)),list(df_ci['Typematch']))"
   ]
  },
  {
   "cell_type": "markdown",
   "id": "fa1535c6",
   "metadata": {},
   "source": [
    "The probability of the US football team winning a friendly game is (0.3410587617395715, 0.4154496609250533), while the probability of winning an official match is (0.4989576113893054, 0.5798095118983658). The probability of winning an official match is significantly higher than the probability of winning a friendsly match, which might indicate that the players are more relaxed during a friendly game and are less likley to strain themselves to win. "
   ]
  },
  {
   "cell_type": "markdown",
   "id": "b7549981",
   "metadata": {},
   "source": [
    "### France"
   ]
  },
  {
   "cell_type": "code",
   "execution_count": 40,
   "id": "a4da6b27",
   "metadata": {},
   "outputs": [
    {
     "data": {
      "text/html": [
       "<div>\n",
       "<style scoped>\n",
       "    .dataframe tbody tr th:only-of-type {\n",
       "        vertical-align: middle;\n",
       "    }\n",
       "\n",
       "    .dataframe tbody tr th {\n",
       "        vertical-align: top;\n",
       "    }\n",
       "\n",
       "    .dataframe thead th {\n",
       "        text-align: right;\n",
       "    }\n",
       "</style>\n",
       "<table border=\"1\" class=\"dataframe\">\n",
       "  <thead>\n",
       "    <tr style=\"text-align: right;\">\n",
       "      <th></th>\n",
       "      <th>date</th>\n",
       "      <th>home_team</th>\n",
       "      <th>away_team</th>\n",
       "      <th>home_score</th>\n",
       "      <th>away_score</th>\n",
       "      <th>tournament</th>\n",
       "      <th>city</th>\n",
       "      <th>country</th>\n",
       "      <th>neutral</th>\n",
       "      <th>result</th>\n",
       "    </tr>\n",
       "  </thead>\n",
       "  <tbody>\n",
       "    <tr>\n",
       "      <th>166</th>\n",
       "      <td>2/12/1905</td>\n",
       "      <td>France</td>\n",
       "      <td>Switzerland</td>\n",
       "      <td>1</td>\n",
       "      <td>0</td>\n",
       "      <td>Friendly</td>\n",
       "      <td>Paris</td>\n",
       "      <td>France</td>\n",
       "      <td>False</td>\n",
       "      <td>lose</td>\n",
       "    </tr>\n",
       "    <tr>\n",
       "      <th>185</th>\n",
       "      <td>4/22/1906</td>\n",
       "      <td>France</td>\n",
       "      <td>Belgium</td>\n",
       "      <td>0</td>\n",
       "      <td>5</td>\n",
       "      <td>Friendly</td>\n",
       "      <td>Saint-Cloud</td>\n",
       "      <td>France</td>\n",
       "      <td>False</td>\n",
       "      <td>win</td>\n",
       "    </tr>\n",
       "    <tr>\n",
       "      <th>215</th>\n",
       "      <td>4/12/1908</td>\n",
       "      <td>France</td>\n",
       "      <td>Belgium</td>\n",
       "      <td>1</td>\n",
       "      <td>2</td>\n",
       "      <td>Friendly</td>\n",
       "      <td>Colombes</td>\n",
       "      <td>France</td>\n",
       "      <td>False</td>\n",
       "      <td>win</td>\n",
       "    </tr>\n",
       "    <tr>\n",
       "      <th>257</th>\n",
       "      <td>4/3/1910</td>\n",
       "      <td>France</td>\n",
       "      <td>Belgium</td>\n",
       "      <td>0</td>\n",
       "      <td>4</td>\n",
       "      <td>Friendly</td>\n",
       "      <td>Gentilly</td>\n",
       "      <td>France</td>\n",
       "      <td>False</td>\n",
       "      <td>win</td>\n",
       "    </tr>\n",
       "    <tr>\n",
       "      <th>277</th>\n",
       "      <td>1/1/1911</td>\n",
       "      <td>France</td>\n",
       "      <td>Hungary</td>\n",
       "      <td>0</td>\n",
       "      <td>3</td>\n",
       "      <td>Friendly</td>\n",
       "      <td>Maisons-Alfort</td>\n",
       "      <td>France</td>\n",
       "      <td>False</td>\n",
       "      <td>win</td>\n",
       "    </tr>\n",
       "  </tbody>\n",
       "</table>\n",
       "</div>"
      ],
      "text/plain": [
       "          date home_team    away_team  home_score  away_score tournament  \\\n",
       "166  2/12/1905    France  Switzerland           1           0   Friendly   \n",
       "185  4/22/1906    France      Belgium           0           5   Friendly   \n",
       "215  4/12/1908    France      Belgium           1           2   Friendly   \n",
       "257   4/3/1910    France      Belgium           0           4   Friendly   \n",
       "277   1/1/1911    France      Hungary           0           3   Friendly   \n",
       "\n",
       "               city country  neutral result  \n",
       "166           Paris  France    False   lose  \n",
       "185     Saint-Cloud  France    False    win  \n",
       "215        Colombes  France    False    win  \n",
       "257        Gentilly  France    False    win  \n",
       "277  Maisons-Alfort  France    False    win  "
      ]
     },
     "execution_count": 40,
     "metadata": {},
     "output_type": "execute_result"
    }
   ],
   "source": [
    "df_fr=df[df['country']=='France']\n",
    "df_fr.head()"
   ]
  },
  {
   "cell_type": "code",
   "execution_count": 41,
   "id": "226120ab",
   "metadata": {},
   "outputs": [
    {
     "name": "stderr",
     "output_type": "stream",
     "text": [
      "/var/folders/9p/lclsymtn1cz8pt0m19455t0r0000gn/T/ipykernel_61469/4294217149.py:1: SettingWithCopyWarning: \n",
      "A value is trying to be set on a copy of a slice from a DataFrame.\n",
      "Try using .loc[row_indexer,col_indexer] = value instead\n",
      "\n",
      "See the caveats in the documentation: https://pandas.pydata.org/pandas-docs/stable/user_guide/indexing.html#returning-a-view-versus-a-copy\n",
      "  df_fr['home']=(df_fr['home_team']=='France')\n"
     ]
    }
   ],
   "source": [
    "df_fr['home']=(df_fr['home_team']=='France')"
   ]
  },
  {
   "cell_type": "code",
   "execution_count": 42,
   "id": "11177757",
   "metadata": {},
   "outputs": [
    {
     "data": {
      "text/plain": [
       "True     443\n",
       "False    375\n",
       "Name: home, dtype: int64"
      ]
     },
     "execution_count": 42,
     "metadata": {},
     "output_type": "execute_result"
    }
   ],
   "source": [
    "df_fr['home'].value_counts()"
   ]
  },
  {
   "cell_type": "code",
   "execution_count": 196,
   "id": "b8f52d9d",
   "metadata": {},
   "outputs": [
    {
     "data": {
      "text/html": [
       "<div>\n",
       "<style scoped>\n",
       "    .dataframe tbody tr th:only-of-type {\n",
       "        vertical-align: middle;\n",
       "    }\n",
       "\n",
       "    .dataframe tbody tr th {\n",
       "        vertical-align: top;\n",
       "    }\n",
       "\n",
       "    .dataframe thead th {\n",
       "        text-align: right;\n",
       "    }\n",
       "</style>\n",
       "<table border=\"1\" class=\"dataframe\">\n",
       "  <thead>\n",
       "    <tr style=\"text-align: right;\">\n",
       "      <th>result</th>\n",
       "      <th>draw</th>\n",
       "      <th>lose</th>\n",
       "      <th>win</th>\n",
       "      <th>All</th>\n",
       "    </tr>\n",
       "    <tr>\n",
       "      <th>home</th>\n",
       "      <th></th>\n",
       "      <th></th>\n",
       "      <th></th>\n",
       "      <th></th>\n",
       "    </tr>\n",
       "  </thead>\n",
       "  <tbody>\n",
       "    <tr>\n",
       "      <th>False</th>\n",
       "      <td>100</td>\n",
       "      <td>157</td>\n",
       "      <td>118</td>\n",
       "      <td>375</td>\n",
       "    </tr>\n",
       "    <tr>\n",
       "      <th>True</th>\n",
       "      <td>89</td>\n",
       "      <td>260</td>\n",
       "      <td>94</td>\n",
       "      <td>443</td>\n",
       "    </tr>\n",
       "    <tr>\n",
       "      <th>All</th>\n",
       "      <td>189</td>\n",
       "      <td>417</td>\n",
       "      <td>212</td>\n",
       "      <td>818</td>\n",
       "    </tr>\n",
       "  </tbody>\n",
       "</table>\n",
       "</div>"
      ],
      "text/plain": [
       "result  draw  lose  win  All\n",
       "home                        \n",
       "False    100   157  118  375\n",
       "True      89   260   94  443\n",
       "All      189   417  212  818"
      ]
     },
     "execution_count": 196,
     "metadata": {},
     "output_type": "execute_result"
    }
   ],
   "source": [
    "x=pd.crosstab(df_fr['home'],df_fr['result'],margins=True)\n",
    "x"
   ]
  },
  {
   "cell_type": "code",
   "execution_count": 44,
   "id": "667ccdc1",
   "metadata": {},
   "outputs": [
    {
     "data": {
      "text/plain": [
       "array([[100, 157, 118, 375],\n",
       "       [ 89, 260,  94, 443],\n",
       "       [189, 417, 212, 818]])"
      ]
     },
     "execution_count": 44,
     "metadata": {},
     "output_type": "execute_result"
    }
   ],
   "source": [
    "x=np.array(x)\n",
    "x"
   ]
  },
  {
   "cell_type": "code",
   "execution_count": 47,
   "id": "fef115ef",
   "metadata": {},
   "outputs": [
    {
     "data": {
      "text/plain": [
       "(0.17411643713822142, 0.2502627953674219)"
      ]
     },
     "execution_count": 47,
     "metadata": {},
     "output_type": "execute_result"
    }
   ],
   "source": [
    "CI_fr_win_home=proportion_confint(count=x[1,2],nobs=x[1,3],alpha=(1-.95))\n",
    "CI_fr_win_home"
   ]
  },
  {
   "cell_type": "code",
   "execution_count": 48,
   "id": "21310ab1",
   "metadata": {},
   "outputs": [
    {
     "data": {
      "text/plain": [
       "(0.2676654873825878, 0.3616678459507455)"
      ]
     },
     "execution_count": 48,
     "metadata": {},
     "output_type": "execute_result"
    }
   ],
   "source": [
    "CI_fr_win_away=proportion_confint(count=x[0,2],nobs=x[0,3],alpha=(1-.95))\n",
    "CI_fr_win_away"
   ]
  },
  {
   "cell_type": "code",
   "execution_count": 49,
   "id": "a7184a39",
   "metadata": {},
   "outputs": [
    {
     "data": {
      "text/html": [
       "<div>\n",
       "<style scoped>\n",
       "    .dataframe tbody tr th:only-of-type {\n",
       "        vertical-align: middle;\n",
       "    }\n",
       "\n",
       "    .dataframe tbody tr th {\n",
       "        vertical-align: top;\n",
       "    }\n",
       "\n",
       "    .dataframe thead th {\n",
       "        text-align: right;\n",
       "    }\n",
       "</style>\n",
       "<table border=\"1\" class=\"dataframe\">\n",
       "  <thead>\n",
       "    <tr style=\"text-align: right;\">\n",
       "      <th></th>\n",
       "      <th>home</th>\n",
       "      <th>lb</th>\n",
       "      <th>ub</th>\n",
       "    </tr>\n",
       "  </thead>\n",
       "  <tbody>\n",
       "    <tr>\n",
       "      <th>0</th>\n",
       "      <td>Yes</td>\n",
       "      <td>0.174116</td>\n",
       "      <td>0.250263</td>\n",
       "    </tr>\n",
       "    <tr>\n",
       "      <th>1</th>\n",
       "      <td>No</td>\n",
       "      <td>0.267665</td>\n",
       "      <td>0.361668</td>\n",
       "    </tr>\n",
       "  </tbody>\n",
       "</table>\n",
       "</div>"
      ],
      "text/plain": [
       "  home        lb        ub\n",
       "0  Yes  0.174116  0.250263\n",
       "1   No  0.267665  0.361668"
      ]
     },
     "execution_count": 49,
     "metadata": {},
     "output_type": "execute_result"
    }
   ],
   "source": [
    "ci_fr_win = {}\n",
    "ci_fr_win['home'] = ['Yes','No']\n",
    "ci_fr_win['lb'] = [CI_fr_win_home[0],CI_fr_win_away[0]]\n",
    "ci_fr_win['ub'] = [CI_fr_win_home[1],CI_fr_win_away[1]]\n",
    "df_ci= pd.DataFrame(ci_fr_win)\n",
    "df_ci"
   ]
  },
  {
   "cell_type": "code",
   "execution_count": 50,
   "id": "83349504",
   "metadata": {},
   "outputs": [
    {
     "data": {
      "text/plain": [
       "([<matplotlib.axis.YTick at 0x7fef934f7e20>,\n",
       "  <matplotlib.axis.YTick at 0x7fef934f76a0>],\n",
       " [Text(0, 0, 'Yes'), Text(0, 1, 'No')])"
      ]
     },
     "execution_count": 50,
     "metadata": {},
     "output_type": "execute_result"
    },
    {
     "data": {
      "image/png": "[encoded data removed]",
      "text/plain": [
       "<Figure size 432x288 with 1 Axes>"
      ]
     },
     "metadata": {
      "needs_background": "light"
     },
     "output_type": "display_data"
    }
   ],
   "source": [
    "for lb,ub,y in zip(df_ci['lb'],df_ci['ub'],range(len(df_ci))):\n",
    "    plt.plot((lb,ub),(y,y),'ro-')\n",
    "plt.yticks(range(len(df_ci)),list(df_ci['home']))"
   ]
  },
  {
   "cell_type": "markdown",
   "id": "8040af18",
   "metadata": {},
   "source": [
    "The French National Football team is more likley to win away games than home games. The probability of the French team winning a home game is only (0.17411643713822142, 0.2502627953674219), while the probability of them winning an away game is higher at (0.2676654873825878, 0.3616678459507455). The French team appears to not have a home advantage. This could be due to playing conditions in France, or "
   ]
  },
  {
   "cell_type": "code",
   "execution_count": 258,
   "id": "f9deea44",
   "metadata": {},
   "outputs": [],
   "source": [
    "conditions = [\n",
    "    (df_fr['tournament']=='Friendly'),\n",
    "    (df_fr['tournament']!='Friendly')\n",
    "    ]\n",
    "values=['Friendly','Official']"
   ]
  },
  {
   "cell_type": "code",
   "execution_count": 261,
   "id": "719836b1",
   "metadata": {},
   "outputs": [
    {
     "data": {
      "text/plain": [
       "Friendly    471\n",
       "Official    347\n",
       "Name: typematch, dtype: int64"
      ]
     },
     "execution_count": 261,
     "metadata": {},
     "output_type": "execute_result"
    }
   ],
   "source": [
    "df_fr['typematch'] = np.select(conditions, values)\n",
    "df_fr['typematch'].value_counts()"
   ]
  },
  {
   "cell_type": "code",
   "execution_count": 262,
   "id": "7765c8c8",
   "metadata": {},
   "outputs": [
    {
     "data": {
      "text/html": [
       "<div>\n",
       "<style scoped>\n",
       "    .dataframe tbody tr th:only-of-type {\n",
       "        vertical-align: middle;\n",
       "    }\n",
       "\n",
       "    .dataframe tbody tr th {\n",
       "        vertical-align: top;\n",
       "    }\n",
       "\n",
       "    .dataframe thead th {\n",
       "        text-align: right;\n",
       "    }\n",
       "</style>\n",
       "<table border=\"1\" class=\"dataframe\">\n",
       "  <thead>\n",
       "    <tr style=\"text-align: right;\">\n",
       "      <th>result</th>\n",
       "      <th>draw</th>\n",
       "      <th>lose</th>\n",
       "      <th>win</th>\n",
       "      <th>All</th>\n",
       "    </tr>\n",
       "    <tr>\n",
       "      <th>typematch</th>\n",
       "      <th></th>\n",
       "      <th></th>\n",
       "      <th></th>\n",
       "      <th></th>\n",
       "    </tr>\n",
       "  </thead>\n",
       "  <tbody>\n",
       "    <tr>\n",
       "      <th>Friendly</th>\n",
       "      <td>112</td>\n",
       "      <td>228</td>\n",
       "      <td>131</td>\n",
       "      <td>471</td>\n",
       "    </tr>\n",
       "    <tr>\n",
       "      <th>Official</th>\n",
       "      <td>77</td>\n",
       "      <td>189</td>\n",
       "      <td>81</td>\n",
       "      <td>347</td>\n",
       "    </tr>\n",
       "    <tr>\n",
       "      <th>All</th>\n",
       "      <td>189</td>\n",
       "      <td>417</td>\n",
       "      <td>212</td>\n",
       "      <td>818</td>\n",
       "    </tr>\n",
       "  </tbody>\n",
       "</table>\n",
       "</div>"
      ],
      "text/plain": [
       "result     draw  lose  win  All\n",
       "typematch                      \n",
       "Friendly    112   228  131  471\n",
       "Official     77   189   81  347\n",
       "All         189   417  212  818"
      ]
     },
     "execution_count": 262,
     "metadata": {},
     "output_type": "execute_result"
    }
   ],
   "source": [
    "x=pd.crosstab(df_fr['typematch'],df_fr['result'],margins=True)\n",
    "x"
   ]
  },
  {
   "cell_type": "code",
   "execution_count": 263,
   "id": "cdbb1ec0",
   "metadata": {},
   "outputs": [
    {
     "data": {
      "text/plain": [
       "array([[112, 228, 131, 471],\n",
       "       [ 77, 189,  81, 347],\n",
       "       [189, 417, 212, 818]])"
      ]
     },
     "execution_count": 263,
     "metadata": {},
     "output_type": "execute_result"
    }
   ],
   "source": [
    "x=np.array(x)\n",
    "x"
   ]
  },
  {
   "cell_type": "code",
   "execution_count": 264,
   "id": "90e36ea0",
   "metadata": {},
   "outputs": [
    {
     "data": {
      "text/plain": [
       "(0.2376654895121334, 0.3185977801269324)"
      ]
     },
     "execution_count": 264,
     "metadata": {},
     "output_type": "execute_result"
    }
   ],
   "source": [
    "CI_frwin_friendly=proportion_confint(count=x[0,2],nobs=x[0,3],alpha=(1-.95))\n",
    "CI_frwin_friendly"
   ]
  },
  {
   "cell_type": "code",
   "execution_count": 265,
   "id": "d1786318",
   "metadata": {},
   "outputs": [
    {
     "data": {
      "text/plain": [
       "(0.18892148425887595, 0.27793730536648426)"
      ]
     },
     "execution_count": 265,
     "metadata": {},
     "output_type": "execute_result"
    }
   ],
   "source": [
    "CI_frwin_official=proportion_confint(count=x[1,2],nobs=x[1,3],alpha=(1-.95))\n",
    "CI_frwin_official"
   ]
  },
  {
   "cell_type": "code",
   "execution_count": 266,
   "id": "5cab9c85",
   "metadata": {},
   "outputs": [
    {
     "data": {
      "text/html": [
       "<div>\n",
       "<style scoped>\n",
       "    .dataframe tbody tr th:only-of-type {\n",
       "        vertical-align: middle;\n",
       "    }\n",
       "\n",
       "    .dataframe tbody tr th {\n",
       "        vertical-align: top;\n",
       "    }\n",
       "\n",
       "    .dataframe thead th {\n",
       "        text-align: right;\n",
       "    }\n",
       "</style>\n",
       "<table border=\"1\" class=\"dataframe\">\n",
       "  <thead>\n",
       "    <tr style=\"text-align: right;\">\n",
       "      <th></th>\n",
       "      <th>Typematch</th>\n",
       "      <th>lb</th>\n",
       "      <th>ub</th>\n",
       "    </tr>\n",
       "  </thead>\n",
       "  <tbody>\n",
       "    <tr>\n",
       "      <th>0</th>\n",
       "      <td>Friendly</td>\n",
       "      <td>0.237665</td>\n",
       "      <td>0.318598</td>\n",
       "    </tr>\n",
       "    <tr>\n",
       "      <th>1</th>\n",
       "      <td>Official</td>\n",
       "      <td>0.188921</td>\n",
       "      <td>0.277937</td>\n",
       "    </tr>\n",
       "  </tbody>\n",
       "</table>\n",
       "</div>"
      ],
      "text/plain": [
       "  Typematch        lb        ub\n",
       "0  Friendly  0.237665  0.318598\n",
       "1  Official  0.188921  0.277937"
      ]
     },
     "execution_count": 266,
     "metadata": {},
     "output_type": "execute_result"
    }
   ],
   "source": [
    "ci_frwin = {}\n",
    "ci_frwin['Typematch'] = ['Friendly','Official']\n",
    "ci_frwin['lb'] = [CI_frwin_friendly[0],CI_frwin_official[0]]\n",
    "ci_frwin['ub'] = [CI_frwin_friendly[1],CI_frwin_official[1]]\n",
    "df_ci= pd.DataFrame(ci_frwin)\n",
    "df_ci"
   ]
  },
  {
   "cell_type": "code",
   "execution_count": 267,
   "id": "de6693ab",
   "metadata": {},
   "outputs": [
    {
     "data": {
      "text/plain": [
       "([<matplotlib.axis.YTick at 0x7fef94767190>,\n",
       "  <matplotlib.axis.YTick at 0x7fef947629d0>],\n",
       " [Text(0, 0, 'Friendly'), Text(0, 1, 'Official')])"
      ]
     },
     "execution_count": 267,
     "metadata": {},
     "output_type": "execute_result"
    },
    {
     "data": {
      "image/png": "[encoded data removed]",
      "text/plain": [
       "<Figure size 432x288 with 1 Axes>"
      ]
     },
     "metadata": {
      "needs_background": "light"
     },
     "output_type": "display_data"
    }
   ],
   "source": [
    "import matplotlib.pyplot as plt\n",
    "for lb,ub,y in zip(df_ci['lb'],df_ci['ub'],range(len(df_ci))):\n",
    "    plt.plot((lb,ub),(y,y),'ro-')\n",
    "plt.yticks(range(len(df_ci)),list(df_ci['Typematch']))"
   ]
  },
  {
   "cell_type": "markdown",
   "id": "98f500ee",
   "metadata": {},
   "source": [
    "The probability of The French Team winning a friendly game is higher than them winning an official game, with the porbability of winning a friendly game being between (0.2376654895121334, 0.3185977801269324) and the probability of them winning an official game being between (0.18892148425887595, 0.27793730536648426). This could be die to nerves and the psychological toll the pressure of an official game could have on the players. "
   ]
  },
  {
   "cell_type": "markdown",
   "id": "0b174753",
   "metadata": {},
   "source": [
    "### Malaysia "
   ]
  },
  {
   "cell_type": "code",
   "execution_count": 212,
   "id": "842d84ec",
   "metadata": {},
   "outputs": [
    {
     "data": {
      "text/html": [
       "<div>\n",
       "<style scoped>\n",
       "    .dataframe tbody tr th:only-of-type {\n",
       "        vertical-align: middle;\n",
       "    }\n",
       "\n",
       "    .dataframe tbody tr th {\n",
       "        vertical-align: top;\n",
       "    }\n",
       "\n",
       "    .dataframe thead th {\n",
       "        text-align: right;\n",
       "    }\n",
       "</style>\n",
       "<table border=\"1\" class=\"dataframe\">\n",
       "  <thead>\n",
       "    <tr style=\"text-align: right;\">\n",
       "      <th></th>\n",
       "      <th>date</th>\n",
       "      <th>home_team</th>\n",
       "      <th>away_team</th>\n",
       "      <th>home_score</th>\n",
       "      <th>away_score</th>\n",
       "      <th>tournament</th>\n",
       "      <th>city</th>\n",
       "      <th>country</th>\n",
       "      <th>neutral</th>\n",
       "      <th>result</th>\n",
       "    </tr>\n",
       "  </thead>\n",
       "  <tbody>\n",
       "    <tr>\n",
       "      <th>5674</th>\n",
       "      <td>8/22/1964</td>\n",
       "      <td>Malaysia</td>\n",
       "      <td>Thailand</td>\n",
       "      <td>3</td>\n",
       "      <td>0</td>\n",
       "      <td>Merdeka Tournament</td>\n",
       "      <td>Kuala Lumpur</td>\n",
       "      <td>Malaysia</td>\n",
       "      <td>False</td>\n",
       "      <td>win</td>\n",
       "    </tr>\n",
       "    <tr>\n",
       "      <th>5675</th>\n",
       "      <td>8/23/1964</td>\n",
       "      <td>Cambodia</td>\n",
       "      <td>Taiwan</td>\n",
       "      <td>0</td>\n",
       "      <td>4</td>\n",
       "      <td>Merdeka Tournament</td>\n",
       "      <td>Kuala Lumpur</td>\n",
       "      <td>Malaysia</td>\n",
       "      <td>True</td>\n",
       "      <td>lose</td>\n",
       "    </tr>\n",
       "    <tr>\n",
       "      <th>5677</th>\n",
       "      <td>8/24/1964</td>\n",
       "      <td>Malaysia</td>\n",
       "      <td>India</td>\n",
       "      <td>1</td>\n",
       "      <td>1</td>\n",
       "      <td>Merdeka Tournament</td>\n",
       "      <td>Kuala Lumpur</td>\n",
       "      <td>Malaysia</td>\n",
       "      <td>False</td>\n",
       "      <td>draw</td>\n",
       "    </tr>\n",
       "    <tr>\n",
       "      <th>5678</th>\n",
       "      <td>8/27/1964</td>\n",
       "      <td>Cambodia</td>\n",
       "      <td>India</td>\n",
       "      <td>0</td>\n",
       "      <td>4</td>\n",
       "      <td>Merdeka Tournament</td>\n",
       "      <td>Kuala Lumpur</td>\n",
       "      <td>Malaysia</td>\n",
       "      <td>True</td>\n",
       "      <td>lose</td>\n",
       "    </tr>\n",
       "    <tr>\n",
       "      <th>5679</th>\n",
       "      <td>8/28/1964</td>\n",
       "      <td>Taiwan</td>\n",
       "      <td>Vietnam Republic</td>\n",
       "      <td>0</td>\n",
       "      <td>0</td>\n",
       "      <td>Merdeka Tournament</td>\n",
       "      <td>Kuala Lumpur</td>\n",
       "      <td>Malaysia</td>\n",
       "      <td>True</td>\n",
       "      <td>draw</td>\n",
       "    </tr>\n",
       "    <tr>\n",
       "      <th>5680</th>\n",
       "      <td>8/28/1964</td>\n",
       "      <td>Malaysia</td>\n",
       "      <td>Myanmar</td>\n",
       "      <td>0</td>\n",
       "      <td>3</td>\n",
       "      <td>Merdeka Tournament</td>\n",
       "      <td>Kuala Lumpur</td>\n",
       "      <td>Malaysia</td>\n",
       "      <td>False</td>\n",
       "      <td>lose</td>\n",
       "    </tr>\n",
       "    <tr>\n",
       "      <th>5681</th>\n",
       "      <td>8/29/1964</td>\n",
       "      <td>India</td>\n",
       "      <td>Thailand</td>\n",
       "      <td>2</td>\n",
       "      <td>1</td>\n",
       "      <td>Merdeka Tournament</td>\n",
       "      <td>Ipoh</td>\n",
       "      <td>Malaysia</td>\n",
       "      <td>True</td>\n",
       "      <td>win</td>\n",
       "    </tr>\n",
       "    <tr>\n",
       "      <th>5682</th>\n",
       "      <td>8/30/1964</td>\n",
       "      <td>Myanmar</td>\n",
       "      <td>Taiwan</td>\n",
       "      <td>2</td>\n",
       "      <td>4</td>\n",
       "      <td>Merdeka Tournament</td>\n",
       "      <td>Kuala Lumpur</td>\n",
       "      <td>Malaysia</td>\n",
       "      <td>True</td>\n",
       "      <td>lose</td>\n",
       "    </tr>\n",
       "    <tr>\n",
       "      <th>5683</th>\n",
       "      <td>8/30/1964</td>\n",
       "      <td>Malaysia</td>\n",
       "      <td>Vietnam Republic</td>\n",
       "      <td>1</td>\n",
       "      <td>2</td>\n",
       "      <td>Merdeka Tournament</td>\n",
       "      <td>Kuala Lumpur</td>\n",
       "      <td>Malaysia</td>\n",
       "      <td>False</td>\n",
       "      <td>lose</td>\n",
       "    </tr>\n",
       "    <tr>\n",
       "      <th>5684</th>\n",
       "      <td>9/1/1964</td>\n",
       "      <td>Cambodia</td>\n",
       "      <td>Thailand</td>\n",
       "      <td>0</td>\n",
       "      <td>1</td>\n",
       "      <td>Merdeka Tournament</td>\n",
       "      <td>Kuala Lumpur</td>\n",
       "      <td>Malaysia</td>\n",
       "      <td>True</td>\n",
       "      <td>lose</td>\n",
       "    </tr>\n",
       "    <tr>\n",
       "      <th>5685</th>\n",
       "      <td>9/2/1964</td>\n",
       "      <td>Myanmar</td>\n",
       "      <td>Vietnam Republic</td>\n",
       "      <td>1</td>\n",
       "      <td>0</td>\n",
       "      <td>Merdeka Tournament</td>\n",
       "      <td>Kuala Lumpur</td>\n",
       "      <td>Malaysia</td>\n",
       "      <td>True</td>\n",
       "      <td>win</td>\n",
       "    </tr>\n",
       "    <tr>\n",
       "      <th>5686</th>\n",
       "      <td>9/2/1964</td>\n",
       "      <td>Malaysia</td>\n",
       "      <td>Taiwan</td>\n",
       "      <td>5</td>\n",
       "      <td>2</td>\n",
       "      <td>Merdeka Tournament</td>\n",
       "      <td>Kuala Lumpur</td>\n",
       "      <td>Malaysia</td>\n",
       "      <td>False</td>\n",
       "      <td>win</td>\n",
       "    </tr>\n",
       "    <tr>\n",
       "      <th>5689</th>\n",
       "      <td>9/5/1964</td>\n",
       "      <td>Malaysia</td>\n",
       "      <td>Thailand</td>\n",
       "      <td>1</td>\n",
       "      <td>1</td>\n",
       "      <td>Merdeka Tournament</td>\n",
       "      <td>Ipoh</td>\n",
       "      <td>Malaysia</td>\n",
       "      <td>False</td>\n",
       "      <td>draw</td>\n",
       "    </tr>\n",
       "    <tr>\n",
       "      <th>5690</th>\n",
       "      <td>9/6/1964</td>\n",
       "      <td>Myanmar</td>\n",
       "      <td>India</td>\n",
       "      <td>1</td>\n",
       "      <td>0</td>\n",
       "      <td>Merdeka Tournament</td>\n",
       "      <td>Kuala Lumpur</td>\n",
       "      <td>Malaysia</td>\n",
       "      <td>True</td>\n",
       "      <td>win</td>\n",
       "    </tr>\n",
       "    <tr>\n",
       "      <th>5692</th>\n",
       "      <td>9/8/1964</td>\n",
       "      <td>India</td>\n",
       "      <td>Taiwan</td>\n",
       "      <td>6</td>\n",
       "      <td>4</td>\n",
       "      <td>Friendly</td>\n",
       "      <td>Kuala Lumpur</td>\n",
       "      <td>Malaysia</td>\n",
       "      <td>True</td>\n",
       "      <td>win</td>\n",
       "    </tr>\n",
       "    <tr>\n",
       "      <th>5820</th>\n",
       "      <td>3/27/1965</td>\n",
       "      <td>Malaysia</td>\n",
       "      <td>Japan</td>\n",
       "      <td>1</td>\n",
       "      <td>1</td>\n",
       "      <td>Friendly</td>\n",
       "      <td>Kuala Lumpur</td>\n",
       "      <td>Malaysia</td>\n",
       "      <td>False</td>\n",
       "      <td>draw</td>\n",
       "    </tr>\n",
       "    <tr>\n",
       "      <th>5954</th>\n",
       "      <td>8/14/1965</td>\n",
       "      <td>South Korea</td>\n",
       "      <td>Thailand</td>\n",
       "      <td>2</td>\n",
       "      <td>3</td>\n",
       "      <td>Merdeka Tournament</td>\n",
       "      <td>Kuala Lumpur</td>\n",
       "      <td>Malaysia</td>\n",
       "      <td>True</td>\n",
       "      <td>lose</td>\n",
       "    </tr>\n",
       "    <tr>\n",
       "      <th>5955</th>\n",
       "      <td>8/14/1965</td>\n",
       "      <td>Malaysia</td>\n",
       "      <td>Japan</td>\n",
       "      <td>2</td>\n",
       "      <td>2</td>\n",
       "      <td>Merdeka Tournament</td>\n",
       "      <td>Kuala Lumpur</td>\n",
       "      <td>Malaysia</td>\n",
       "      <td>False</td>\n",
       "      <td>draw</td>\n",
       "    </tr>\n",
       "    <tr>\n",
       "      <th>5957</th>\n",
       "      <td>8/15/1965</td>\n",
       "      <td>Myanmar</td>\n",
       "      <td>Hong Kong</td>\n",
       "      <td>4</td>\n",
       "      <td>2</td>\n",
       "      <td>Merdeka Tournament</td>\n",
       "      <td>Kuala Lumpur</td>\n",
       "      <td>Malaysia</td>\n",
       "      <td>True</td>\n",
       "      <td>win</td>\n",
       "    </tr>\n",
       "    <tr>\n",
       "      <th>5958</th>\n",
       "      <td>8/15/1965</td>\n",
       "      <td>Vietnam Republic</td>\n",
       "      <td>Taiwan</td>\n",
       "      <td>5</td>\n",
       "      <td>2</td>\n",
       "      <td>Merdeka Tournament</td>\n",
       "      <td>Kuala Lumpur</td>\n",
       "      <td>Malaysia</td>\n",
       "      <td>True</td>\n",
       "      <td>win</td>\n",
       "    </tr>\n",
       "  </tbody>\n",
       "</table>\n",
       "</div>"
      ],
      "text/plain": [
       "           date         home_team         away_team  home_score  away_score  \\\n",
       "5674  8/22/1964          Malaysia          Thailand           3           0   \n",
       "5675  8/23/1964          Cambodia            Taiwan           0           4   \n",
       "5677  8/24/1964          Malaysia             India           1           1   \n",
       "5678  8/27/1964          Cambodia             India           0           4   \n",
       "5679  8/28/1964            Taiwan  Vietnam Republic           0           0   \n",
       "5680  8/28/1964          Malaysia           Myanmar           0           3   \n",
       "5681  8/29/1964             India          Thailand           2           1   \n",
       "5682  8/30/1964           Myanmar            Taiwan           2           4   \n",
       "5683  8/30/1964          Malaysia  Vietnam Republic           1           2   \n",
       "5684   9/1/1964          Cambodia          Thailand           0           1   \n",
       "5685   9/2/1964           Myanmar  Vietnam Republic           1           0   \n",
       "5686   9/2/1964          Malaysia            Taiwan           5           2   \n",
       "5689   9/5/1964          Malaysia          Thailand           1           1   \n",
       "5690   9/6/1964           Myanmar             India           1           0   \n",
       "5692   9/8/1964             India            Taiwan           6           4   \n",
       "5820  3/27/1965          Malaysia             Japan           1           1   \n",
       "5954  8/14/1965       South Korea          Thailand           2           3   \n",
       "5955  8/14/1965          Malaysia             Japan           2           2   \n",
       "5957  8/15/1965           Myanmar         Hong Kong           4           2   \n",
       "5958  8/15/1965  Vietnam Republic            Taiwan           5           2   \n",
       "\n",
       "              tournament          city   country  neutral result  \n",
       "5674  Merdeka Tournament  Kuala Lumpur  Malaysia    False    win  \n",
       "5675  Merdeka Tournament  Kuala Lumpur  Malaysia     True   lose  \n",
       "5677  Merdeka Tournament  Kuala Lumpur  Malaysia    False   draw  \n",
       "5678  Merdeka Tournament  Kuala Lumpur  Malaysia     True   lose  \n",
       "5679  Merdeka Tournament  Kuala Lumpur  Malaysia     True   draw  \n",
       "5680  Merdeka Tournament  Kuala Lumpur  Malaysia    False   lose  \n",
       "5681  Merdeka Tournament          Ipoh  Malaysia     True    win  \n",
       "5682  Merdeka Tournament  Kuala Lumpur  Malaysia     True   lose  \n",
       "5683  Merdeka Tournament  Kuala Lumpur  Malaysia    False   lose  \n",
       "5684  Merdeka Tournament  Kuala Lumpur  Malaysia     True   lose  \n",
       "5685  Merdeka Tournament  Kuala Lumpur  Malaysia     True    win  \n",
       "5686  Merdeka Tournament  Kuala Lumpur  Malaysia    False    win  \n",
       "5689  Merdeka Tournament          Ipoh  Malaysia    False   draw  \n",
       "5690  Merdeka Tournament  Kuala Lumpur  Malaysia     True    win  \n",
       "5692            Friendly  Kuala Lumpur  Malaysia     True    win  \n",
       "5820            Friendly  Kuala Lumpur  Malaysia    False   draw  \n",
       "5954  Merdeka Tournament  Kuala Lumpur  Malaysia     True   lose  \n",
       "5955  Merdeka Tournament  Kuala Lumpur  Malaysia    False   draw  \n",
       "5957  Merdeka Tournament  Kuala Lumpur  Malaysia     True    win  \n",
       "5958  Merdeka Tournament  Kuala Lumpur  Malaysia     True    win  "
      ]
     },
     "execution_count": 212,
     "metadata": {},
     "output_type": "execute_result"
    }
   ],
   "source": [
    "df_mal=df[df['country']=='Malaysia']\n",
    "df_mal.head(20)"
   ]
  },
  {
   "cell_type": "code",
   "execution_count": 213,
   "id": "b7b12b22",
   "metadata": {},
   "outputs": [
    {
     "name": "stderr",
     "output_type": "stream",
     "text": [
      "/var/folders/9p/lclsymtn1cz8pt0m19455t0r0000gn/T/ipykernel_61469/2338185661.py:1: SettingWithCopyWarning: \n",
      "A value is trying to be set on a copy of a slice from a DataFrame.\n",
      "Try using .loc[row_indexer,col_indexer] = value instead\n",
      "\n",
      "See the caveats in the documentation: https://pandas.pydata.org/pandas-docs/stable/user_guide/indexing.html#returning-a-view-versus-a-copy\n",
      "  df_mal['home']=(df_mal['home_team']=='Malaysia')\n"
     ]
    }
   ],
   "source": [
    "df_mal['home']=(df_mal['home_team']=='Malaysia')"
   ]
  },
  {
   "cell_type": "code",
   "execution_count": 216,
   "id": "7893ad4e",
   "metadata": {},
   "outputs": [
    {
     "data": {
      "text/plain": [
       "False    470\n",
       "True     274\n",
       "Name: home, dtype: int64"
      ]
     },
     "execution_count": 216,
     "metadata": {},
     "output_type": "execute_result"
    }
   ],
   "source": [
    "df_mal['home'].value_counts()"
   ]
  },
  {
   "cell_type": "code",
   "execution_count": 217,
   "id": "f1e5d3f6",
   "metadata": {},
   "outputs": [
    {
     "data": {
      "text/html": [
       "<div>\n",
       "<style scoped>\n",
       "    .dataframe tbody tr th:only-of-type {\n",
       "        vertical-align: middle;\n",
       "    }\n",
       "\n",
       "    .dataframe tbody tr th {\n",
       "        vertical-align: top;\n",
       "    }\n",
       "\n",
       "    .dataframe thead th {\n",
       "        text-align: right;\n",
       "    }\n",
       "</style>\n",
       "<table border=\"1\" class=\"dataframe\">\n",
       "  <thead>\n",
       "    <tr style=\"text-align: right;\">\n",
       "      <th>result</th>\n",
       "      <th>draw</th>\n",
       "      <th>lose</th>\n",
       "      <th>win</th>\n",
       "      <th>All</th>\n",
       "    </tr>\n",
       "    <tr>\n",
       "      <th>home</th>\n",
       "      <th></th>\n",
       "      <th></th>\n",
       "      <th></th>\n",
       "      <th></th>\n",
       "    </tr>\n",
       "  </thead>\n",
       "  <tbody>\n",
       "    <tr>\n",
       "      <th>False</th>\n",
       "      <td>104</td>\n",
       "      <td>151</td>\n",
       "      <td>215</td>\n",
       "      <td>470</td>\n",
       "    </tr>\n",
       "    <tr>\n",
       "      <th>True</th>\n",
       "      <td>69</td>\n",
       "      <td>76</td>\n",
       "      <td>129</td>\n",
       "      <td>274</td>\n",
       "    </tr>\n",
       "    <tr>\n",
       "      <th>All</th>\n",
       "      <td>173</td>\n",
       "      <td>227</td>\n",
       "      <td>344</td>\n",
       "      <td>744</td>\n",
       "    </tr>\n",
       "  </tbody>\n",
       "</table>\n",
       "</div>"
      ],
      "text/plain": [
       "result  draw  lose  win  All\n",
       "home                        \n",
       "False    104   151  215  470\n",
       "True      69    76  129  274\n",
       "All      173   227  344  744"
      ]
     },
     "execution_count": 217,
     "metadata": {},
     "output_type": "execute_result"
    }
   ],
   "source": [
    "x=pd.crosstab(df_mal['home'],df_mal['result'],margins=True)\n",
    "x"
   ]
  },
  {
   "cell_type": "code",
   "execution_count": 218,
   "id": "0ac15676",
   "metadata": {},
   "outputs": [
    {
     "data": {
      "text/plain": [
       "array([[104, 151, 215, 470],\n",
       "       [ 69,  76, 129, 274],\n",
       "       [173, 227, 344, 744]])"
      ]
     },
     "execution_count": 218,
     "metadata": {},
     "output_type": "execute_result"
    }
   ],
   "source": [
    "x=np.array(x)\n",
    "x"
   ]
  },
  {
   "cell_type": "code",
   "execution_count": 219,
   "id": "f8ddbfac",
   "metadata": {},
   "outputs": [
    {
     "data": {
      "text/plain": [
       "(0.4117010659354705, 0.5299047734805878)"
      ]
     },
     "execution_count": 219,
     "metadata": {},
     "output_type": "execute_result"
    }
   ],
   "source": [
    "CI_mal_win_home=proportion_confint(count=x[1,2],nobs=x[1,3],alpha=(1-.95))\n",
    "CI_mal_win_home"
   ]
  },
  {
   "cell_type": "code",
   "execution_count": 220,
   "id": "907695b4",
   "metadata": {},
   "outputs": [
    {
     "data": {
      "text/plain": [
       "(0.41240761302700635, 0.5024860039942702)"
      ]
     },
     "execution_count": 220,
     "metadata": {},
     "output_type": "execute_result"
    }
   ],
   "source": [
    "CI_mal_win_away=proportion_confint(count=x[0,2],nobs=x[0,3],alpha=(1-.95))\n",
    "CI_mal_win_away"
   ]
  },
  {
   "cell_type": "code",
   "execution_count": 221,
   "id": "b4d18e42",
   "metadata": {},
   "outputs": [
    {
     "data": {
      "text/html": [
       "<div>\n",
       "<style scoped>\n",
       "    .dataframe tbody tr th:only-of-type {\n",
       "        vertical-align: middle;\n",
       "    }\n",
       "\n",
       "    .dataframe tbody tr th {\n",
       "        vertical-align: top;\n",
       "    }\n",
       "\n",
       "    .dataframe thead th {\n",
       "        text-align: right;\n",
       "    }\n",
       "</style>\n",
       "<table border=\"1\" class=\"dataframe\">\n",
       "  <thead>\n",
       "    <tr style=\"text-align: right;\">\n",
       "      <th></th>\n",
       "      <th>home</th>\n",
       "      <th>lb</th>\n",
       "      <th>ub</th>\n",
       "    </tr>\n",
       "  </thead>\n",
       "  <tbody>\n",
       "    <tr>\n",
       "      <th>0</th>\n",
       "      <td>Yes</td>\n",
       "      <td>0.411701</td>\n",
       "      <td>0.529905</td>\n",
       "    </tr>\n",
       "    <tr>\n",
       "      <th>1</th>\n",
       "      <td>No</td>\n",
       "      <td>0.412408</td>\n",
       "      <td>0.502486</td>\n",
       "    </tr>\n",
       "  </tbody>\n",
       "</table>\n",
       "</div>"
      ],
      "text/plain": [
       "  home        lb        ub\n",
       "0  Yes  0.411701  0.529905\n",
       "1   No  0.412408  0.502486"
      ]
     },
     "execution_count": 221,
     "metadata": {},
     "output_type": "execute_result"
    }
   ],
   "source": [
    "ci_mal_win = {}\n",
    "ci_mal_win['home'] = ['Yes','No']\n",
    "ci_mal_win['lb'] = [CI_mal_win_home[0],CI_mal_win_away[0]]\n",
    "ci_mal_win['ub'] = [CI_mal_win_home[1],CI_mal_win_away[1]]\n",
    "df_ci= pd.DataFrame(ci_mal_win)\n",
    "df_ci"
   ]
  },
  {
   "cell_type": "code",
   "execution_count": 222,
   "id": "7232e958",
   "metadata": {},
   "outputs": [
    {
     "data": {
      "text/plain": [
       "([<matplotlib.axis.YTick at 0x7fef93a91760>,\n",
       "  <matplotlib.axis.YTick at 0x7fef93a8afa0>],\n",
       " [Text(0, 0, 'Yes'), Text(0, 1, 'No')])"
      ]
     },
     "execution_count": 222,
     "metadata": {},
     "output_type": "execute_result"
    },
    {
     "data": {
      "image/png": "[encoded data removed]",
      "text/plain": [
       "<Figure size 432x288 with 1 Axes>"
      ]
     },
     "metadata": {
      "needs_background": "light"
     },
     "output_type": "display_data"
    }
   ],
   "source": [
    "for lb,ub,y in zip(df_ci['lb'],df_ci['ub'],range(len(df_ci))):\n",
    "    plt.plot((lb,ub),(y,y),'ro-')\n",
    "plt.yticks(range(len(df_ci)),list(df_ci['home']))"
   ]
  },
  {
   "cell_type": "markdown",
   "id": "bcb10672",
   "metadata": {},
   "source": [
    "The Malaysian Team performs consistently no matter wherr they are playing. The confidence intervals for the both ptobabilities of winning at home and away are similar at (0.4117010659354705, 0.5299047734805878) and (0.41240761302700635, 0.5024860039942702) respectively. "
   ]
  },
  {
   "cell_type": "code",
   "execution_count": 268,
   "id": "f5099c1c",
   "metadata": {},
   "outputs": [],
   "source": [
    "conditions = [\n",
    "    (df_mal['tournament']=='Friendly'),\n",
    "    (df_mal['tournament']!='Friendly')\n",
    "    ]\n",
    "values=['Friendly','Official']"
   ]
  },
  {
   "cell_type": "code",
   "execution_count": 269,
   "id": "199304cb",
   "metadata": {},
   "outputs": [
    {
     "name": "stderr",
     "output_type": "stream",
     "text": [
      "/var/folders/9p/lclsymtn1cz8pt0m19455t0r0000gn/T/ipykernel_61469/1090470193.py:1: SettingWithCopyWarning: \n",
      "A value is trying to be set on a copy of a slice from a DataFrame.\n",
      "Try using .loc[row_indexer,col_indexer] = value instead\n",
      "\n",
      "See the caveats in the documentation: https://pandas.pydata.org/pandas-docs/stable/user_guide/indexing.html#returning-a-view-versus-a-copy\n",
      "  df_mal['typematch'] = np.select(conditions, values)\n"
     ]
    }
   ],
   "source": [
    "df_mal['typematch'] = np.select(conditions, values)"
   ]
  },
  {
   "cell_type": "code",
   "execution_count": 270,
   "id": "4bff0bc0",
   "metadata": {},
   "outputs": [
    {
     "data": {
      "text/plain": [
       "Official    657\n",
       "Friendly     87\n",
       "Name: typematch, dtype: int64"
      ]
     },
     "execution_count": 270,
     "metadata": {},
     "output_type": "execute_result"
    }
   ],
   "source": [
    "df_mal['typematch'].value_counts()"
   ]
  },
  {
   "cell_type": "code",
   "execution_count": 271,
   "id": "7e5648d3",
   "metadata": {},
   "outputs": [
    {
     "data": {
      "text/html": [
       "<div>\n",
       "<style scoped>\n",
       "    .dataframe tbody tr th:only-of-type {\n",
       "        vertical-align: middle;\n",
       "    }\n",
       "\n",
       "    .dataframe tbody tr th {\n",
       "        vertical-align: top;\n",
       "    }\n",
       "\n",
       "    .dataframe thead th {\n",
       "        text-align: right;\n",
       "    }\n",
       "</style>\n",
       "<table border=\"1\" class=\"dataframe\">\n",
       "  <thead>\n",
       "    <tr style=\"text-align: right;\">\n",
       "      <th>result</th>\n",
       "      <th>draw</th>\n",
       "      <th>lose</th>\n",
       "      <th>win</th>\n",
       "      <th>All</th>\n",
       "    </tr>\n",
       "    <tr>\n",
       "      <th>typematch</th>\n",
       "      <th></th>\n",
       "      <th></th>\n",
       "      <th></th>\n",
       "      <th></th>\n",
       "    </tr>\n",
       "  </thead>\n",
       "  <tbody>\n",
       "    <tr>\n",
       "      <th>Friendly</th>\n",
       "      <td>26</td>\n",
       "      <td>23</td>\n",
       "      <td>38</td>\n",
       "      <td>87</td>\n",
       "    </tr>\n",
       "    <tr>\n",
       "      <th>Official</th>\n",
       "      <td>147</td>\n",
       "      <td>204</td>\n",
       "      <td>306</td>\n",
       "      <td>657</td>\n",
       "    </tr>\n",
       "    <tr>\n",
       "      <th>All</th>\n",
       "      <td>173</td>\n",
       "      <td>227</td>\n",
       "      <td>344</td>\n",
       "      <td>744</td>\n",
       "    </tr>\n",
       "  </tbody>\n",
       "</table>\n",
       "</div>"
      ],
      "text/plain": [
       "result     draw  lose  win  All\n",
       "typematch                      \n",
       "Friendly     26    23   38   87\n",
       "Official    147   204  306  657\n",
       "All         173   227  344  744"
      ]
     },
     "execution_count": 271,
     "metadata": {},
     "output_type": "execute_result"
    }
   ],
   "source": [
    "x=pd.crosstab(df_mal['typematch'],df_mal['result'],margins=True)\n",
    "x"
   ]
  },
  {
   "cell_type": "code",
   "execution_count": 272,
   "id": "02c380bf",
   "metadata": {},
   "outputs": [
    {
     "data": {
      "text/plain": [
       "array([[ 26,  23,  38,  87],\n",
       "       [147, 204, 306, 657],\n",
       "       [173, 227, 344, 744]])"
      ]
     },
     "execution_count": 272,
     "metadata": {},
     "output_type": "execute_result"
    }
   ],
   "source": [
    "x=np.array(x)\n",
    "x"
   ]
  },
  {
   "cell_type": "code",
   "execution_count": 273,
   "id": "1cc0b5db",
   "metadata": {},
   "outputs": [
    {
     "data": {
      "text/plain": [
       "(0.3325596937938109, 0.5410035245969937)"
      ]
     },
     "execution_count": 273,
     "metadata": {},
     "output_type": "execute_result"
    }
   ],
   "source": [
    "CI_malwin_friendly=proportion_confint(count=x[0,2],nobs=x[0,3],alpha=(1-.95))\n",
    "CI_malwin_friendly"
   ]
  },
  {
   "cell_type": "code",
   "execution_count": 274,
   "id": "13322dfb",
   "metadata": {},
   "outputs": [
    {
     "data": {
      "text/plain": [
       "(0.42761047206364666, 0.5038963772514218)"
      ]
     },
     "execution_count": 274,
     "metadata": {},
     "output_type": "execute_result"
    }
   ],
   "source": [
    "CI_malwin_official=proportion_confint(count=x[1,2],nobs=x[1,3],alpha=(1-.95))\n",
    "CI_malwin_official"
   ]
  },
  {
   "cell_type": "code",
   "execution_count": 275,
   "id": "a251b073",
   "metadata": {},
   "outputs": [
    {
     "data": {
      "text/html": [
       "<div>\n",
       "<style scoped>\n",
       "    .dataframe tbody tr th:only-of-type {\n",
       "        vertical-align: middle;\n",
       "    }\n",
       "\n",
       "    .dataframe tbody tr th {\n",
       "        vertical-align: top;\n",
       "    }\n",
       "\n",
       "    .dataframe thead th {\n",
       "        text-align: right;\n",
       "    }\n",
       "</style>\n",
       "<table border=\"1\" class=\"dataframe\">\n",
       "  <thead>\n",
       "    <tr style=\"text-align: right;\">\n",
       "      <th></th>\n",
       "      <th>Typematch</th>\n",
       "      <th>lb</th>\n",
       "      <th>ub</th>\n",
       "    </tr>\n",
       "  </thead>\n",
       "  <tbody>\n",
       "    <tr>\n",
       "      <th>0</th>\n",
       "      <td>Friendly</td>\n",
       "      <td>0.33256</td>\n",
       "      <td>0.541004</td>\n",
       "    </tr>\n",
       "    <tr>\n",
       "      <th>1</th>\n",
       "      <td>Official</td>\n",
       "      <td>0.42761</td>\n",
       "      <td>0.503896</td>\n",
       "    </tr>\n",
       "  </tbody>\n",
       "</table>\n",
       "</div>"
      ],
      "text/plain": [
       "  Typematch       lb        ub\n",
       "0  Friendly  0.33256  0.541004\n",
       "1  Official  0.42761  0.503896"
      ]
     },
     "execution_count": 275,
     "metadata": {},
     "output_type": "execute_result"
    }
   ],
   "source": [
    "ci_malwin = {}\n",
    "ci_malwin['Typematch'] = ['Friendly','Official']\n",
    "ci_malwin['lb'] = [CI_malwin_friendly[0],CI_malwin_official[0]]\n",
    "ci_malwin['ub'] = [CI_malwin_friendly[1],CI_malwin_official[1]]\n",
    "df_ci= pd.DataFrame(ci_malwin)\n",
    "df_ci"
   ]
  },
  {
   "cell_type": "code",
   "execution_count": 276,
   "id": "7fefb58d",
   "metadata": {},
   "outputs": [
    {
     "data": {
      "text/plain": [
       "([<matplotlib.axis.YTick at 0x7fef948b5a60>,\n",
       "  <matplotlib.axis.YTick at 0x7fef948b52e0>],\n",
       " [Text(0, 0, 'Friendly'), Text(0, 1, 'Official')])"
      ]
     },
     "execution_count": 276,
     "metadata": {},
     "output_type": "execute_result"
    },
    {
     "data": {
      "image/png": "[encoded data removed]",
      "text/plain": [
       "<Figure size 432x288 with 1 Axes>"
      ]
     },
     "metadata": {
      "needs_background": "light"
     },
     "output_type": "display_data"
    }
   ],
   "source": [
    "import matplotlib.pyplot as plt\n",
    "for lb,ub,y in zip(df_ci['lb'],df_ci['ub'],range(len(df_ci))):\n",
    "    plt.plot((lb,ub),(y,y),'ro-')\n",
    "plt.yticks(range(len(df_ci)),list(df_ci['Typematch']))"
   ]
  },
  {
   "cell_type": "markdown",
   "id": "3d7260ec",
   "metadata": {},
   "source": [
    "The 95% confidence intervals for the Malaysian team overlap, which means that there is no statistcal significance to the difference between between the probability that the Malaysian team will win a home or away game. "
   ]
  },
  {
   "cell_type": "markdown",
   "id": "cfd12999",
   "metadata": {},
   "source": [
    "### England "
   ]
  },
  {
   "cell_type": "code",
   "execution_count": 223,
   "id": "327a4717",
   "metadata": {},
   "outputs": [
    {
     "data": {
      "text/html": [
       "<div>\n",
       "<style scoped>\n",
       "    .dataframe tbody tr th:only-of-type {\n",
       "        vertical-align: middle;\n",
       "    }\n",
       "\n",
       "    .dataframe tbody tr th {\n",
       "        vertical-align: top;\n",
       "    }\n",
       "\n",
       "    .dataframe thead th {\n",
       "        text-align: right;\n",
       "    }\n",
       "</style>\n",
       "<table border=\"1\" class=\"dataframe\">\n",
       "  <thead>\n",
       "    <tr style=\"text-align: right;\">\n",
       "      <th></th>\n",
       "      <th>date</th>\n",
       "      <th>home_team</th>\n",
       "      <th>away_team</th>\n",
       "      <th>home_score</th>\n",
       "      <th>away_score</th>\n",
       "      <th>tournament</th>\n",
       "      <th>city</th>\n",
       "      <th>country</th>\n",
       "      <th>neutral</th>\n",
       "      <th>result</th>\n",
       "    </tr>\n",
       "  </thead>\n",
       "  <tbody>\n",
       "    <tr>\n",
       "      <th>1</th>\n",
       "      <td>1873-03-08</td>\n",
       "      <td>England</td>\n",
       "      <td>Scotland</td>\n",
       "      <td>4</td>\n",
       "      <td>2</td>\n",
       "      <td>Friendly</td>\n",
       "      <td>London</td>\n",
       "      <td>England</td>\n",
       "      <td>False</td>\n",
       "      <td>win</td>\n",
       "    </tr>\n",
       "    <tr>\n",
       "      <th>3</th>\n",
       "      <td>1875-03-06</td>\n",
       "      <td>England</td>\n",
       "      <td>Scotland</td>\n",
       "      <td>2</td>\n",
       "      <td>2</td>\n",
       "      <td>Friendly</td>\n",
       "      <td>London</td>\n",
       "      <td>England</td>\n",
       "      <td>False</td>\n",
       "      <td>draw</td>\n",
       "    </tr>\n",
       "    <tr>\n",
       "      <th>6</th>\n",
       "      <td>1877-03-03</td>\n",
       "      <td>England</td>\n",
       "      <td>Scotland</td>\n",
       "      <td>1</td>\n",
       "      <td>3</td>\n",
       "      <td>Friendly</td>\n",
       "      <td>London</td>\n",
       "      <td>England</td>\n",
       "      <td>False</td>\n",
       "      <td>lose</td>\n",
       "    </tr>\n",
       "    <tr>\n",
       "      <th>10</th>\n",
       "      <td>1879-01-18</td>\n",
       "      <td>England</td>\n",
       "      <td>Wales</td>\n",
       "      <td>2</td>\n",
       "      <td>1</td>\n",
       "      <td>Friendly</td>\n",
       "      <td>London</td>\n",
       "      <td>England</td>\n",
       "      <td>False</td>\n",
       "      <td>win</td>\n",
       "    </tr>\n",
       "    <tr>\n",
       "      <th>11</th>\n",
       "      <td>1879-04-05</td>\n",
       "      <td>England</td>\n",
       "      <td>Scotland</td>\n",
       "      <td>5</td>\n",
       "      <td>4</td>\n",
       "      <td>Friendly</td>\n",
       "      <td>London</td>\n",
       "      <td>England</td>\n",
       "      <td>False</td>\n",
       "      <td>win</td>\n",
       "    </tr>\n",
       "  </tbody>\n",
       "</table>\n",
       "</div>"
      ],
      "text/plain": [
       "          date home_team away_team  home_score  away_score tournament    city  \\\n",
       "1   1873-03-08   England  Scotland           4           2   Friendly  London   \n",
       "3   1875-03-06   England  Scotland           2           2   Friendly  London   \n",
       "6   1877-03-03   England  Scotland           1           3   Friendly  London   \n",
       "10  1879-01-18   England     Wales           2           1   Friendly  London   \n",
       "11  1879-04-05   England  Scotland           5           4   Friendly  London   \n",
       "\n",
       "    country  neutral result  \n",
       "1   England    False    win  \n",
       "3   England    False   draw  \n",
       "6   England    False   lose  \n",
       "10  England    False    win  \n",
       "11  England    False    win  "
      ]
     },
     "execution_count": 223,
     "metadata": {},
     "output_type": "execute_result"
    }
   ],
   "source": [
    "df_eng=df[df['country']=='England']\n",
    "df_eng.head()"
   ]
  },
  {
   "cell_type": "code",
   "execution_count": 224,
   "id": "0dbcac33",
   "metadata": {},
   "outputs": [
    {
     "name": "stderr",
     "output_type": "stream",
     "text": [
      "/var/folders/9p/lclsymtn1cz8pt0m19455t0r0000gn/T/ipykernel_61469/1955478581.py:1: SettingWithCopyWarning: \n",
      "A value is trying to be set on a copy of a slice from a DataFrame.\n",
      "Try using .loc[row_indexer,col_indexer] = value instead\n",
      "\n",
      "See the caveats in the documentation: https://pandas.pydata.org/pandas-docs/stable/user_guide/indexing.html#returning-a-view-versus-a-copy\n",
      "  df_eng['home']=(df_eng['home_team']=='England')\n"
     ]
    }
   ],
   "source": [
    "df_eng['home']=(df_eng['home_team']=='England')"
   ]
  },
  {
   "cell_type": "code",
   "execution_count": 225,
   "id": "ef8a516a",
   "metadata": {},
   "outputs": [
    {
     "data": {
      "text/plain": [
       "True     464\n",
       "False    253\n",
       "Name: home, dtype: int64"
      ]
     },
     "execution_count": 225,
     "metadata": {},
     "output_type": "execute_result"
    }
   ],
   "source": [
    "df_eng['home'].value_counts()"
   ]
  },
  {
   "cell_type": "code",
   "execution_count": 226,
   "id": "758c4f3e",
   "metadata": {},
   "outputs": [
    {
     "data": {
      "text/html": [
       "<div>\n",
       "<style scoped>\n",
       "    .dataframe tbody tr th:only-of-type {\n",
       "        vertical-align: middle;\n",
       "    }\n",
       "\n",
       "    .dataframe tbody tr th {\n",
       "        vertical-align: top;\n",
       "    }\n",
       "\n",
       "    .dataframe thead th {\n",
       "        text-align: right;\n",
       "    }\n",
       "</style>\n",
       "<table border=\"1\" class=\"dataframe\">\n",
       "  <thead>\n",
       "    <tr style=\"text-align: right;\">\n",
       "      <th>result</th>\n",
       "      <th>draw</th>\n",
       "      <th>lose</th>\n",
       "      <th>win</th>\n",
       "      <th>All</th>\n",
       "    </tr>\n",
       "    <tr>\n",
       "      <th>home</th>\n",
       "      <th></th>\n",
       "      <th></th>\n",
       "      <th></th>\n",
       "      <th></th>\n",
       "    </tr>\n",
       "  </thead>\n",
       "  <tbody>\n",
       "    <tr>\n",
       "      <th>False</th>\n",
       "      <td>55</td>\n",
       "      <td>83</td>\n",
       "      <td>115</td>\n",
       "      <td>253</td>\n",
       "    </tr>\n",
       "    <tr>\n",
       "      <th>True</th>\n",
       "      <td>101</td>\n",
       "      <td>63</td>\n",
       "      <td>300</td>\n",
       "      <td>464</td>\n",
       "    </tr>\n",
       "    <tr>\n",
       "      <th>All</th>\n",
       "      <td>156</td>\n",
       "      <td>146</td>\n",
       "      <td>415</td>\n",
       "      <td>717</td>\n",
       "    </tr>\n",
       "  </tbody>\n",
       "</table>\n",
       "</div>"
      ],
      "text/plain": [
       "result  draw  lose  win  All\n",
       "home                        \n",
       "False     55    83  115  253\n",
       "True     101    63  300  464\n",
       "All      156   146  415  717"
      ]
     },
     "execution_count": 226,
     "metadata": {},
     "output_type": "execute_result"
    }
   ],
   "source": [
    "x=pd.crosstab(df_eng['home'],df_eng['result'],margins=True)\n",
    "x"
   ]
  },
  {
   "cell_type": "code",
   "execution_count": 227,
   "id": "2d3d67cc",
   "metadata": {},
   "outputs": [
    {
     "data": {
      "text/plain": [
       "array([[ 55,  83, 115, 253],\n",
       "       [101,  63, 300, 464],\n",
       "       [156, 146, 415, 717]])"
      ]
     },
     "execution_count": 227,
     "metadata": {},
     "output_type": "execute_result"
    }
   ],
   "source": [
    "x=np.array(x)\n",
    "x"
   ]
  },
  {
   "cell_type": "code",
   "execution_count": 228,
   "id": "3ff5d9eb",
   "metadata": {},
   "outputs": [
    {
     "data": {
      "text/plain": [
       "(0.6030552883111224, 0.6900481599647397)"
      ]
     },
     "execution_count": 228,
     "metadata": {},
     "output_type": "execute_result"
    }
   ],
   "source": [
    "CI_eng_win_home=proportion_confint(count=x[1,2],nobs=x[1,3],alpha=(1-.95))\n",
    "CI_eng_win_home"
   ]
  },
  {
   "cell_type": "code",
   "execution_count": 229,
   "id": "e84c134b",
   "metadata": {},
   "outputs": [
    {
     "data": {
      "text/plain": [
       "(0.3931896334222213, 0.5159012756686878)"
      ]
     },
     "execution_count": 229,
     "metadata": {},
     "output_type": "execute_result"
    }
   ],
   "source": [
    "CI_eng_win_away=proportion_confint(count=x[0,2],nobs=x[0,3],alpha=(1-.95))\n",
    "CI_eng_win_away"
   ]
  },
  {
   "cell_type": "code",
   "execution_count": 230,
   "id": "4b1e8c2c",
   "metadata": {},
   "outputs": [
    {
     "data": {
      "text/html": [
       "<div>\n",
       "<style scoped>\n",
       "    .dataframe tbody tr th:only-of-type {\n",
       "        vertical-align: middle;\n",
       "    }\n",
       "\n",
       "    .dataframe tbody tr th {\n",
       "        vertical-align: top;\n",
       "    }\n",
       "\n",
       "    .dataframe thead th {\n",
       "        text-align: right;\n",
       "    }\n",
       "</style>\n",
       "<table border=\"1\" class=\"dataframe\">\n",
       "  <thead>\n",
       "    <tr style=\"text-align: right;\">\n",
       "      <th></th>\n",
       "      <th>home</th>\n",
       "      <th>lb</th>\n",
       "      <th>ub</th>\n",
       "    </tr>\n",
       "  </thead>\n",
       "  <tbody>\n",
       "    <tr>\n",
       "      <th>0</th>\n",
       "      <td>Yes</td>\n",
       "      <td>0.603055</td>\n",
       "      <td>0.690048</td>\n",
       "    </tr>\n",
       "    <tr>\n",
       "      <th>1</th>\n",
       "      <td>No</td>\n",
       "      <td>0.393190</td>\n",
       "      <td>0.515901</td>\n",
       "    </tr>\n",
       "  </tbody>\n",
       "</table>\n",
       "</div>"
      ],
      "text/plain": [
       "  home        lb        ub\n",
       "0  Yes  0.603055  0.690048\n",
       "1   No  0.393190  0.515901"
      ]
     },
     "execution_count": 230,
     "metadata": {},
     "output_type": "execute_result"
    }
   ],
   "source": [
    "ci_eng_win = {}\n",
    "ci_eng_win['home'] = ['Yes','No']\n",
    "ci_eng_win['lb'] = [CI_eng_win_home[0],CI_eng_win_away[0]]\n",
    "ci_eng_win['ub'] = [CI_eng_win_home[1],CI_eng_win_away[1]]\n",
    "df_ci= pd.DataFrame(ci_eng_win)\n",
    "df_ci"
   ]
  },
  {
   "cell_type": "code",
   "execution_count": 231,
   "id": "5bc01070",
   "metadata": {},
   "outputs": [
    {
     "data": {
      "text/plain": [
       "([<matplotlib.axis.YTick at 0x7fef93ae3a30>,\n",
       "  <matplotlib.axis.YTick at 0x7fef93ae33a0>],\n",
       " [Text(0, 0, 'Yes'), Text(0, 1, 'No')])"
      ]
     },
     "execution_count": 231,
     "metadata": {},
     "output_type": "execute_result"
    },
    {
     "data": {
      "image/png": "[encoded data removed]",
      "text/plain": [
       "<Figure size 432x288 with 1 Axes>"
      ]
     },
     "metadata": {
      "needs_background": "light"
     },
     "output_type": "display_data"
    }
   ],
   "source": [
    "for lb,ub,y in zip(df_ci['lb'],df_ci['ub'],range(len(df_ci))):\n",
    "    plt.plot((lb,ub),(y,y),'ro-')\n",
    "plt.yticks(range(len(df_ci)),list(df_ci['home']))"
   ]
  },
  {
   "cell_type": "markdown",
   "id": "230e94ec",
   "metadata": {},
   "source": [
    "The probability of the English Football team winning a home game is between (0.6030552883111224, 0.6900481599647397), while the probability of them winning an away game is between (0.3931896334222213, 0.5159012756686878). The Englsih team clearly has an advantage when playing inside England. This could be due to a number of reasons, including the fans. Fans will be cheering for their own team, boosting moral, so at home games most fans will be cheering them on. At away games, fans are less likley to cheer for them and so their moral is lower."
   ]
  },
  {
   "cell_type": "code",
   "execution_count": 277,
   "id": "3b18d42f",
   "metadata": {},
   "outputs": [],
   "source": [
    "conditions = [\n",
    "    (df_eng['tournament']=='Friendly'),\n",
    "    (df_eng['tournament']!='Friendly')\n",
    "    ]\n",
    "values=['Friendly','Official']"
   ]
  },
  {
   "cell_type": "code",
   "execution_count": 278,
   "id": "8f6dfbd3",
   "metadata": {},
   "outputs": [
    {
     "name": "stderr",
     "output_type": "stream",
     "text": [
      "/var/folders/9p/lclsymtn1cz8pt0m19455t0r0000gn/T/ipykernel_61469/2588636400.py:1: SettingWithCopyWarning: \n",
      "A value is trying to be set on a copy of a slice from a DataFrame.\n",
      "Try using .loc[row_indexer,col_indexer] = value instead\n",
      "\n",
      "See the caveats in the documentation: https://pandas.pydata.org/pandas-docs/stable/user_guide/indexing.html#returning-a-view-versus-a-copy\n",
      "  df_eng['typematch'] = np.select(conditions, values)\n"
     ]
    }
   ],
   "source": [
    "df_eng['typematch'] = np.select(conditions, values)"
   ]
  },
  {
   "cell_type": "code",
   "execution_count": 279,
   "id": "03afd615",
   "metadata": {},
   "outputs": [
    {
     "data": {
      "text/plain": [
       "Official    431\n",
       "Friendly    286\n",
       "Name: typematch, dtype: int64"
      ]
     },
     "execution_count": 279,
     "metadata": {},
     "output_type": "execute_result"
    }
   ],
   "source": [
    "df_eng['typematch'].value_counts()"
   ]
  },
  {
   "cell_type": "code",
   "execution_count": 280,
   "id": "e294390c",
   "metadata": {},
   "outputs": [
    {
     "data": {
      "text/html": [
       "<div>\n",
       "<style scoped>\n",
       "    .dataframe tbody tr th:only-of-type {\n",
       "        vertical-align: middle;\n",
       "    }\n",
       "\n",
       "    .dataframe tbody tr th {\n",
       "        vertical-align: top;\n",
       "    }\n",
       "\n",
       "    .dataframe thead th {\n",
       "        text-align: right;\n",
       "    }\n",
       "</style>\n",
       "<table border=\"1\" class=\"dataframe\">\n",
       "  <thead>\n",
       "    <tr style=\"text-align: right;\">\n",
       "      <th>result</th>\n",
       "      <th>draw</th>\n",
       "      <th>lose</th>\n",
       "      <th>win</th>\n",
       "      <th>All</th>\n",
       "    </tr>\n",
       "    <tr>\n",
       "      <th>typematch</th>\n",
       "      <th></th>\n",
       "      <th></th>\n",
       "      <th></th>\n",
       "      <th></th>\n",
       "    </tr>\n",
       "  </thead>\n",
       "  <tbody>\n",
       "    <tr>\n",
       "      <th>Friendly</th>\n",
       "      <td>72</td>\n",
       "      <td>58</td>\n",
       "      <td>156</td>\n",
       "      <td>286</td>\n",
       "    </tr>\n",
       "    <tr>\n",
       "      <th>Official</th>\n",
       "      <td>84</td>\n",
       "      <td>88</td>\n",
       "      <td>259</td>\n",
       "      <td>431</td>\n",
       "    </tr>\n",
       "    <tr>\n",
       "      <th>All</th>\n",
       "      <td>156</td>\n",
       "      <td>146</td>\n",
       "      <td>415</td>\n",
       "      <td>717</td>\n",
       "    </tr>\n",
       "  </tbody>\n",
       "</table>\n",
       "</div>"
      ],
      "text/plain": [
       "result     draw  lose  win  All\n",
       "typematch                      \n",
       "Friendly     72    58  156  286\n",
       "Official     84    88  259  431\n",
       "All         156   146  415  717"
      ]
     },
     "execution_count": 280,
     "metadata": {},
     "output_type": "execute_result"
    }
   ],
   "source": [
    "x=pd.crosstab(df_eng['typematch'],df_eng['result'],margins=True)\n",
    "x"
   ]
  },
  {
   "cell_type": "code",
   "execution_count": 281,
   "id": "2f4e13c6",
   "metadata": {},
   "outputs": [
    {
     "data": {
      "text/plain": [
       "array([[ 72,  58, 156, 286],\n",
       "       [ 84,  88, 259, 431],\n",
       "       [156, 146, 415, 717]])"
      ]
     },
     "execution_count": 281,
     "metadata": {},
     "output_type": "execute_result"
    }
   ],
   "source": [
    "x=np.array(x)\n",
    "x"
   ]
  },
  {
   "cell_type": "code",
   "execution_count": 282,
   "id": "63cd76f8",
   "metadata": {},
   "outputs": [
    {
     "data": {
      "text/plain": [
       "(0.48774694494485304, 0.6031621459642378)"
      ]
     },
     "execution_count": 282,
     "metadata": {},
     "output_type": "execute_result"
    }
   ],
   "source": [
    "CI_engwin_friendly=proportion_confint(count=x[0,2],nobs=x[0,3],alpha=(1-.95))\n",
    "CI_engwin_friendly"
   ]
  },
  {
   "cell_type": "code",
   "execution_count": 283,
   "id": "b2a275d4",
   "metadata": {},
   "outputs": [
    {
     "data": {
      "text/plain": [
       "(0.5546956899682828, 0.6471604585235965)"
      ]
     },
     "execution_count": 283,
     "metadata": {},
     "output_type": "execute_result"
    }
   ],
   "source": [
    "CI_engwin_official=proportion_confint(count=x[1,2],nobs=x[1,3],alpha=(1-.95))\n",
    "CI_engwin_official"
   ]
  },
  {
   "cell_type": "code",
   "execution_count": 284,
   "id": "bd0a1044",
   "metadata": {},
   "outputs": [
    {
     "data": {
      "text/html": [
       "<div>\n",
       "<style scoped>\n",
       "    .dataframe tbody tr th:only-of-type {\n",
       "        vertical-align: middle;\n",
       "    }\n",
       "\n",
       "    .dataframe tbody tr th {\n",
       "        vertical-align: top;\n",
       "    }\n",
       "\n",
       "    .dataframe thead th {\n",
       "        text-align: right;\n",
       "    }\n",
       "</style>\n",
       "<table border=\"1\" class=\"dataframe\">\n",
       "  <thead>\n",
       "    <tr style=\"text-align: right;\">\n",
       "      <th></th>\n",
       "      <th>Typematch</th>\n",
       "      <th>lb</th>\n",
       "      <th>ub</th>\n",
       "    </tr>\n",
       "  </thead>\n",
       "  <tbody>\n",
       "    <tr>\n",
       "      <th>0</th>\n",
       "      <td>Friendly</td>\n",
       "      <td>0.487747</td>\n",
       "      <td>0.603162</td>\n",
       "    </tr>\n",
       "    <tr>\n",
       "      <th>1</th>\n",
       "      <td>Official</td>\n",
       "      <td>0.554696</td>\n",
       "      <td>0.647160</td>\n",
       "    </tr>\n",
       "  </tbody>\n",
       "</table>\n",
       "</div>"
      ],
      "text/plain": [
       "  Typematch        lb        ub\n",
       "0  Friendly  0.487747  0.603162\n",
       "1  Official  0.554696  0.647160"
      ]
     },
     "execution_count": 284,
     "metadata": {},
     "output_type": "execute_result"
    }
   ],
   "source": [
    "ci_engwin = {}\n",
    "ci_engwin['Typematch'] = ['Friendly','Official']\n",
    "ci_engwin['lb'] = [CI_engwin_friendly[0],CI_engwin_official[0]]\n",
    "ci_engwin['ub'] = [CI_engwin_friendly[1],CI_engwin_official[1]]\n",
    "df_ci= pd.DataFrame(ci_engwin)\n",
    "df_ci"
   ]
  },
  {
   "cell_type": "code",
   "execution_count": 285,
   "id": "af928ee6",
   "metadata": {},
   "outputs": [
    {
     "data": {
      "text/plain": [
       "([<matplotlib.axis.YTick at 0x7fef9499d6a0>,\n",
       "  <matplotlib.axis.YTick at 0x7fef94936ee0>],\n",
       " [Text(0, 0, 'Friendly'), Text(0, 1, 'Official')])"
      ]
     },
     "execution_count": 285,
     "metadata": {},
     "output_type": "execute_result"
    },
    {
     "data": {
      "image/png": "[encoded data removed]",
      "text/plain": [
       "<Figure size 432x288 with 1 Axes>"
      ]
     },
     "metadata": {
      "needs_background": "light"
     },
     "output_type": "display_data"
    }
   ],
   "source": [
    "import matplotlib.pyplot as plt\n",
    "for lb,ub,y in zip(df_ci['lb'],df_ci['ub'],range(len(df_ci))):\n",
    "    plt.plot((lb,ub),(y,y),'ro-')\n",
    "plt.yticks(range(len(df_ci)),list(df_ci['Typematch']))"
   ]
  },
  {
   "cell_type": "markdown",
   "id": "21f1f6c5",
   "metadata": {},
   "source": [
    "The 95% confidence intervals for the English team overlap, which means that there is no statistcal significance to the difference between between the probability that the English team will win a home or away game. "
   ]
  },
  {
   "cell_type": "markdown",
   "id": "64e12e71",
   "metadata": {},
   "source": [
    "### Sweden "
   ]
  },
  {
   "cell_type": "code",
   "execution_count": 233,
   "id": "825c4738",
   "metadata": {},
   "outputs": [
    {
     "data": {
      "text/html": [
       "<div>\n",
       "<style scoped>\n",
       "    .dataframe tbody tr th:only-of-type {\n",
       "        vertical-align: middle;\n",
       "    }\n",
       "\n",
       "    .dataframe tbody tr th {\n",
       "        vertical-align: top;\n",
       "    }\n",
       "\n",
       "    .dataframe thead th {\n",
       "        text-align: right;\n",
       "    }\n",
       "</style>\n",
       "<table border=\"1\" class=\"dataframe\">\n",
       "  <thead>\n",
       "    <tr style=\"text-align: right;\">\n",
       "      <th></th>\n",
       "      <th>date</th>\n",
       "      <th>home_team</th>\n",
       "      <th>away_team</th>\n",
       "      <th>home_score</th>\n",
       "      <th>away_score</th>\n",
       "      <th>tournament</th>\n",
       "      <th>city</th>\n",
       "      <th>country</th>\n",
       "      <th>neutral</th>\n",
       "      <th>result</th>\n",
       "    </tr>\n",
       "  </thead>\n",
       "  <tbody>\n",
       "    <tr>\n",
       "      <th>224</th>\n",
       "      <td>7/12/1908</td>\n",
       "      <td>Sweden</td>\n",
       "      <td>Norway</td>\n",
       "      <td>11</td>\n",
       "      <td>3</td>\n",
       "      <td>Friendly</td>\n",
       "      <td>Gothenburg</td>\n",
       "      <td>Sweden</td>\n",
       "      <td>False</td>\n",
       "      <td>win</td>\n",
       "    </tr>\n",
       "    <tr>\n",
       "      <th>296</th>\n",
       "      <td>6/18/1911</td>\n",
       "      <td>Sweden</td>\n",
       "      <td>Germany</td>\n",
       "      <td>2</td>\n",
       "      <td>4</td>\n",
       "      <td>Friendly</td>\n",
       "      <td>Solna</td>\n",
       "      <td>Sweden</td>\n",
       "      <td>False</td>\n",
       "      <td>lose</td>\n",
       "    </tr>\n",
       "    <tr>\n",
       "      <th>298</th>\n",
       "      <td>9/17/1911</td>\n",
       "      <td>Sweden</td>\n",
       "      <td>Norway</td>\n",
       "      <td>4</td>\n",
       "      <td>1</td>\n",
       "      <td>Friendly</td>\n",
       "      <td>Solna</td>\n",
       "      <td>Sweden</td>\n",
       "      <td>False</td>\n",
       "      <td>win</td>\n",
       "    </tr>\n",
       "    <tr>\n",
       "      <th>328</th>\n",
       "      <td>6/20/1912</td>\n",
       "      <td>Sweden</td>\n",
       "      <td>Hungary</td>\n",
       "      <td>2</td>\n",
       "      <td>2</td>\n",
       "      <td>Friendly</td>\n",
       "      <td>Gothenburg</td>\n",
       "      <td>Sweden</td>\n",
       "      <td>False</td>\n",
       "      <td>draw</td>\n",
       "    </tr>\n",
       "    <tr>\n",
       "      <th>330</th>\n",
       "      <td>6/27/1912</td>\n",
       "      <td>Sweden</td>\n",
       "      <td>Finland</td>\n",
       "      <td>7</td>\n",
       "      <td>1</td>\n",
       "      <td>Friendly</td>\n",
       "      <td>Solna</td>\n",
       "      <td>Sweden</td>\n",
       "      <td>False</td>\n",
       "      <td>win</td>\n",
       "    </tr>\n",
       "  </tbody>\n",
       "</table>\n",
       "</div>"
      ],
      "text/plain": [
       "          date home_team away_team  home_score  away_score tournament  \\\n",
       "224  7/12/1908    Sweden    Norway          11           3   Friendly   \n",
       "296  6/18/1911    Sweden   Germany           2           4   Friendly   \n",
       "298  9/17/1911    Sweden    Norway           4           1   Friendly   \n",
       "328  6/20/1912    Sweden   Hungary           2           2   Friendly   \n",
       "330  6/27/1912    Sweden   Finland           7           1   Friendly   \n",
       "\n",
       "           city country  neutral result  \n",
       "224  Gothenburg  Sweden    False    win  \n",
       "296       Solna  Sweden    False   lose  \n",
       "298       Solna  Sweden    False    win  \n",
       "328  Gothenburg  Sweden    False   draw  \n",
       "330       Solna  Sweden    False    win  "
      ]
     },
     "execution_count": 233,
     "metadata": {},
     "output_type": "execute_result"
    }
   ],
   "source": [
    "df_se=df[df['country']=='Sweden']\n",
    "df_se.head()"
   ]
  },
  {
   "cell_type": "code",
   "execution_count": 234,
   "id": "bb6ee165",
   "metadata": {},
   "outputs": [
    {
     "name": "stderr",
     "output_type": "stream",
     "text": [
      "/var/folders/9p/lclsymtn1cz8pt0m19455t0r0000gn/T/ipykernel_61469/3936844897.py:1: SettingWithCopyWarning: \n",
      "A value is trying to be set on a copy of a slice from a DataFrame.\n",
      "Try using .loc[row_indexer,col_indexer] = value instead\n",
      "\n",
      "See the caveats in the documentation: https://pandas.pydata.org/pandas-docs/stable/user_guide/indexing.html#returning-a-view-versus-a-copy\n",
      "  df_se['home']=(df_se['home_team']=='Sweden')\n"
     ]
    }
   ],
   "source": [
    "df_se['home']=(df_se['home_team']=='Sweden')"
   ]
  },
  {
   "cell_type": "code",
   "execution_count": 236,
   "id": "05f77b91",
   "metadata": {},
   "outputs": [
    {
     "data": {
      "text/plain": [
       "True     460\n",
       "False    195\n",
       "Name: home, dtype: int64"
      ]
     },
     "execution_count": 236,
     "metadata": {},
     "output_type": "execute_result"
    }
   ],
   "source": [
    "df_se['home'].value_counts()"
   ]
  },
  {
   "cell_type": "code",
   "execution_count": 237,
   "id": "0efddd69",
   "metadata": {},
   "outputs": [
    {
     "data": {
      "text/html": [
       "<div>\n",
       "<style scoped>\n",
       "    .dataframe tbody tr th:only-of-type {\n",
       "        vertical-align: middle;\n",
       "    }\n",
       "\n",
       "    .dataframe tbody tr th {\n",
       "        vertical-align: top;\n",
       "    }\n",
       "\n",
       "    .dataframe thead th {\n",
       "        text-align: right;\n",
       "    }\n",
       "</style>\n",
       "<table border=\"1\" class=\"dataframe\">\n",
       "  <thead>\n",
       "    <tr style=\"text-align: right;\">\n",
       "      <th>result</th>\n",
       "      <th>draw</th>\n",
       "      <th>lose</th>\n",
       "      <th>win</th>\n",
       "      <th>All</th>\n",
       "    </tr>\n",
       "    <tr>\n",
       "      <th>home</th>\n",
       "      <th></th>\n",
       "      <th></th>\n",
       "      <th></th>\n",
       "      <th></th>\n",
       "    </tr>\n",
       "  </thead>\n",
       "  <tbody>\n",
       "    <tr>\n",
       "      <th>False</th>\n",
       "      <td>40</td>\n",
       "      <td>67</td>\n",
       "      <td>88</td>\n",
       "      <td>195</td>\n",
       "    </tr>\n",
       "    <tr>\n",
       "      <th>True</th>\n",
       "      <td>94</td>\n",
       "      <td>90</td>\n",
       "      <td>276</td>\n",
       "      <td>460</td>\n",
       "    </tr>\n",
       "    <tr>\n",
       "      <th>All</th>\n",
       "      <td>134</td>\n",
       "      <td>157</td>\n",
       "      <td>364</td>\n",
       "      <td>655</td>\n",
       "    </tr>\n",
       "  </tbody>\n",
       "</table>\n",
       "</div>"
      ],
      "text/plain": [
       "result  draw  lose  win  All\n",
       "home                        \n",
       "False     40    67   88  195\n",
       "True      94    90  276  460\n",
       "All      134   157  364  655"
      ]
     },
     "execution_count": 237,
     "metadata": {},
     "output_type": "execute_result"
    }
   ],
   "source": [
    "x=pd.crosstab(df_se['home'],df_se['result'],margins=True)\n",
    "x"
   ]
  },
  {
   "cell_type": "code",
   "execution_count": 238,
   "id": "fa00d44b",
   "metadata": {},
   "outputs": [
    {
     "data": {
      "text/plain": [
       "array([[ 40,  67,  88, 195],\n",
       "       [ 94,  90, 276, 460],\n",
       "       [134, 157, 364, 655]])"
      ]
     },
     "execution_count": 238,
     "metadata": {},
     "output_type": "execute_result"
    }
   ],
   "source": [
    "x=np.array(x)\n",
    "x"
   ]
  },
  {
   "cell_type": "code",
   "execution_count": 239,
   "id": "6b43e347",
   "metadata": {},
   "outputs": [
    {
     "data": {
      "text/plain": [
       "(0.5552312677786161, 0.6447687322213839)"
      ]
     },
     "execution_count": 239,
     "metadata": {},
     "output_type": "execute_result"
    }
   ],
   "source": [
    "CI_se_win_home=proportion_confint(count=x[1,2],nobs=x[1,3],alpha=(1-.95))\n",
    "CI_se_win_home"
   ]
  },
  {
   "cell_type": "code",
   "execution_count": 240,
   "id": "d8271343",
   "metadata": {},
   "outputs": [
    {
     "data": {
      "text/plain": [
       "(0.38143800380308795, 0.5211260987610146)"
      ]
     },
     "execution_count": 240,
     "metadata": {},
     "output_type": "execute_result"
    }
   ],
   "source": [
    "CI_se_win_away=proportion_confint(count=x[0,2],nobs=x[0,3],alpha=(1-.95))\n",
    "CI_se_win_away"
   ]
  },
  {
   "cell_type": "code",
   "execution_count": 241,
   "id": "ac581178",
   "metadata": {},
   "outputs": [
    {
     "data": {
      "text/html": [
       "<div>\n",
       "<style scoped>\n",
       "    .dataframe tbody tr th:only-of-type {\n",
       "        vertical-align: middle;\n",
       "    }\n",
       "\n",
       "    .dataframe tbody tr th {\n",
       "        vertical-align: top;\n",
       "    }\n",
       "\n",
       "    .dataframe thead th {\n",
       "        text-align: right;\n",
       "    }\n",
       "</style>\n",
       "<table border=\"1\" class=\"dataframe\">\n",
       "  <thead>\n",
       "    <tr style=\"text-align: right;\">\n",
       "      <th></th>\n",
       "      <th>home</th>\n",
       "      <th>lb</th>\n",
       "      <th>ub</th>\n",
       "    </tr>\n",
       "  </thead>\n",
       "  <tbody>\n",
       "    <tr>\n",
       "      <th>0</th>\n",
       "      <td>Yes</td>\n",
       "      <td>0.555231</td>\n",
       "      <td>0.644769</td>\n",
       "    </tr>\n",
       "    <tr>\n",
       "      <th>1</th>\n",
       "      <td>No</td>\n",
       "      <td>0.381438</td>\n",
       "      <td>0.521126</td>\n",
       "    </tr>\n",
       "  </tbody>\n",
       "</table>\n",
       "</div>"
      ],
      "text/plain": [
       "  home        lb        ub\n",
       "0  Yes  0.555231  0.644769\n",
       "1   No  0.381438  0.521126"
      ]
     },
     "execution_count": 241,
     "metadata": {},
     "output_type": "execute_result"
    }
   ],
   "source": [
    "ci_se_win = {}\n",
    "ci_se_win['home'] = ['Yes','No']\n",
    "ci_se_win['lb'] = [CI_se_win_home[0],CI_se_win_away[0]]\n",
    "ci_se_win['ub'] = [CI_se_win_home[1],CI_se_win_away[1]]\n",
    "df_ci= pd.DataFrame(ci_se_win)\n",
    "df_ci"
   ]
  },
  {
   "cell_type": "code",
   "execution_count": 242,
   "id": "c2095a28",
   "metadata": {},
   "outputs": [
    {
     "data": {
      "text/plain": [
       "([<matplotlib.axis.YTick at 0x7fef945efee0>,\n",
       "  <matplotlib.axis.YTick at 0x7fef945ef760>],\n",
       " [Text(0, 0, 'Yes'), Text(0, 1, 'No')])"
      ]
     },
     "execution_count": 242,
     "metadata": {},
     "output_type": "execute_result"
    },
    {
     "data": {
      "image/png": "[encoded data removed]",
      "text/plain": [
       "<Figure size 432x288 with 1 Axes>"
      ]
     },
     "metadata": {
      "needs_background": "light"
     },
     "output_type": "display_data"
    }
   ],
   "source": [
    "for lb,ub,y in zip(df_ci['lb'],df_ci['ub'],range(len(df_ci))):\n",
    "    plt.plot((lb,ub),(y,y),'ro-')\n",
    "plt.yticks(range(len(df_ci)),list(df_ci['home']))"
   ]
  },
  {
   "cell_type": "markdown",
   "id": "79f10acb",
   "metadata": {},
   "source": [
    "The probability of the Swedish Football team winning a home game is between (0.5552312677786161, 0.6447687322213839), while the probability of them winning an away game is between (0.38143800380308795, 0.5211260987610146). The probability of them winning a home game is clearly higher, which shows that the Swedish team clearly has an advantage when playing inside Sweden. This could be due to a number of reasons, including the fans. At home games, most fans will be cheering for them, boosting moral. At away games, fans are less likley to cheer for them and so their moral is lower. "
   ]
  },
  {
   "cell_type": "code",
   "execution_count": 287,
   "id": "2bdecf3d",
   "metadata": {},
   "outputs": [],
   "source": [
    "conditions = [\n",
    "    (df_se['tournament']=='Friendly'),\n",
    "    (df_se['tournament']!='Friendly')\n",
    "    ]\n",
    "values=['Friendly','Official']"
   ]
  },
  {
   "cell_type": "code",
   "execution_count": 289,
   "id": "d75840c3",
   "metadata": {},
   "outputs": [
    {
     "name": "stderr",
     "output_type": "stream",
     "text": [
      "/var/folders/9p/lclsymtn1cz8pt0m19455t0r0000gn/T/ipykernel_61469/747775660.py:1: SettingWithCopyWarning: \n",
      "A value is trying to be set on a copy of a slice from a DataFrame.\n",
      "Try using .loc[row_indexer,col_indexer] = value instead\n",
      "\n",
      "See the caveats in the documentation: https://pandas.pydata.org/pandas-docs/stable/user_guide/indexing.html#returning-a-view-versus-a-copy\n",
      "  df_se['typematch'] = np.select(conditions, values)\n"
     ]
    }
   ],
   "source": [
    "df_se['typematch'] = np.select(conditions, values)"
   ]
  },
  {
   "cell_type": "code",
   "execution_count": 290,
   "id": "8d9eb725",
   "metadata": {},
   "outputs": [
    {
     "data": {
      "text/plain": [
       "Official    394\n",
       "Friendly    261\n",
       "Name: typematch, dtype: int64"
      ]
     },
     "execution_count": 290,
     "metadata": {},
     "output_type": "execute_result"
    }
   ],
   "source": [
    "df_se['typematch'].value_counts()"
   ]
  },
  {
   "cell_type": "code",
   "execution_count": 291,
   "id": "4c46501f",
   "metadata": {},
   "outputs": [
    {
     "data": {
      "text/html": [
       "<div>\n",
       "<style scoped>\n",
       "    .dataframe tbody tr th:only-of-type {\n",
       "        vertical-align: middle;\n",
       "    }\n",
       "\n",
       "    .dataframe tbody tr th {\n",
       "        vertical-align: top;\n",
       "    }\n",
       "\n",
       "    .dataframe thead th {\n",
       "        text-align: right;\n",
       "    }\n",
       "</style>\n",
       "<table border=\"1\" class=\"dataframe\">\n",
       "  <thead>\n",
       "    <tr style=\"text-align: right;\">\n",
       "      <th>result</th>\n",
       "      <th>draw</th>\n",
       "      <th>lose</th>\n",
       "      <th>win</th>\n",
       "      <th>All</th>\n",
       "    </tr>\n",
       "    <tr>\n",
       "      <th>typematch</th>\n",
       "      <th></th>\n",
       "      <th></th>\n",
       "      <th></th>\n",
       "      <th></th>\n",
       "    </tr>\n",
       "  </thead>\n",
       "  <tbody>\n",
       "    <tr>\n",
       "      <th>Friendly</th>\n",
       "      <td>56</td>\n",
       "      <td>60</td>\n",
       "      <td>145</td>\n",
       "      <td>261</td>\n",
       "    </tr>\n",
       "    <tr>\n",
       "      <th>Official</th>\n",
       "      <td>78</td>\n",
       "      <td>97</td>\n",
       "      <td>219</td>\n",
       "      <td>394</td>\n",
       "    </tr>\n",
       "    <tr>\n",
       "      <th>All</th>\n",
       "      <td>134</td>\n",
       "      <td>157</td>\n",
       "      <td>364</td>\n",
       "      <td>655</td>\n",
       "    </tr>\n",
       "  </tbody>\n",
       "</table>\n",
       "</div>"
      ],
      "text/plain": [
       "result     draw  lose  win  All\n",
       "typematch                      \n",
       "Friendly     56    60  145  261\n",
       "Official     78    97  219  394\n",
       "All         134   157  364  655"
      ]
     },
     "execution_count": 291,
     "metadata": {},
     "output_type": "execute_result"
    }
   ],
   "source": [
    "x=pd.crosstab(df_se['typematch'],df_se['result'],margins=True)\n",
    "x"
   ]
  },
  {
   "cell_type": "code",
   "execution_count": 292,
   "id": "070a69a5",
   "metadata": {},
   "outputs": [
    {
     "data": {
      "text/plain": [
       "array([[ 56,  60, 145, 261],\n",
       "       [ 78,  97, 219, 394],\n",
       "       [134, 157, 364, 655]])"
      ]
     },
     "execution_count": 292,
     "metadata": {},
     "output_type": "execute_result"
    }
   ],
   "source": [
    "x=np.array(x)\n",
    "x"
   ]
  },
  {
   "cell_type": "code",
   "execution_count": 293,
   "id": "c3aca765",
   "metadata": {},
   "outputs": [
    {
     "data": {
      "text/plain": [
       "(0.49527179644734187, 0.6158393146637693)"
      ]
     },
     "execution_count": 293,
     "metadata": {},
     "output_type": "execute_result"
    }
   ],
   "source": [
    "CI_sewin_friendly=proportion_confint(count=x[0,2],nobs=x[0,3],alpha=(1-.95))\n",
    "CI_sewin_friendly"
   ]
  },
  {
   "cell_type": "code",
   "execution_count": 294,
   "id": "ead7f301",
   "metadata": {},
   "outputs": [
    {
     "data": {
      "text/plain": [
       "(0.5067756095535363, 0.6048995173500169)"
      ]
     },
     "execution_count": 294,
     "metadata": {},
     "output_type": "execute_result"
    }
   ],
   "source": [
    "CI_sewin_official=proportion_confint(count=x[1,2],nobs=x[1,3],alpha=(1-.95))\n",
    "CI_sewin_official"
   ]
  },
  {
   "cell_type": "code",
   "execution_count": 295,
   "id": "4a2da4da",
   "metadata": {},
   "outputs": [
    {
     "data": {
      "text/html": [
       "<div>\n",
       "<style scoped>\n",
       "    .dataframe tbody tr th:only-of-type {\n",
       "        vertical-align: middle;\n",
       "    }\n",
       "\n",
       "    .dataframe tbody tr th {\n",
       "        vertical-align: top;\n",
       "    }\n",
       "\n",
       "    .dataframe thead th {\n",
       "        text-align: right;\n",
       "    }\n",
       "</style>\n",
       "<table border=\"1\" class=\"dataframe\">\n",
       "  <thead>\n",
       "    <tr style=\"text-align: right;\">\n",
       "      <th></th>\n",
       "      <th>Typematch</th>\n",
       "      <th>lb</th>\n",
       "      <th>ub</th>\n",
       "    </tr>\n",
       "  </thead>\n",
       "  <tbody>\n",
       "    <tr>\n",
       "      <th>0</th>\n",
       "      <td>Friendly</td>\n",
       "      <td>0.495272</td>\n",
       "      <td>0.615839</td>\n",
       "    </tr>\n",
       "    <tr>\n",
       "      <th>1</th>\n",
       "      <td>Official</td>\n",
       "      <td>0.506776</td>\n",
       "      <td>0.604900</td>\n",
       "    </tr>\n",
       "  </tbody>\n",
       "</table>\n",
       "</div>"
      ],
      "text/plain": [
       "  Typematch        lb        ub\n",
       "0  Friendly  0.495272  0.615839\n",
       "1  Official  0.506776  0.604900"
      ]
     },
     "execution_count": 295,
     "metadata": {},
     "output_type": "execute_result"
    }
   ],
   "source": [
    "ci_sewin = {}\n",
    "ci_sewin['Typematch'] = ['Friendly','Official']\n",
    "ci_sewin['lb'] = [CI_sewin_friendly[0],CI_sewin_official[0]]\n",
    "ci_sewin['ub'] = [CI_sewin_friendly[1],CI_sewin_official[1]]\n",
    "df_ci= pd.DataFrame(ci_sewin)\n",
    "df_ci"
   ]
  },
  {
   "cell_type": "code",
   "execution_count": 296,
   "id": "f14bf2c5",
   "metadata": {},
   "outputs": [
    {
     "data": {
      "text/plain": [
       "([<matplotlib.axis.YTick at 0x7fef94a2fb50>,\n",
       "  <matplotlib.axis.YTick at 0x7fef94a2f3d0>],\n",
       " [Text(0, 0, 'Friendly'), Text(0, 1, 'Official')])"
      ]
     },
     "execution_count": 296,
     "metadata": {},
     "output_type": "execute_result"
    },
    {
     "data": {
      "image/png": "[encoded data removed]",
      "text/plain": [
       "<Figure size 432x288 with 1 Axes>"
      ]
     },
     "metadata": {
      "needs_background": "light"
     },
     "output_type": "display_data"
    }
   ],
   "source": [
    "import matplotlib.pyplot as plt\n",
    "for lb,ub,y in zip(df_ci['lb'],df_ci['ub'],range(len(df_ci))):\n",
    "    plt.plot((lb,ub),(y,y),'ro-')\n",
    "plt.yticks(range(len(df_ci)),list(df_ci['Typematch']))"
   ]
  },
  {
   "cell_type": "markdown",
   "id": "26415b57",
   "metadata": {},
   "source": [
    "The 95% confidence intervals for the Swedish team overlap, which means that there is no statistcal significance to the difference between between the probability that the Swedish team will win a home or away game. "
   ]
  },
  {
   "cell_type": "markdown",
   "id": "6f57cb53",
   "metadata": {},
   "source": [
    "# Part 2: Analysis of the Covid-19 Pandemic in 2020 and 2021"
   ]
  },
  {
   "cell_type": "markdown",
   "id": "790b1de5",
   "metadata": {},
   "source": [
    "The following is an anlysis of the COVID-19 pandemic. The data includes 122,843 observations, which are the number of COVID-19 cases and deaths per day per country. I will compute the rate of deaths from COVID-19 to the number of new COVID-19 cases and compare between 2020 and 2021 in terms of several factors like region and income level. "
   ]
  },
  {
   "cell_type": "code",
   "execution_count": 320,
   "id": "3ace4a9c",
   "metadata": {},
   "outputs": [],
   "source": [
    "df=pd.read_csv('covid_data.csv',encoding='latin-1')"
   ]
  },
  {
   "cell_type": "code",
   "execution_count": 321,
   "id": "79730cf1",
   "metadata": {
    "scrolled": true
   },
   "outputs": [
    {
     "data": {
      "text/html": [
       "<div>\n",
       "<style scoped>\n",
       "    .dataframe tbody tr th:only-of-type {\n",
       "        vertical-align: middle;\n",
       "    }\n",
       "\n",
       "    .dataframe tbody tr th {\n",
       "        vertical-align: top;\n",
       "    }\n",
       "\n",
       "    .dataframe thead th {\n",
       "        text-align: right;\n",
       "    }\n",
       "</style>\n",
       "<table border=\"1\" class=\"dataframe\">\n",
       "  <thead>\n",
       "    <tr style=\"text-align: right;\">\n",
       "      <th></th>\n",
       "      <th>date</th>\n",
       "      <th>iso3c</th>\n",
       "      <th>country</th>\n",
       "      <th>income</th>\n",
       "      <th>region</th>\n",
       "      <th>continent</th>\n",
       "      <th>dcases</th>\n",
       "      <th>ddeaths</th>\n",
       "      <th>population</th>\n",
       "      <th>weekdays</th>\n",
       "      <th>month</th>\n",
       "    </tr>\n",
       "  </thead>\n",
       "  <tbody>\n",
       "    <tr>\n",
       "      <th>0</th>\n",
       "      <td>2020-02-24</td>\n",
       "      <td>AFG</td>\n",
       "      <td>Afghanistan</td>\n",
       "      <td>Low income</td>\n",
       "      <td>South Asia</td>\n",
       "      <td>Asia</td>\n",
       "      <td>5</td>\n",
       "      <td>0</td>\n",
       "      <td>38041754</td>\n",
       "      <td>Mon</td>\n",
       "      <td>Feb</td>\n",
       "    </tr>\n",
       "    <tr>\n",
       "      <th>1</th>\n",
       "      <td>2020-02-25</td>\n",
       "      <td>AFG</td>\n",
       "      <td>Afghanistan</td>\n",
       "      <td>Low income</td>\n",
       "      <td>South Asia</td>\n",
       "      <td>Asia</td>\n",
       "      <td>0</td>\n",
       "      <td>0</td>\n",
       "      <td>38041754</td>\n",
       "      <td>Tue</td>\n",
       "      <td>Feb</td>\n",
       "    </tr>\n",
       "    <tr>\n",
       "      <th>2</th>\n",
       "      <td>2020-02-26</td>\n",
       "      <td>AFG</td>\n",
       "      <td>Afghanistan</td>\n",
       "      <td>Low income</td>\n",
       "      <td>South Asia</td>\n",
       "      <td>Asia</td>\n",
       "      <td>0</td>\n",
       "      <td>0</td>\n",
       "      <td>38041754</td>\n",
       "      <td>Wed</td>\n",
       "      <td>Feb</td>\n",
       "    </tr>\n",
       "    <tr>\n",
       "      <th>3</th>\n",
       "      <td>2020-02-27</td>\n",
       "      <td>AFG</td>\n",
       "      <td>Afghanistan</td>\n",
       "      <td>Low income</td>\n",
       "      <td>South Asia</td>\n",
       "      <td>Asia</td>\n",
       "      <td>0</td>\n",
       "      <td>0</td>\n",
       "      <td>38041754</td>\n",
       "      <td>Thu</td>\n",
       "      <td>Feb</td>\n",
       "    </tr>\n",
       "    <tr>\n",
       "      <th>4</th>\n",
       "      <td>2020-02-28</td>\n",
       "      <td>AFG</td>\n",
       "      <td>Afghanistan</td>\n",
       "      <td>Low income</td>\n",
       "      <td>South Asia</td>\n",
       "      <td>Asia</td>\n",
       "      <td>0</td>\n",
       "      <td>0</td>\n",
       "      <td>38041754</td>\n",
       "      <td>Fri</td>\n",
       "      <td>Feb</td>\n",
       "    </tr>\n",
       "  </tbody>\n",
       "</table>\n",
       "</div>"
      ],
      "text/plain": [
       "         date iso3c      country      income      region continent  dcases  \\\n",
       "0  2020-02-24   AFG  Afghanistan  Low income  South Asia      Asia       5   \n",
       "1  2020-02-25   AFG  Afghanistan  Low income  South Asia      Asia       0   \n",
       "2  2020-02-26   AFG  Afghanistan  Low income  South Asia      Asia       0   \n",
       "3  2020-02-27   AFG  Afghanistan  Low income  South Asia      Asia       0   \n",
       "4  2020-02-28   AFG  Afghanistan  Low income  South Asia      Asia       0   \n",
       "\n",
       "   ddeaths  population weekdays month  \n",
       "0        0    38041754      Mon   Feb  \n",
       "1        0    38041754      Tue   Feb  \n",
       "2        0    38041754      Wed   Feb  \n",
       "3        0    38041754      Thu   Feb  \n",
       "4        0    38041754      Fri   Feb  "
      ]
     },
     "execution_count": 321,
     "metadata": {},
     "output_type": "execute_result"
    }
   ],
   "source": [
    "df.head()"
   ]
  },
  {
   "cell_type": "markdown",
   "id": "22b375e3",
   "metadata": {},
   "source": [
    "### Death Rate Column "
   ]
  },
  {
   "cell_type": "code",
   "execution_count": 364,
   "id": "503f4c36",
   "metadata": {},
   "outputs": [],
   "source": [
    "death_rate = (df['ddeaths']/df['dcases'])*100"
   ]
  },
  {
   "cell_type": "code",
   "execution_count": 365,
   "id": "a47195c0",
   "metadata": {},
   "outputs": [],
   "source": [
    "df['death_rate']=death_rate"
   ]
  },
  {
   "cell_type": "code",
   "execution_count": 367,
   "id": "2f8994e8",
   "metadata": {},
   "outputs": [
    {
     "data": {
      "text/html": [
       "<div>\n",
       "<style scoped>\n",
       "    .dataframe tbody tr th:only-of-type {\n",
       "        vertical-align: middle;\n",
       "    }\n",
       "\n",
       "    .dataframe tbody tr th {\n",
       "        vertical-align: top;\n",
       "    }\n",
       "\n",
       "    .dataframe thead th {\n",
       "        text-align: right;\n",
       "    }\n",
       "</style>\n",
       "<table border=\"1\" class=\"dataframe\">\n",
       "  <thead>\n",
       "    <tr style=\"text-align: right;\">\n",
       "      <th></th>\n",
       "      <th>date</th>\n",
       "      <th>iso3c</th>\n",
       "      <th>country</th>\n",
       "      <th>income</th>\n",
       "      <th>region</th>\n",
       "      <th>continent</th>\n",
       "      <th>dcases</th>\n",
       "      <th>ddeaths</th>\n",
       "      <th>population</th>\n",
       "      <th>weekdays</th>\n",
       "      <th>month</th>\n",
       "      <th>death_rate</th>\n",
       "    </tr>\n",
       "  </thead>\n",
       "  <tbody>\n",
       "    <tr>\n",
       "      <th>0</th>\n",
       "      <td>2020-02-24</td>\n",
       "      <td>AFG</td>\n",
       "      <td>Afghanistan</td>\n",
       "      <td>Low income</td>\n",
       "      <td>South Asia</td>\n",
       "      <td>Asia</td>\n",
       "      <td>5</td>\n",
       "      <td>0</td>\n",
       "      <td>38041754</td>\n",
       "      <td>Mon</td>\n",
       "      <td>Feb</td>\n",
       "      <td>0.0</td>\n",
       "    </tr>\n",
       "    <tr>\n",
       "      <th>1</th>\n",
       "      <td>2020-02-25</td>\n",
       "      <td>AFG</td>\n",
       "      <td>Afghanistan</td>\n",
       "      <td>Low income</td>\n",
       "      <td>South Asia</td>\n",
       "      <td>Asia</td>\n",
       "      <td>0</td>\n",
       "      <td>0</td>\n",
       "      <td>38041754</td>\n",
       "      <td>Tue</td>\n",
       "      <td>Feb</td>\n",
       "      <td>NaN</td>\n",
       "    </tr>\n",
       "    <tr>\n",
       "      <th>2</th>\n",
       "      <td>2020-02-26</td>\n",
       "      <td>AFG</td>\n",
       "      <td>Afghanistan</td>\n",
       "      <td>Low income</td>\n",
       "      <td>South Asia</td>\n",
       "      <td>Asia</td>\n",
       "      <td>0</td>\n",
       "      <td>0</td>\n",
       "      <td>38041754</td>\n",
       "      <td>Wed</td>\n",
       "      <td>Feb</td>\n",
       "      <td>NaN</td>\n",
       "    </tr>\n",
       "    <tr>\n",
       "      <th>3</th>\n",
       "      <td>2020-02-27</td>\n",
       "      <td>AFG</td>\n",
       "      <td>Afghanistan</td>\n",
       "      <td>Low income</td>\n",
       "      <td>South Asia</td>\n",
       "      <td>Asia</td>\n",
       "      <td>0</td>\n",
       "      <td>0</td>\n",
       "      <td>38041754</td>\n",
       "      <td>Thu</td>\n",
       "      <td>Feb</td>\n",
       "      <td>NaN</td>\n",
       "    </tr>\n",
       "    <tr>\n",
       "      <th>4</th>\n",
       "      <td>2020-02-28</td>\n",
       "      <td>AFG</td>\n",
       "      <td>Afghanistan</td>\n",
       "      <td>Low income</td>\n",
       "      <td>South Asia</td>\n",
       "      <td>Asia</td>\n",
       "      <td>0</td>\n",
       "      <td>0</td>\n",
       "      <td>38041754</td>\n",
       "      <td>Fri</td>\n",
       "      <td>Feb</td>\n",
       "      <td>NaN</td>\n",
       "    </tr>\n",
       "  </tbody>\n",
       "</table>\n",
       "</div>"
      ],
      "text/plain": [
       "         date iso3c      country      income      region continent  dcases  \\\n",
       "0  2020-02-24   AFG  Afghanistan  Low income  South Asia      Asia       5   \n",
       "1  2020-02-25   AFG  Afghanistan  Low income  South Asia      Asia       0   \n",
       "2  2020-02-26   AFG  Afghanistan  Low income  South Asia      Asia       0   \n",
       "3  2020-02-27   AFG  Afghanistan  Low income  South Asia      Asia       0   \n",
       "4  2020-02-28   AFG  Afghanistan  Low income  South Asia      Asia       0   \n",
       "\n",
       "   ddeaths  population weekdays month  death_rate  \n",
       "0        0    38041754      Mon   Feb         0.0  \n",
       "1        0    38041754      Tue   Feb         NaN  \n",
       "2        0    38041754      Wed   Feb         NaN  \n",
       "3        0    38041754      Thu   Feb         NaN  \n",
       "4        0    38041754      Fri   Feb         NaN  "
      ]
     },
     "execution_count": 367,
     "metadata": {},
     "output_type": "execute_result"
    }
   ],
   "source": [
    "df.head()"
   ]
  },
  {
   "cell_type": "markdown",
   "id": "2f128200",
   "metadata": {},
   "source": [
    "### Number of Cases and Death grouped by weekday"
   ]
  },
  {
   "cell_type": "code",
   "execution_count": 322,
   "id": "edd11777",
   "metadata": {},
   "outputs": [],
   "source": [
    "from pandas.api.types import CategoricalDtype\n",
    "cats=['Fri', 'Sat', 'Sun','Mon','Tue','Wed','Thu']\n",
    "cat_type = CategoricalDtype(categories=cats, ordered=True)\n",
    "df['weekdays'] = df['weekdays'].astype(cat_type)"
   ]
  },
  {
   "cell_type": "code",
   "execution_count": 327,
   "id": "c5cefada",
   "metadata": {},
   "outputs": [
    {
     "data": {
      "text/html": [
       "<div>\n",
       "<style scoped>\n",
       "    .dataframe tbody tr th:only-of-type {\n",
       "        vertical-align: middle;\n",
       "    }\n",
       "\n",
       "    .dataframe tbody tr th {\n",
       "        vertical-align: top;\n",
       "    }\n",
       "\n",
       "    .dataframe thead tr th {\n",
       "        text-align: left;\n",
       "    }\n",
       "\n",
       "    .dataframe thead tr:last-of-type th {\n",
       "        text-align: right;\n",
       "    }\n",
       "</style>\n",
       "<table border=\"1\" class=\"dataframe\">\n",
       "  <thead>\n",
       "    <tr>\n",
       "      <th></th>\n",
       "      <th colspan=\"3\" halign=\"left\">dcases</th>\n",
       "    </tr>\n",
       "    <tr>\n",
       "      <th></th>\n",
       "      <th>mean</th>\n",
       "      <th>std</th>\n",
       "      <th>size</th>\n",
       "    </tr>\n",
       "    <tr>\n",
       "      <th>weekdays</th>\n",
       "      <th></th>\n",
       "      <th></th>\n",
       "      <th></th>\n",
       "    </tr>\n",
       "  </thead>\n",
       "  <tbody>\n",
       "    <tr>\n",
       "      <th>Fri</th>\n",
       "      <td>2643.215039</td>\n",
       "      <td>13626.207863</td>\n",
       "      <td>17634</td>\n",
       "    </tr>\n",
       "    <tr>\n",
       "      <th>Sat</th>\n",
       "      <td>2174.297447</td>\n",
       "      <td>10922.667935</td>\n",
       "      <td>17472</td>\n",
       "    </tr>\n",
       "    <tr>\n",
       "      <th>Sun</th>\n",
       "      <td>1852.340706</td>\n",
       "      <td>9559.968071</td>\n",
       "      <td>17496</td>\n",
       "    </tr>\n",
       "    <tr>\n",
       "      <th>Mon</th>\n",
       "      <td>2116.600879</td>\n",
       "      <td>11700.105447</td>\n",
       "      <td>17521</td>\n",
       "    </tr>\n",
       "    <tr>\n",
       "      <th>Tue</th>\n",
       "      <td>2388.510716</td>\n",
       "      <td>11756.420050</td>\n",
       "      <td>17544</td>\n",
       "    </tr>\n",
       "    <tr>\n",
       "      <th>Wed</th>\n",
       "      <td>2601.990272</td>\n",
       "      <td>12848.605924</td>\n",
       "      <td>17578</td>\n",
       "    </tr>\n",
       "    <tr>\n",
       "      <th>Thu</th>\n",
       "      <td>2693.674338</td>\n",
       "      <td>14618.890740</td>\n",
       "      <td>17598</td>\n",
       "    </tr>\n",
       "  </tbody>\n",
       "</table>\n",
       "</div>"
      ],
      "text/plain": [
       "               dcases                     \n",
       "                 mean           std   size\n",
       "weekdays                                  \n",
       "Fri       2643.215039  13626.207863  17634\n",
       "Sat       2174.297447  10922.667935  17472\n",
       "Sun       1852.340706   9559.968071  17496\n",
       "Mon       2116.600879  11700.105447  17521\n",
       "Tue       2388.510716  11756.420050  17544\n",
       "Wed       2601.990272  12848.605924  17578\n",
       "Thu       2693.674338  14618.890740  17598"
      ]
     },
     "execution_count": 327,
     "metadata": {},
     "output_type": "execute_result"
    }
   ],
   "source": [
    "stats_days=df.groupby(\"weekdays\").agg({\"dcases\": [np.mean, np.std, np.size]})\n",
    "stats_days"
   ]
  },
  {
   "cell_type": "code",
   "execution_count": 356,
   "id": "7ae61cf4",
   "metadata": {},
   "outputs": [
    {
     "data": {
      "text/html": [
       "<div>\n",
       "<style scoped>\n",
       "    .dataframe tbody tr th:only-of-type {\n",
       "        vertical-align: middle;\n",
       "    }\n",
       "\n",
       "    .dataframe tbody tr th {\n",
       "        vertical-align: top;\n",
       "    }\n",
       "\n",
       "    .dataframe thead tr th {\n",
       "        text-align: left;\n",
       "    }\n",
       "\n",
       "    .dataframe thead tr:last-of-type th {\n",
       "        text-align: right;\n",
       "    }\n",
       "</style>\n",
       "<table border=\"1\" class=\"dataframe\">\n",
       "  <thead>\n",
       "    <tr>\n",
       "      <th></th>\n",
       "      <th colspan=\"3\" halign=\"left\">ddeaths</th>\n",
       "    </tr>\n",
       "    <tr>\n",
       "      <th></th>\n",
       "      <th>mean</th>\n",
       "      <th>std</th>\n",
       "      <th>size</th>\n",
       "    </tr>\n",
       "    <tr>\n",
       "      <th>weekdays</th>\n",
       "      <th></th>\n",
       "      <th></th>\n",
       "      <th></th>\n",
       "    </tr>\n",
       "  </thead>\n",
       "  <tbody>\n",
       "    <tr>\n",
       "      <th>Fri</th>\n",
       "      <td>47.990756</td>\n",
       "      <td>208.404740</td>\n",
       "      <td>17634</td>\n",
       "    </tr>\n",
       "    <tr>\n",
       "      <th>Sat</th>\n",
       "      <td>40.258413</td>\n",
       "      <td>177.949619</td>\n",
       "      <td>17472</td>\n",
       "    </tr>\n",
       "    <tr>\n",
       "      <th>Sun</th>\n",
       "      <td>31.856367</td>\n",
       "      <td>139.320870</td>\n",
       "      <td>17496</td>\n",
       "    </tr>\n",
       "    <tr>\n",
       "      <th>Mon</th>\n",
       "      <td>37.954968</td>\n",
       "      <td>155.752300</td>\n",
       "      <td>17521</td>\n",
       "    </tr>\n",
       "    <tr>\n",
       "      <th>Tue</th>\n",
       "      <td>50.840002</td>\n",
       "      <td>230.863861</td>\n",
       "      <td>17544</td>\n",
       "    </tr>\n",
       "    <tr>\n",
       "      <th>Wed</th>\n",
       "      <td>51.346968</td>\n",
       "      <td>226.105877</td>\n",
       "      <td>17578</td>\n",
       "    </tr>\n",
       "    <tr>\n",
       "      <th>Thu</th>\n",
       "      <td>49.695534</td>\n",
       "      <td>224.874945</td>\n",
       "      <td>17598</td>\n",
       "    </tr>\n",
       "  </tbody>\n",
       "</table>\n",
       "</div>"
      ],
      "text/plain": [
       "            ddeaths                   \n",
       "               mean         std   size\n",
       "weekdays                              \n",
       "Fri       47.990756  208.404740  17634\n",
       "Sat       40.258413  177.949619  17472\n",
       "Sun       31.856367  139.320870  17496\n",
       "Mon       37.954968  155.752300  17521\n",
       "Tue       50.840002  230.863861  17544\n",
       "Wed       51.346968  226.105877  17578\n",
       "Thu       49.695534  224.874945  17598"
      ]
     },
     "execution_count": 356,
     "metadata": {},
     "output_type": "execute_result"
    }
   ],
   "source": [
    "stats_days_deaths=df.groupby(\"weekdays\").agg({\"ddeaths\": [np.mean, np.std, np.size]})\n",
    "stats_days_deaths"
   ]
  },
  {
   "cell_type": "markdown",
   "id": "60fb1770",
   "metadata": {},
   "source": [
    "### Number of Cases and Death grouped by month"
   ]
  },
  {
   "cell_type": "code",
   "execution_count": 323,
   "id": "6e948f5c",
   "metadata": {},
   "outputs": [],
   "source": [
    "cats=['Jan', 'Feb', 'Mar','Apr','May','Jun','Jul','Aug','Sep','Oct','Nov','Dec']\n",
    "cat_type = CategoricalDtype(categories=cats, ordered=True)\n",
    "df['month'] = df['month'].astype(cat_type)"
   ]
  },
  {
   "cell_type": "code",
   "execution_count": 328,
   "id": "333a7d30",
   "metadata": {},
   "outputs": [
    {
     "data": {
      "text/html": [
       "<div>\n",
       "<style scoped>\n",
       "    .dataframe tbody tr th:only-of-type {\n",
       "        vertical-align: middle;\n",
       "    }\n",
       "\n",
       "    .dataframe tbody tr th {\n",
       "        vertical-align: top;\n",
       "    }\n",
       "\n",
       "    .dataframe thead tr th {\n",
       "        text-align: left;\n",
       "    }\n",
       "\n",
       "    .dataframe thead tr:last-of-type th {\n",
       "        text-align: right;\n",
       "    }\n",
       "</style>\n",
       "<table border=\"1\" class=\"dataframe\">\n",
       "  <thead>\n",
       "    <tr>\n",
       "      <th></th>\n",
       "      <th colspan=\"3\" halign=\"left\">dcases</th>\n",
       "    </tr>\n",
       "    <tr>\n",
       "      <th></th>\n",
       "      <th>mean</th>\n",
       "      <th>std</th>\n",
       "      <th>size</th>\n",
       "    </tr>\n",
       "    <tr>\n",
       "      <th>month</th>\n",
       "      <th></th>\n",
       "      <th></th>\n",
       "      <th></th>\n",
       "    </tr>\n",
       "  </thead>\n",
       "  <tbody>\n",
       "    <tr>\n",
       "      <th>Jan</th>\n",
       "      <td>3330.493183</td>\n",
       "      <td>16114.132615</td>\n",
       "      <td>5868</td>\n",
       "    </tr>\n",
       "    <tr>\n",
       "      <th>Feb</th>\n",
       "      <td>1869.261968</td>\n",
       "      <td>7579.872208</td>\n",
       "      <td>6058</td>\n",
       "    </tr>\n",
       "    <tr>\n",
       "      <th>Mar</th>\n",
       "      <td>1599.375677</td>\n",
       "      <td>6590.844635</td>\n",
       "      <td>9785</td>\n",
       "    </tr>\n",
       "    <tr>\n",
       "      <th>Apr</th>\n",
       "      <td>2294.984731</td>\n",
       "      <td>14842.094035</td>\n",
       "      <td>10872</td>\n",
       "    </tr>\n",
       "    <tr>\n",
       "      <th>May</th>\n",
       "      <td>1989.523264</td>\n",
       "      <td>16428.338523</td>\n",
       "      <td>11348</td>\n",
       "    </tr>\n",
       "    <tr>\n",
       "      <th>Jun</th>\n",
       "      <td>1433.149046</td>\n",
       "      <td>6561.947273</td>\n",
       "      <td>11010</td>\n",
       "    </tr>\n",
       "    <tr>\n",
       "      <th>Jul</th>\n",
       "      <td>2007.870352</td>\n",
       "      <td>7408.384725</td>\n",
       "      <td>11377</td>\n",
       "    </tr>\n",
       "    <tr>\n",
       "      <th>Aug</th>\n",
       "      <td>2441.502152</td>\n",
       "      <td>10425.483877</td>\n",
       "      <td>11387</td>\n",
       "    </tr>\n",
       "    <tr>\n",
       "      <th>Sep</th>\n",
       "      <td>2223.283062</td>\n",
       "      <td>10260.530149</td>\n",
       "      <td>11040</td>\n",
       "    </tr>\n",
       "    <tr>\n",
       "      <th>Oct</th>\n",
       "      <td>2205.899580</td>\n",
       "      <td>7917.525038</td>\n",
       "      <td>11432</td>\n",
       "    </tr>\n",
       "    <tr>\n",
       "      <th>Nov</th>\n",
       "      <td>2964.868421</td>\n",
       "      <td>11235.400964</td>\n",
       "      <td>11134</td>\n",
       "    </tr>\n",
       "    <tr>\n",
       "      <th>Dec</th>\n",
       "      <td>3979.827003</td>\n",
       "      <td>20864.089717</td>\n",
       "      <td>11532</td>\n",
       "    </tr>\n",
       "  </tbody>\n",
       "</table>\n",
       "</div>"
      ],
      "text/plain": [
       "            dcases                     \n",
       "              mean           std   size\n",
       "month                                  \n",
       "Jan    3330.493183  16114.132615   5868\n",
       "Feb    1869.261968   7579.872208   6058\n",
       "Mar    1599.375677   6590.844635   9785\n",
       "Apr    2294.984731  14842.094035  10872\n",
       "May    1989.523264  16428.338523  11348\n",
       "Jun    1433.149046   6561.947273  11010\n",
       "Jul    2007.870352   7408.384725  11377\n",
       "Aug    2441.502152  10425.483877  11387\n",
       "Sep    2223.283062  10260.530149  11040\n",
       "Oct    2205.899580   7917.525038  11432\n",
       "Nov    2964.868421  11235.400964  11134\n",
       "Dec    3979.827003  20864.089717  11532"
      ]
     },
     "execution_count": 328,
     "metadata": {},
     "output_type": "execute_result"
    }
   ],
   "source": [
    "stats_months=df.groupby(\"month\").agg({\"dcases\": [np.mean, np.std, np.size]})\n",
    "stats_months"
   ]
  },
  {
   "cell_type": "code",
   "execution_count": 355,
   "id": "467c8929",
   "metadata": {},
   "outputs": [
    {
     "data": {
      "text/html": [
       "<div>\n",
       "<style scoped>\n",
       "    .dataframe tbody tr th:only-of-type {\n",
       "        vertical-align: middle;\n",
       "    }\n",
       "\n",
       "    .dataframe tbody tr th {\n",
       "        vertical-align: top;\n",
       "    }\n",
       "\n",
       "    .dataframe thead tr th {\n",
       "        text-align: left;\n",
       "    }\n",
       "\n",
       "    .dataframe thead tr:last-of-type th {\n",
       "        text-align: right;\n",
       "    }\n",
       "</style>\n",
       "<table border=\"1\" class=\"dataframe\">\n",
       "  <thead>\n",
       "    <tr>\n",
       "      <th></th>\n",
       "      <th colspan=\"3\" halign=\"left\">ddeaths</th>\n",
       "    </tr>\n",
       "    <tr>\n",
       "      <th></th>\n",
       "      <th>mean</th>\n",
       "      <th>std</th>\n",
       "      <th>size</th>\n",
       "    </tr>\n",
       "    <tr>\n",
       "      <th>month</th>\n",
       "      <th></th>\n",
       "      <th></th>\n",
       "      <th></th>\n",
       "    </tr>\n",
       "  </thead>\n",
       "  <tbody>\n",
       "    <tr>\n",
       "      <th>Jan</th>\n",
       "      <td>71.127812</td>\n",
       "      <td>289.935659</td>\n",
       "      <td>5868</td>\n",
       "    </tr>\n",
       "    <tr>\n",
       "      <th>Feb</th>\n",
       "      <td>51.762133</td>\n",
       "      <td>222.814231</td>\n",
       "      <td>6058</td>\n",
       "    </tr>\n",
       "    <tr>\n",
       "      <th>Mar</th>\n",
       "      <td>34.963413</td>\n",
       "      <td>171.864116</td>\n",
       "      <td>9785</td>\n",
       "    </tr>\n",
       "    <tr>\n",
       "      <th>Apr</th>\n",
       "      <td>52.986479</td>\n",
       "      <td>240.192244</td>\n",
       "      <td>10872</td>\n",
       "    </tr>\n",
       "    <tr>\n",
       "      <th>May</th>\n",
       "      <td>46.761720</td>\n",
       "      <td>254.388290</td>\n",
       "      <td>11348</td>\n",
       "    </tr>\n",
       "    <tr>\n",
       "      <th>Jun</th>\n",
       "      <td>38.822434</td>\n",
       "      <td>201.438666</td>\n",
       "      <td>11010</td>\n",
       "    </tr>\n",
       "    <tr>\n",
       "      <th>Jul</th>\n",
       "      <td>39.192142</td>\n",
       "      <td>175.788522</td>\n",
       "      <td>11377</td>\n",
       "    </tr>\n",
       "    <tr>\n",
       "      <th>Aug</th>\n",
       "      <td>42.456749</td>\n",
       "      <td>157.551906</td>\n",
       "      <td>11387</td>\n",
       "    </tr>\n",
       "    <tr>\n",
       "      <th>Sep</th>\n",
       "      <td>39.211051</td>\n",
       "      <td>168.449391</td>\n",
       "      <td>11040</td>\n",
       "    </tr>\n",
       "    <tr>\n",
       "      <th>Oct</th>\n",
       "      <td>35.094822</td>\n",
       "      <td>143.726925</td>\n",
       "      <td>11432</td>\n",
       "    </tr>\n",
       "    <tr>\n",
       "      <th>Nov</th>\n",
       "      <td>44.249506</td>\n",
       "      <td>150.833802</td>\n",
       "      <td>11134</td>\n",
       "    </tr>\n",
       "    <tr>\n",
       "      <th>Dec</th>\n",
       "      <td>50.099723</td>\n",
       "      <td>203.325567</td>\n",
       "      <td>11532</td>\n",
       "    </tr>\n",
       "  </tbody>\n",
       "</table>\n",
       "</div>"
      ],
      "text/plain": [
       "         ddeaths                   \n",
       "            mean         std   size\n",
       "month                              \n",
       "Jan    71.127812  289.935659   5868\n",
       "Feb    51.762133  222.814231   6058\n",
       "Mar    34.963413  171.864116   9785\n",
       "Apr    52.986479  240.192244  10872\n",
       "May    46.761720  254.388290  11348\n",
       "Jun    38.822434  201.438666  11010\n",
       "Jul    39.192142  175.788522  11377\n",
       "Aug    42.456749  157.551906  11387\n",
       "Sep    39.211051  168.449391  11040\n",
       "Oct    35.094822  143.726925  11432\n",
       "Nov    44.249506  150.833802  11134\n",
       "Dec    50.099723  203.325567  11532"
      ]
     },
     "execution_count": 355,
     "metadata": {},
     "output_type": "execute_result"
    }
   ],
   "source": [
    "stats_months_deaths=df.groupby(\"month\").agg({\"ddeaths\": [np.mean, np.std, np.size]})\n",
    "stats_months_deaths"
   ]
  },
  {
   "cell_type": "markdown",
   "id": "2434ec37",
   "metadata": {},
   "source": [
    "### Number of Cases and Death grouped by region"
   ]
  },
  {
   "cell_type": "code",
   "execution_count": 324,
   "id": "1d7e98d3",
   "metadata": {},
   "outputs": [
    {
     "data": {
      "text/plain": [
       "array(['South Asia', 'Sub-Saharan Africa', 'Europe & Central Asia',\n",
       "       'Middle East & North Africa', 'Latin America & Caribbean',\n",
       "       'East Asia & Pacific', 'North America(region)'], dtype=object)"
      ]
     },
     "execution_count": 324,
     "metadata": {},
     "output_type": "execute_result"
    }
   ],
   "source": [
    "df['region'].unique()"
   ]
  },
  {
   "cell_type": "code",
   "execution_count": 325,
   "id": "f297fbf5",
   "metadata": {},
   "outputs": [],
   "source": [
    "cats=['South Asia', 'Sub-Saharan Africa', 'Europe & Central Asia','Middle East & North Africa', \n",
    "      'Latin America & Caribbean','East Asia & Pacific', 'North America(region)']\n",
    "cat_type = CategoricalDtype(categories=cats, ordered=True)\n",
    "df['region'] = df['region'].astype(cat_type)"
   ]
  },
  {
   "cell_type": "code",
   "execution_count": 357,
   "id": "f5acf67f",
   "metadata": {},
   "outputs": [
    {
     "data": {
      "text/html": [
       "<div>\n",
       "<style scoped>\n",
       "    .dataframe tbody tr th:only-of-type {\n",
       "        vertical-align: middle;\n",
       "    }\n",
       "\n",
       "    .dataframe tbody tr th {\n",
       "        vertical-align: top;\n",
       "    }\n",
       "\n",
       "    .dataframe thead tr th {\n",
       "        text-align: left;\n",
       "    }\n",
       "\n",
       "    .dataframe thead tr:last-of-type th {\n",
       "        text-align: right;\n",
       "    }\n",
       "</style>\n",
       "<table border=\"1\" class=\"dataframe\">\n",
       "  <thead>\n",
       "    <tr>\n",
       "      <th></th>\n",
       "      <th colspan=\"3\" halign=\"left\">dcases</th>\n",
       "    </tr>\n",
       "    <tr>\n",
       "      <th></th>\n",
       "      <th>mean</th>\n",
       "      <th>std</th>\n",
       "      <th>size</th>\n",
       "    </tr>\n",
       "    <tr>\n",
       "      <th>region</th>\n",
       "      <th></th>\n",
       "      <th></th>\n",
       "      <th></th>\n",
       "    </tr>\n",
       "  </thead>\n",
       "  <tbody>\n",
       "    <tr>\n",
       "      <th>South Asia</th>\n",
       "      <td>7217.574437</td>\n",
       "      <td>31764.326106</td>\n",
       "      <td>5461</td>\n",
       "    </tr>\n",
       "    <tr>\n",
       "      <th>Sub-Saharan Africa</th>\n",
       "      <td>229.925181</td>\n",
       "      <td>1209.021898</td>\n",
       "      <td>30674</td>\n",
       "    </tr>\n",
       "    <tr>\n",
       "      <th>Europe &amp; Central Asia</th>\n",
       "      <td>2968.733221</td>\n",
       "      <td>9229.431160</td>\n",
       "      <td>34358</td>\n",
       "    </tr>\n",
       "    <tr>\n",
       "      <th>Middle East &amp; North Africa</th>\n",
       "      <td>1229.900426</td>\n",
       "      <td>3018.473480</td>\n",
       "      <td>14080</td>\n",
       "    </tr>\n",
       "    <tr>\n",
       "      <th>Latin America &amp; Caribbean</th>\n",
       "      <td>2189.464464</td>\n",
       "      <td>7735.846338</td>\n",
       "      <td>21795</td>\n",
       "    </tr>\n",
       "    <tr>\n",
       "      <th>East Asia &amp; Pacific</th>\n",
       "      <td>1235.455300</td>\n",
       "      <td>3660.116639</td>\n",
       "      <td>15056</td>\n",
       "    </tr>\n",
       "    <tr>\n",
       "      <th>North America(region)</th>\n",
       "      <td>40192.648344</td>\n",
       "      <td>64990.088304</td>\n",
       "      <td>1419</td>\n",
       "    </tr>\n",
       "  </tbody>\n",
       "</table>\n",
       "</div>"
      ],
      "text/plain": [
       "                                  dcases                     \n",
       "                                    mean           std   size\n",
       "region                                                       \n",
       "South Asia                   7217.574437  31764.326106   5461\n",
       "Sub-Saharan Africa            229.925181   1209.021898  30674\n",
       "Europe & Central Asia        2968.733221   9229.431160  34358\n",
       "Middle East & North Africa   1229.900426   3018.473480  14080\n",
       "Latin America & Caribbean    2189.464464   7735.846338  21795\n",
       "East Asia & Pacific          1235.455300   3660.116639  15056\n",
       "North America(region)       40192.648344  64990.088304   1419"
      ]
     },
     "execution_count": 357,
     "metadata": {},
     "output_type": "execute_result"
    }
   ],
   "source": [
    "stats_region=df.groupby(\"region\").agg({\"dcases\": [np.mean, np.std, np.size]})\n",
    "stats_region"
   ]
  },
  {
   "cell_type": "code",
   "execution_count": 358,
   "id": "6e3ce359",
   "metadata": {},
   "outputs": [
    {
     "data": {
      "text/html": [
       "<div>\n",
       "<style scoped>\n",
       "    .dataframe tbody tr th:only-of-type {\n",
       "        vertical-align: middle;\n",
       "    }\n",
       "\n",
       "    .dataframe tbody tr th {\n",
       "        vertical-align: top;\n",
       "    }\n",
       "\n",
       "    .dataframe thead tr th {\n",
       "        text-align: left;\n",
       "    }\n",
       "\n",
       "    .dataframe thead tr:last-of-type th {\n",
       "        text-align: right;\n",
       "    }\n",
       "</style>\n",
       "<table border=\"1\" class=\"dataframe\">\n",
       "  <thead>\n",
       "    <tr>\n",
       "      <th></th>\n",
       "      <th colspan=\"3\" halign=\"left\">ddeaths</th>\n",
       "    </tr>\n",
       "    <tr>\n",
       "      <th></th>\n",
       "      <th>mean</th>\n",
       "      <th>std</th>\n",
       "      <th>size</th>\n",
       "    </tr>\n",
       "    <tr>\n",
       "      <th>region</th>\n",
       "      <th></th>\n",
       "      <th></th>\n",
       "      <th></th>\n",
       "    </tr>\n",
       "  </thead>\n",
       "  <tbody>\n",
       "    <tr>\n",
       "      <th>South Asia</th>\n",
       "      <td>104.868339</td>\n",
       "      <td>409.742533</td>\n",
       "      <td>5461</td>\n",
       "    </tr>\n",
       "    <tr>\n",
       "      <th>Sub-Saharan Africa</th>\n",
       "      <td>5.024255</td>\n",
       "      <td>30.945666</td>\n",
       "      <td>30674</td>\n",
       "    </tr>\n",
       "    <tr>\n",
       "      <th>Europe &amp; Central Asia</th>\n",
       "      <td>48.536556</td>\n",
       "      <td>132.629152</td>\n",
       "      <td>34358</td>\n",
       "    </tr>\n",
       "    <tr>\n",
       "      <th>Middle East &amp; North Africa</th>\n",
       "      <td>20.600142</td>\n",
       "      <td>54.465385</td>\n",
       "      <td>14080</td>\n",
       "    </tr>\n",
       "    <tr>\n",
       "      <th>Latin America &amp; Caribbean</th>\n",
       "      <td>71.517963</td>\n",
       "      <td>256.405124</td>\n",
       "      <td>21795</td>\n",
       "    </tr>\n",
       "    <tr>\n",
       "      <th>East Asia &amp; Pacific</th>\n",
       "      <td>22.542973</td>\n",
       "      <td>97.210626</td>\n",
       "      <td>15056</td>\n",
       "    </tr>\n",
       "    <tr>\n",
       "      <th>North America(region)</th>\n",
       "      <td>604.988020</td>\n",
       "      <td>881.054802</td>\n",
       "      <td>1419</td>\n",
       "    </tr>\n",
       "  </tbody>\n",
       "</table>\n",
       "</div>"
      ],
      "text/plain": [
       "                               ddeaths                   \n",
       "                                  mean         std   size\n",
       "region                                                   \n",
       "South Asia                  104.868339  409.742533   5461\n",
       "Sub-Saharan Africa            5.024255   30.945666  30674\n",
       "Europe & Central Asia        48.536556  132.629152  34358\n",
       "Middle East & North Africa   20.600142   54.465385  14080\n",
       "Latin America & Caribbean    71.517963  256.405124  21795\n",
       "East Asia & Pacific          22.542973   97.210626  15056\n",
       "North America(region)       604.988020  881.054802   1419"
      ]
     },
     "execution_count": 358,
     "metadata": {},
     "output_type": "execute_result"
    }
   ],
   "source": [
    "stats_region_deaths=df.groupby(\"region\").agg({\"ddeaths\": [np.mean, np.std, np.size]})\n",
    "stats_region_deaths"
   ]
  },
  {
   "cell_type": "markdown",
   "id": "d646b620",
   "metadata": {},
   "source": [
    "### 95% Confidence Interval of the Mean Daily Cases per Month"
   ]
  },
  {
   "cell_type": "code",
   "execution_count": 330,
   "id": "345f6bb8",
   "metadata": {},
   "outputs": [],
   "source": [
    "import scipy.stats "
   ]
  },
  {
   "cell_type": "code",
   "execution_count": 331,
   "id": "6b0c4d53",
   "metadata": {},
   "outputs": [
    {
     "data": {
      "text/plain": [
       "CategoricalIndex(['Jan', 'Feb', 'Mar', 'Apr', 'May', 'Jun', 'Jul', 'Aug',\n",
       "                  'Sep', 'Oct', 'Nov', 'Dec'],\n",
       "                 categories=['Jan', 'Feb', 'Mar', 'Apr', 'May', 'Jun', 'Jul', 'Aug', ...], ordered=True, dtype='category', name='month')"
      ]
     },
     "execution_count": 331,
     "metadata": {},
     "output_type": "execute_result"
    }
   ],
   "source": [
    "stats_months.index"
   ]
  },
  {
   "cell_type": "code",
   "execution_count": 332,
   "id": "e9ffb79f",
   "metadata": {},
   "outputs": [],
   "source": [
    "ci95_high = []\n",
    "ci95_low = []"
   ]
  },
  {
   "cell_type": "code",
   "execution_count": 333,
   "id": "095c776e",
   "metadata": {},
   "outputs": [],
   "source": [
    "for i in stats_months.index:\n",
    "    m, s, n = stats_months.loc[i]\n",
    "    x=scipy.stats.t.interval(.95, n-1, m,s/np.sqrt(n-1))\n",
    "    ci95_high.append(x[1])\n",
    "    ci95_low.append(x[0])"
   ]
  },
  {
   "cell_type": "code",
   "execution_count": 334,
   "id": "6e9ba7f7",
   "metadata": {},
   "outputs": [
    {
     "data": {
      "text/plain": [
       "[3742.9102077318885,\n",
       " 2060.1892456474006,\n",
       " 1729.9881560656577,\n",
       " 2574.018573108584,\n",
       " 2291.8297985167155,\n",
       " 1555.738932493392,\n",
       " 2144.022042525728,\n",
       " 2633.0180761182896,\n",
       " 2414.708938678329,\n",
       " 2351.057725728849,\n",
       " 3173.5950123885564,\n",
       " 4360.6819798820925]"
      ]
     },
     "execution_count": 334,
     "metadata": {},
     "output_type": "execute_result"
    }
   ],
   "source": [
    "ci95_high"
   ]
  },
  {
   "cell_type": "code",
   "execution_count": 335,
   "id": "b2a07f25",
   "metadata": {},
   "outputs": [
    {
     "data": {
      "text/plain": [
       "[2918.076159002944,\n",
       " 1678.3346896447754,\n",
       " 1468.7631980477813,\n",
       " 2015.95088973174,\n",
       " 1687.2167295058437,\n",
       " 1310.5591601496599,\n",
       " 1871.718662405273,\n",
       " 2249.986227034429,\n",
       " 2031.8571845100769,\n",
       " 2060.741434523075,\n",
       " 2756.141829716707,\n",
       " 3598.972026361404]"
      ]
     },
     "execution_count": 335,
     "metadata": {},
     "output_type": "execute_result"
    }
   ],
   "source": [
    "ci95_low"
   ]
  },
  {
   "cell_type": "code",
   "execution_count": 336,
   "id": "5d34370e",
   "metadata": {},
   "outputs": [
    {
     "name": "stdout",
     "output_type": "stream",
     "text": [
      "            dcases                         ci95_high     ci95_low\n",
      "              mean           std   size                          \n",
      "month                                                            \n",
      "Jan    3330.493183  16114.132615   5868  3742.910208  2918.076159\n",
      "Feb    1869.261968   7579.872208   6058  2060.189246  1678.334690\n",
      "Mar    1599.375677   6590.844635   9785  1729.988156  1468.763198\n",
      "Apr    2294.984731  14842.094035  10872  2574.018573  2015.950890\n",
      "May    1989.523264  16428.338523  11348  2291.829799  1687.216730\n",
      "Jun    1433.149046   6561.947273  11010  1555.738932  1310.559160\n",
      "Jul    2007.870352   7408.384725  11377  2144.022043  1871.718662\n",
      "Aug    2441.502152  10425.483877  11387  2633.018076  2249.986227\n",
      "Sep    2223.283062  10260.530149  11040  2414.708939  2031.857185\n",
      "Oct    2205.899580   7917.525038  11432  2351.057726  2060.741435\n",
      "Nov    2964.868421  11235.400964  11134  3173.595012  2756.141830\n",
      "Dec    3979.827003  20864.089717  11532  4360.681980  3598.972026\n"
     ]
    }
   ],
   "source": [
    "stats_months['ci95_high'] = ci95_high\n",
    "stats_months['ci95_low'] = ci95_low\n",
    "print(stats_months)"
   ]
  },
  {
   "cell_type": "code",
   "execution_count": 337,
   "id": "f84d166c",
   "metadata": {},
   "outputs": [
    {
     "data": {
      "text/html": [
       "<div>\n",
       "<style scoped>\n",
       "    .dataframe tbody tr th:only-of-type {\n",
       "        vertical-align: middle;\n",
       "    }\n",
       "\n",
       "    .dataframe tbody tr th {\n",
       "        vertical-align: top;\n",
       "    }\n",
       "\n",
       "    .dataframe thead tr th {\n",
       "        text-align: left;\n",
       "    }\n",
       "\n",
       "    .dataframe thead tr:last-of-type th {\n",
       "        text-align: right;\n",
       "    }\n",
       "</style>\n",
       "<table border=\"1\" class=\"dataframe\">\n",
       "  <thead>\n",
       "    <tr>\n",
       "      <th></th>\n",
       "      <th colspan=\"3\" halign=\"left\">dcases</th>\n",
       "      <th>ci95_high</th>\n",
       "      <th>ci95_low</th>\n",
       "    </tr>\n",
       "    <tr>\n",
       "      <th></th>\n",
       "      <th>mean</th>\n",
       "      <th>std</th>\n",
       "      <th>size</th>\n",
       "      <th></th>\n",
       "      <th></th>\n",
       "    </tr>\n",
       "    <tr>\n",
       "      <th>month</th>\n",
       "      <th></th>\n",
       "      <th></th>\n",
       "      <th></th>\n",
       "      <th></th>\n",
       "      <th></th>\n",
       "    </tr>\n",
       "  </thead>\n",
       "  <tbody>\n",
       "    <tr>\n",
       "      <th>Jan</th>\n",
       "      <td>3330.493183</td>\n",
       "      <td>16114.132615</td>\n",
       "      <td>5868</td>\n",
       "      <td>3742.910208</td>\n",
       "      <td>2918.076159</td>\n",
       "    </tr>\n",
       "    <tr>\n",
       "      <th>Feb</th>\n",
       "      <td>1869.261968</td>\n",
       "      <td>7579.872208</td>\n",
       "      <td>6058</td>\n",
       "      <td>2060.189246</td>\n",
       "      <td>1678.334690</td>\n",
       "    </tr>\n",
       "    <tr>\n",
       "      <th>Mar</th>\n",
       "      <td>1599.375677</td>\n",
       "      <td>6590.844635</td>\n",
       "      <td>9785</td>\n",
       "      <td>1729.988156</td>\n",
       "      <td>1468.763198</td>\n",
       "    </tr>\n",
       "    <tr>\n",
       "      <th>Apr</th>\n",
       "      <td>2294.984731</td>\n",
       "      <td>14842.094035</td>\n",
       "      <td>10872</td>\n",
       "      <td>2574.018573</td>\n",
       "      <td>2015.950890</td>\n",
       "    </tr>\n",
       "    <tr>\n",
       "      <th>May</th>\n",
       "      <td>1989.523264</td>\n",
       "      <td>16428.338523</td>\n",
       "      <td>11348</td>\n",
       "      <td>2291.829799</td>\n",
       "      <td>1687.216730</td>\n",
       "    </tr>\n",
       "    <tr>\n",
       "      <th>Jun</th>\n",
       "      <td>1433.149046</td>\n",
       "      <td>6561.947273</td>\n",
       "      <td>11010</td>\n",
       "      <td>1555.738932</td>\n",
       "      <td>1310.559160</td>\n",
       "    </tr>\n",
       "    <tr>\n",
       "      <th>Jul</th>\n",
       "      <td>2007.870352</td>\n",
       "      <td>7408.384725</td>\n",
       "      <td>11377</td>\n",
       "      <td>2144.022043</td>\n",
       "      <td>1871.718662</td>\n",
       "    </tr>\n",
       "    <tr>\n",
       "      <th>Aug</th>\n",
       "      <td>2441.502152</td>\n",
       "      <td>10425.483877</td>\n",
       "      <td>11387</td>\n",
       "      <td>2633.018076</td>\n",
       "      <td>2249.986227</td>\n",
       "    </tr>\n",
       "    <tr>\n",
       "      <th>Sep</th>\n",
       "      <td>2223.283062</td>\n",
       "      <td>10260.530149</td>\n",
       "      <td>11040</td>\n",
       "      <td>2414.708939</td>\n",
       "      <td>2031.857185</td>\n",
       "    </tr>\n",
       "    <tr>\n",
       "      <th>Oct</th>\n",
       "      <td>2205.899580</td>\n",
       "      <td>7917.525038</td>\n",
       "      <td>11432</td>\n",
       "      <td>2351.057726</td>\n",
       "      <td>2060.741435</td>\n",
       "    </tr>\n",
       "    <tr>\n",
       "      <th>Nov</th>\n",
       "      <td>2964.868421</td>\n",
       "      <td>11235.400964</td>\n",
       "      <td>11134</td>\n",
       "      <td>3173.595012</td>\n",
       "      <td>2756.141830</td>\n",
       "    </tr>\n",
       "    <tr>\n",
       "      <th>Dec</th>\n",
       "      <td>3979.827003</td>\n",
       "      <td>20864.089717</td>\n",
       "      <td>11532</td>\n",
       "      <td>4360.681980</td>\n",
       "      <td>3598.972026</td>\n",
       "    </tr>\n",
       "  </tbody>\n",
       "</table>\n",
       "</div>"
      ],
      "text/plain": [
       "            dcases                         ci95_high     ci95_low\n",
       "              mean           std   size                          \n",
       "month                                                            \n",
       "Jan    3330.493183  16114.132615   5868  3742.910208  2918.076159\n",
       "Feb    1869.261968   7579.872208   6058  2060.189246  1678.334690\n",
       "Mar    1599.375677   6590.844635   9785  1729.988156  1468.763198\n",
       "Apr    2294.984731  14842.094035  10872  2574.018573  2015.950890\n",
       "May    1989.523264  16428.338523  11348  2291.829799  1687.216730\n",
       "Jun    1433.149046   6561.947273  11010  1555.738932  1310.559160\n",
       "Jul    2007.870352   7408.384725  11377  2144.022043  1871.718662\n",
       "Aug    2441.502152  10425.483877  11387  2633.018076  2249.986227\n",
       "Sep    2223.283062  10260.530149  11040  2414.708939  2031.857185\n",
       "Oct    2205.899580   7917.525038  11432  2351.057726  2060.741435\n",
       "Nov    2964.868421  11235.400964  11134  3173.595012  2756.141830\n",
       "Dec    3979.827003  20864.089717  11532  4360.681980  3598.972026"
      ]
     },
     "execution_count": 337,
     "metadata": {},
     "output_type": "execute_result"
    }
   ],
   "source": [
    "df_ci= pd.DataFrame(stats_months)\n",
    "df_ci"
   ]
  },
  {
   "cell_type": "code",
   "execution_count": 338,
   "id": "fd4d063e",
   "metadata": {},
   "outputs": [
    {
     "data": {
      "text/plain": [
       "CategoricalIndex(['Jan', 'Feb', 'Mar', 'Apr', 'May', 'Jun', 'Jul', 'Aug',\n",
       "                  'Sep', 'Oct', 'Nov', 'Dec'],\n",
       "                 categories=['Jan', 'Feb', 'Mar', 'Apr', 'May', 'Jun', 'Jul', 'Aug', ...], ordered=True, dtype='category', name='month')"
      ]
     },
     "execution_count": 338,
     "metadata": {},
     "output_type": "execute_result"
    }
   ],
   "source": [
    "df_ci.index"
   ]
  },
  {
   "cell_type": "code",
   "execution_count": 339,
   "id": "52e27fd6",
   "metadata": {},
   "outputs": [
    {
     "data": {
      "text/html": [
       "<div>\n",
       "<style scoped>\n",
       "    .dataframe tbody tr th:only-of-type {\n",
       "        vertical-align: middle;\n",
       "    }\n",
       "\n",
       "    .dataframe tbody tr th {\n",
       "        vertical-align: top;\n",
       "    }\n",
       "\n",
       "    .dataframe thead tr th {\n",
       "        text-align: left;\n",
       "    }\n",
       "\n",
       "    .dataframe thead tr:last-of-type th {\n",
       "        text-align: right;\n",
       "    }\n",
       "</style>\n",
       "<table border=\"1\" class=\"dataframe\">\n",
       "  <thead>\n",
       "    <tr>\n",
       "      <th></th>\n",
       "      <th colspan=\"3\" halign=\"left\">dcases</th>\n",
       "      <th>ci95_high</th>\n",
       "      <th>ci95_low</th>\n",
       "      <th>month</th>\n",
       "    </tr>\n",
       "    <tr>\n",
       "      <th></th>\n",
       "      <th>mean</th>\n",
       "      <th>std</th>\n",
       "      <th>size</th>\n",
       "      <th></th>\n",
       "      <th></th>\n",
       "      <th></th>\n",
       "    </tr>\n",
       "    <tr>\n",
       "      <th>month</th>\n",
       "      <th></th>\n",
       "      <th></th>\n",
       "      <th></th>\n",
       "      <th></th>\n",
       "      <th></th>\n",
       "      <th></th>\n",
       "    </tr>\n",
       "  </thead>\n",
       "  <tbody>\n",
       "    <tr>\n",
       "      <th>Jan</th>\n",
       "      <td>3330.493183</td>\n",
       "      <td>16114.132615</td>\n",
       "      <td>5868</td>\n",
       "      <td>3742.910208</td>\n",
       "      <td>2918.076159</td>\n",
       "      <td>Jan</td>\n",
       "    </tr>\n",
       "    <tr>\n",
       "      <th>Feb</th>\n",
       "      <td>1869.261968</td>\n",
       "      <td>7579.872208</td>\n",
       "      <td>6058</td>\n",
       "      <td>2060.189246</td>\n",
       "      <td>1678.334690</td>\n",
       "      <td>Feb</td>\n",
       "    </tr>\n",
       "    <tr>\n",
       "      <th>Mar</th>\n",
       "      <td>1599.375677</td>\n",
       "      <td>6590.844635</td>\n",
       "      <td>9785</td>\n",
       "      <td>1729.988156</td>\n",
       "      <td>1468.763198</td>\n",
       "      <td>Mar</td>\n",
       "    </tr>\n",
       "    <tr>\n",
       "      <th>Apr</th>\n",
       "      <td>2294.984731</td>\n",
       "      <td>14842.094035</td>\n",
       "      <td>10872</td>\n",
       "      <td>2574.018573</td>\n",
       "      <td>2015.950890</td>\n",
       "      <td>Apr</td>\n",
       "    </tr>\n",
       "    <tr>\n",
       "      <th>May</th>\n",
       "      <td>1989.523264</td>\n",
       "      <td>16428.338523</td>\n",
       "      <td>11348</td>\n",
       "      <td>2291.829799</td>\n",
       "      <td>1687.216730</td>\n",
       "      <td>May</td>\n",
       "    </tr>\n",
       "    <tr>\n",
       "      <th>Jun</th>\n",
       "      <td>1433.149046</td>\n",
       "      <td>6561.947273</td>\n",
       "      <td>11010</td>\n",
       "      <td>1555.738932</td>\n",
       "      <td>1310.559160</td>\n",
       "      <td>Jun</td>\n",
       "    </tr>\n",
       "    <tr>\n",
       "      <th>Jul</th>\n",
       "      <td>2007.870352</td>\n",
       "      <td>7408.384725</td>\n",
       "      <td>11377</td>\n",
       "      <td>2144.022043</td>\n",
       "      <td>1871.718662</td>\n",
       "      <td>Jul</td>\n",
       "    </tr>\n",
       "    <tr>\n",
       "      <th>Aug</th>\n",
       "      <td>2441.502152</td>\n",
       "      <td>10425.483877</td>\n",
       "      <td>11387</td>\n",
       "      <td>2633.018076</td>\n",
       "      <td>2249.986227</td>\n",
       "      <td>Aug</td>\n",
       "    </tr>\n",
       "    <tr>\n",
       "      <th>Sep</th>\n",
       "      <td>2223.283062</td>\n",
       "      <td>10260.530149</td>\n",
       "      <td>11040</td>\n",
       "      <td>2414.708939</td>\n",
       "      <td>2031.857185</td>\n",
       "      <td>Sep</td>\n",
       "    </tr>\n",
       "    <tr>\n",
       "      <th>Oct</th>\n",
       "      <td>2205.899580</td>\n",
       "      <td>7917.525038</td>\n",
       "      <td>11432</td>\n",
       "      <td>2351.057726</td>\n",
       "      <td>2060.741435</td>\n",
       "      <td>Oct</td>\n",
       "    </tr>\n",
       "    <tr>\n",
       "      <th>Nov</th>\n",
       "      <td>2964.868421</td>\n",
       "      <td>11235.400964</td>\n",
       "      <td>11134</td>\n",
       "      <td>3173.595012</td>\n",
       "      <td>2756.141830</td>\n",
       "      <td>Nov</td>\n",
       "    </tr>\n",
       "    <tr>\n",
       "      <th>Dec</th>\n",
       "      <td>3979.827003</td>\n",
       "      <td>20864.089717</td>\n",
       "      <td>11532</td>\n",
       "      <td>4360.681980</td>\n",
       "      <td>3598.972026</td>\n",
       "      <td>Dec</td>\n",
       "    </tr>\n",
       "  </tbody>\n",
       "</table>\n",
       "</div>"
      ],
      "text/plain": [
       "            dcases                         ci95_high     ci95_low month\n",
       "              mean           std   size                                \n",
       "month                                                                  \n",
       "Jan    3330.493183  16114.132615   5868  3742.910208  2918.076159   Jan\n",
       "Feb    1869.261968   7579.872208   6058  2060.189246  1678.334690   Feb\n",
       "Mar    1599.375677   6590.844635   9785  1729.988156  1468.763198   Mar\n",
       "Apr    2294.984731  14842.094035  10872  2574.018573  2015.950890   Apr\n",
       "May    1989.523264  16428.338523  11348  2291.829799  1687.216730   May\n",
       "Jun    1433.149046   6561.947273  11010  1555.738932  1310.559160   Jun\n",
       "Jul    2007.870352   7408.384725  11377  2144.022043  1871.718662   Jul\n",
       "Aug    2441.502152  10425.483877  11387  2633.018076  2249.986227   Aug\n",
       "Sep    2223.283062  10260.530149  11040  2414.708939  2031.857185   Sep\n",
       "Oct    2205.899580   7917.525038  11432  2351.057726  2060.741435   Oct\n",
       "Nov    2964.868421  11235.400964  11134  3173.595012  2756.141830   Nov\n",
       "Dec    3979.827003  20864.089717  11532  4360.681980  3598.972026   Dec"
      ]
     },
     "execution_count": 339,
     "metadata": {},
     "output_type": "execute_result"
    }
   ],
   "source": [
    "df_ci['month']=df_ci.index\n",
    "df_ci"
   ]
  },
  {
   "cell_type": "code",
   "execution_count": 340,
   "id": "15c092ab",
   "metadata": {},
   "outputs": [],
   "source": [
    "import matplotlib.pyplot as plt"
   ]
  },
  {
   "cell_type": "code",
   "execution_count": 341,
   "id": "afdc2df0",
   "metadata": {},
   "outputs": [
    {
     "data": {
      "text/plain": [
       "([<matplotlib.axis.YTick at 0x7fef78787370>,\n",
       "  <matplotlib.axis.YTick at 0x7fef7a89ebb0>,\n",
       "  <matplotlib.axis.YTick at 0x7fef7a899ee0>,\n",
       "  <matplotlib.axis.YTick at 0x7fef78ac6640>,\n",
       "  <matplotlib.axis.YTick at 0x7fef78ac6d90>,\n",
       "  <matplotlib.axis.YTick at 0x7fef78ac6c40>,\n",
       "  <matplotlib.axis.YTick at 0x7fef78ad0640>,\n",
       "  <matplotlib.axis.YTick at 0x7fef78ad0d90>,\n",
       "  <matplotlib.axis.YTick at 0x7fef78ad6520>,\n",
       "  <matplotlib.axis.YTick at 0x7fef78ad6c70>,\n",
       "  <matplotlib.axis.YTick at 0x7fef78adc400>,\n",
       "  <matplotlib.axis.YTick at 0x7fef78adcb50>],\n",
       " [Text(0, 0, 'Jan'),\n",
       "  Text(0, 1, 'Feb'),\n",
       "  Text(0, 2, 'Mar'),\n",
       "  Text(0, 3, 'Apr'),\n",
       "  Text(0, 4, 'May'),\n",
       "  Text(0, 5, 'Jun'),\n",
       "  Text(0, 6, 'Jul'),\n",
       "  Text(0, 7, 'Aug'),\n",
       "  Text(0, 8, 'Sep'),\n",
       "  Text(0, 9, 'Oct'),\n",
       "  Text(0, 10, 'Nov'),\n",
       "  Text(0, 11, 'Dec')])"
      ]
     },
     "execution_count": 341,
     "metadata": {},
     "output_type": "execute_result"
    },
    {
     "data": {
      "image/png": "[encoded data removed]",
      "text/plain": [
       "<Figure size 432x288 with 1 Axes>"
      ]
     },
     "metadata": {
      "needs_background": "light"
     },
     "output_type": "display_data"
    }
   ],
   "source": [
    "for lb,ub,y in zip(df_ci['ci95_low'],df_ci['ci95_high'],range(len(df_ci))):\n",
    "    plt.plot((lb,ub),(y,y),'ro-')\n",
    "plt.yticks(range(len(df_ci)),list(df_ci['month']))"
   ]
  },
  {
   "cell_type": "markdown",
   "id": "c085fa0e",
   "metadata": {},
   "source": [
    "The month of December has the highest mean number of daily COVID-19 cases, with a 95% confidence interval of (4360.681980, 3598.972026). November and January also have a mean number of daily COVID cases that is significantly higher than the rest. This could be due to the whether and the many holidays during these months. "
   ]
  },
  {
   "cell_type": "markdown",
   "id": "466ded95",
   "metadata": {},
   "source": [
    "### Daily Cases by Weekday and Month in Africa "
   ]
  },
  {
   "cell_type": "code",
   "execution_count": 342,
   "id": "6940a0d0",
   "metadata": {},
   "outputs": [],
   "source": [
    "df_africa=df[df['continent']=='Africa']"
   ]
  },
  {
   "cell_type": "code",
   "execution_count": 371,
   "id": "9df685bf",
   "metadata": {},
   "outputs": [
    {
     "data": {
      "text/html": [
       "<div>\n",
       "<style scoped>\n",
       "    .dataframe tbody tr th:only-of-type {\n",
       "        vertical-align: middle;\n",
       "    }\n",
       "\n",
       "    .dataframe tbody tr th {\n",
       "        vertical-align: top;\n",
       "    }\n",
       "\n",
       "    .dataframe thead tr th {\n",
       "        text-align: left;\n",
       "    }\n",
       "\n",
       "    .dataframe thead tr:last-of-type th {\n",
       "        text-align: right;\n",
       "    }\n",
       "</style>\n",
       "<table border=\"1\" class=\"dataframe\">\n",
       "  <thead>\n",
       "    <tr>\n",
       "      <th></th>\n",
       "      <th colspan=\"3\" halign=\"left\">dcases</th>\n",
       "    </tr>\n",
       "    <tr>\n",
       "      <th></th>\n",
       "      <th>mean</th>\n",
       "      <th>std</th>\n",
       "      <th>size</th>\n",
       "    </tr>\n",
       "    <tr>\n",
       "      <th>weekdays</th>\n",
       "      <th></th>\n",
       "      <th></th>\n",
       "      <th></th>\n",
       "    </tr>\n",
       "  </thead>\n",
       "  <tbody>\n",
       "    <tr>\n",
       "      <th>Fri</th>\n",
       "      <td>311.194054</td>\n",
       "      <td>1327.936280</td>\n",
       "      <td>4978</td>\n",
       "    </tr>\n",
       "    <tr>\n",
       "      <th>Sat</th>\n",
       "      <td>274.849179</td>\n",
       "      <td>1261.018288</td>\n",
       "      <td>4933</td>\n",
       "    </tr>\n",
       "    <tr>\n",
       "      <th>Sun</th>\n",
       "      <td>242.797935</td>\n",
       "      <td>1123.745040</td>\n",
       "      <td>4939</td>\n",
       "    </tr>\n",
       "    <tr>\n",
       "      <th>Mon</th>\n",
       "      <td>231.249697</td>\n",
       "      <td>877.708464</td>\n",
       "      <td>4946</td>\n",
       "    </tr>\n",
       "    <tr>\n",
       "      <th>Tue</th>\n",
       "      <td>254.994145</td>\n",
       "      <td>1041.459782</td>\n",
       "      <td>4953</td>\n",
       "    </tr>\n",
       "    <tr>\n",
       "      <th>Wed</th>\n",
       "      <td>316.406691</td>\n",
       "      <td>1356.637185</td>\n",
       "      <td>4962</td>\n",
       "    </tr>\n",
       "    <tr>\n",
       "      <th>Thu</th>\n",
       "      <td>335.889851</td>\n",
       "      <td>1427.718515</td>\n",
       "      <td>4966</td>\n",
       "    </tr>\n",
       "  </tbody>\n",
       "</table>\n",
       "</div>"
      ],
      "text/plain": [
       "              dcases                   \n",
       "                mean          std  size\n",
       "weekdays                               \n",
       "Fri       311.194054  1327.936280  4978\n",
       "Sat       274.849179  1261.018288  4933\n",
       "Sun       242.797935  1123.745040  4939\n",
       "Mon       231.249697   877.708464  4946\n",
       "Tue       254.994145  1041.459782  4953\n",
       "Wed       316.406691  1356.637185  4962\n",
       "Thu       335.889851  1427.718515  4966"
      ]
     },
     "execution_count": 371,
     "metadata": {},
     "output_type": "execute_result"
    }
   ],
   "source": [
    "stats_days_africa=df_africa.groupby(\"weekdays\").agg({\"dcases\": [np.mean, np.std, np.size]})\n",
    "stats_days_africa"
   ]
  },
  {
   "cell_type": "code",
   "execution_count": 376,
   "id": "05ffee86",
   "metadata": {},
   "outputs": [
    {
     "data": {
      "text/html": [
       "<div>\n",
       "<style scoped>\n",
       "    .dataframe tbody tr th:only-of-type {\n",
       "        vertical-align: middle;\n",
       "    }\n",
       "\n",
       "    .dataframe tbody tr th {\n",
       "        vertical-align: top;\n",
       "    }\n",
       "\n",
       "    .dataframe thead tr th {\n",
       "        text-align: left;\n",
       "    }\n",
       "\n",
       "    .dataframe thead tr:last-of-type th {\n",
       "        text-align: right;\n",
       "    }\n",
       "</style>\n",
       "<table border=\"1\" class=\"dataframe\">\n",
       "  <thead>\n",
       "    <tr>\n",
       "      <th></th>\n",
       "      <th colspan=\"3\" halign=\"left\">dcases</th>\n",
       "    </tr>\n",
       "    <tr>\n",
       "      <th></th>\n",
       "      <th>mean</th>\n",
       "      <th>std</th>\n",
       "      <th>size</th>\n",
       "    </tr>\n",
       "    <tr>\n",
       "      <th>month</th>\n",
       "      <th></th>\n",
       "      <th></th>\n",
       "      <th></th>\n",
       "    </tr>\n",
       "  </thead>\n",
       "  <tbody>\n",
       "    <tr>\n",
       "      <th>Jan</th>\n",
       "      <td>491.986001</td>\n",
       "      <td>1905.282764</td>\n",
       "      <td>1643</td>\n",
       "    </tr>\n",
       "    <tr>\n",
       "      <th>Feb</th>\n",
       "      <td>216.968149</td>\n",
       "      <td>412.901707</td>\n",
       "      <td>1507</td>\n",
       "    </tr>\n",
       "    <tr>\n",
       "      <th>Mar</th>\n",
       "      <td>132.331977</td>\n",
       "      <td>338.573755</td>\n",
       "      <td>2458</td>\n",
       "    </tr>\n",
       "    <tr>\n",
       "      <th>Apr</th>\n",
       "      <td>119.899068</td>\n",
       "      <td>383.510432</td>\n",
       "      <td>3111</td>\n",
       "    </tr>\n",
       "    <tr>\n",
       "      <th>May</th>\n",
       "      <td>119.238546</td>\n",
       "      <td>380.337268</td>\n",
       "      <td>3274</td>\n",
       "    </tr>\n",
       "    <tr>\n",
       "      <th>Jun</th>\n",
       "      <td>289.447484</td>\n",
       "      <td>1223.268231</td>\n",
       "      <td>3180</td>\n",
       "    </tr>\n",
       "    <tr>\n",
       "      <th>Jul</th>\n",
       "      <td>525.685636</td>\n",
       "      <td>2029.631410</td>\n",
       "      <td>3286</td>\n",
       "    </tr>\n",
       "    <tr>\n",
       "      <th>Aug</th>\n",
       "      <td>427.623554</td>\n",
       "      <td>1509.267684</td>\n",
       "      <td>3286</td>\n",
       "    </tr>\n",
       "    <tr>\n",
       "      <th>Sep</th>\n",
       "      <td>235.870440</td>\n",
       "      <td>808.103800</td>\n",
       "      <td>3180</td>\n",
       "    </tr>\n",
       "    <tr>\n",
       "      <th>Oct</th>\n",
       "      <td>151.285453</td>\n",
       "      <td>458.282186</td>\n",
       "      <td>3286</td>\n",
       "    </tr>\n",
       "    <tr>\n",
       "      <th>Nov</th>\n",
       "      <td>179.502830</td>\n",
       "      <td>663.978781</td>\n",
       "      <td>3180</td>\n",
       "    </tr>\n",
       "    <tr>\n",
       "      <th>Dec</th>\n",
       "      <td>503.324102</td>\n",
       "      <td>2000.098956</td>\n",
       "      <td>3286</td>\n",
       "    </tr>\n",
       "  </tbody>\n",
       "</table>\n",
       "</div>"
      ],
      "text/plain": [
       "           dcases                   \n",
       "             mean          std  size\n",
       "month                               \n",
       "Jan    491.986001  1905.282764  1643\n",
       "Feb    216.968149   412.901707  1507\n",
       "Mar    132.331977   338.573755  2458\n",
       "Apr    119.899068   383.510432  3111\n",
       "May    119.238546   380.337268  3274\n",
       "Jun    289.447484  1223.268231  3180\n",
       "Jul    525.685636  2029.631410  3286\n",
       "Aug    427.623554  1509.267684  3286\n",
       "Sep    235.870440   808.103800  3180\n",
       "Oct    151.285453   458.282186  3286\n",
       "Nov    179.502830   663.978781  3180\n",
       "Dec    503.324102  2000.098956  3286"
      ]
     },
     "execution_count": 376,
     "metadata": {},
     "output_type": "execute_result"
    }
   ],
   "source": [
    "stats_months_africa=df_africa.groupby(\"month\").agg({\"dcases\": [np.mean, np.std, np.size]})\n",
    "stats_months_africa"
   ]
  },
  {
   "cell_type": "code",
   "execution_count": 377,
   "id": "35516444",
   "metadata": {},
   "outputs": [
    {
     "data": {
      "text/plain": [
       "CategoricalIndex(['Jan', 'Feb', 'Mar', 'Apr', 'May', 'Jun', 'Jul', 'Aug',\n",
       "                  'Sep', 'Oct', 'Nov', 'Dec'],\n",
       "                 categories=['Jan', 'Feb', 'Mar', 'Apr', 'May', 'Jun', 'Jul', 'Aug', ...], ordered=True, dtype='category', name='month')"
      ]
     },
     "execution_count": 377,
     "metadata": {},
     "output_type": "execute_result"
    }
   ],
   "source": [
    "stats_months_africa.index"
   ]
  },
  {
   "cell_type": "code",
   "execution_count": 385,
   "id": "26b5be70",
   "metadata": {},
   "outputs": [],
   "source": [
    "ci95_high = []\n",
    "ci95_low = []"
   ]
  },
  {
   "cell_type": "code",
   "execution_count": 386,
   "id": "d64be1d8",
   "metadata": {},
   "outputs": [],
   "source": [
    "for i in stats_months_africa.index:\n",
    "    m, s, n = stats_months_africa.loc[i]\n",
    "    x=scipy.stats.t.interval(.95, n-1, m,s/np.sqrt(n-1))\n",
    "    ci95_high.append(x[1])\n",
    "    ci95_low.append(x[0])"
   ]
  },
  {
   "cell_type": "code",
   "execution_count": 387,
   "id": "9f643ec0",
   "metadata": {},
   "outputs": [
    {
     "data": {
      "text/plain": [
       "[584.2094157987599,\n",
       " 237.83858163087194,\n",
       " 145.72605435372427,\n",
       " 133.3829246066633,\n",
       " 132.27335304125356,\n",
       " 331.9867419028808,\n",
       " 595.1173081424464,\n",
       " 479.25410102708315,\n",
       " 263.97231921560217,\n",
       " 166.96283127317764,\n",
       " 202.5927492247392,\n",
       " 571.7454984913564]"
      ]
     },
     "execution_count": 387,
     "metadata": {},
     "output_type": "execute_result"
    }
   ],
   "source": [
    "ci95_high"
   ]
  },
  {
   "cell_type": "code",
   "execution_count": 388,
   "id": "9795cbc7",
   "metadata": {},
   "outputs": [
    {
     "data": {
      "text/plain": [
       "[399.76258663581103,\n",
       " 196.09771564849103,\n",
       " 118.93790008077534,\n",
       " 106.41521104103842,\n",
       " 106.20373920065235,\n",
       " 246.90822665057829,\n",
       " 456.25396392085247,\n",
       " 375.99300791996495,\n",
       " 207.76856128754244,\n",
       " 135.60807560448518,\n",
       " 156.41291115261927,\n",
       " 434.90270601259977]"
      ]
     },
     "execution_count": 388,
     "metadata": {},
     "output_type": "execute_result"
    }
   ],
   "source": [
    "ci95_low"
   ]
  },
  {
   "cell_type": "code",
   "execution_count": 390,
   "id": "04a46af6",
   "metadata": {},
   "outputs": [],
   "source": [
    "stats_months_africa['ci95_high'] = ci95_high\n",
    "stats_months_africa['ci95_low'] = ci95_low"
   ]
  },
  {
   "cell_type": "code",
   "execution_count": 391,
   "id": "40f5308f",
   "metadata": {},
   "outputs": [
    {
     "data": {
      "text/html": [
       "<div>\n",
       "<style scoped>\n",
       "    .dataframe tbody tr th:only-of-type {\n",
       "        vertical-align: middle;\n",
       "    }\n",
       "\n",
       "    .dataframe tbody tr th {\n",
       "        vertical-align: top;\n",
       "    }\n",
       "\n",
       "    .dataframe thead tr th {\n",
       "        text-align: left;\n",
       "    }\n",
       "\n",
       "    .dataframe thead tr:last-of-type th {\n",
       "        text-align: right;\n",
       "    }\n",
       "</style>\n",
       "<table border=\"1\" class=\"dataframe\">\n",
       "  <thead>\n",
       "    <tr>\n",
       "      <th></th>\n",
       "      <th colspan=\"3\" halign=\"left\">dcases</th>\n",
       "      <th>ci95_high</th>\n",
       "      <th>ci95_low</th>\n",
       "    </tr>\n",
       "    <tr>\n",
       "      <th></th>\n",
       "      <th>mean</th>\n",
       "      <th>std</th>\n",
       "      <th>size</th>\n",
       "      <th></th>\n",
       "      <th></th>\n",
       "    </tr>\n",
       "    <tr>\n",
       "      <th>month</th>\n",
       "      <th></th>\n",
       "      <th></th>\n",
       "      <th></th>\n",
       "      <th></th>\n",
       "      <th></th>\n",
       "    </tr>\n",
       "  </thead>\n",
       "  <tbody>\n",
       "    <tr>\n",
       "      <th>Jan</th>\n",
       "      <td>491.986001</td>\n",
       "      <td>1905.282764</td>\n",
       "      <td>1643</td>\n",
       "      <td>584.209416</td>\n",
       "      <td>399.762587</td>\n",
       "    </tr>\n",
       "    <tr>\n",
       "      <th>Feb</th>\n",
       "      <td>216.968149</td>\n",
       "      <td>412.901707</td>\n",
       "      <td>1507</td>\n",
       "      <td>237.838582</td>\n",
       "      <td>196.097716</td>\n",
       "    </tr>\n",
       "    <tr>\n",
       "      <th>Mar</th>\n",
       "      <td>132.331977</td>\n",
       "      <td>338.573755</td>\n",
       "      <td>2458</td>\n",
       "      <td>145.726054</td>\n",
       "      <td>118.937900</td>\n",
       "    </tr>\n",
       "    <tr>\n",
       "      <th>Apr</th>\n",
       "      <td>119.899068</td>\n",
       "      <td>383.510432</td>\n",
       "      <td>3111</td>\n",
       "      <td>133.382925</td>\n",
       "      <td>106.415211</td>\n",
       "    </tr>\n",
       "    <tr>\n",
       "      <th>May</th>\n",
       "      <td>119.238546</td>\n",
       "      <td>380.337268</td>\n",
       "      <td>3274</td>\n",
       "      <td>132.273353</td>\n",
       "      <td>106.203739</td>\n",
       "    </tr>\n",
       "    <tr>\n",
       "      <th>Jun</th>\n",
       "      <td>289.447484</td>\n",
       "      <td>1223.268231</td>\n",
       "      <td>3180</td>\n",
       "      <td>331.986742</td>\n",
       "      <td>246.908227</td>\n",
       "    </tr>\n",
       "    <tr>\n",
       "      <th>Jul</th>\n",
       "      <td>525.685636</td>\n",
       "      <td>2029.631410</td>\n",
       "      <td>3286</td>\n",
       "      <td>595.117308</td>\n",
       "      <td>456.253964</td>\n",
       "    </tr>\n",
       "    <tr>\n",
       "      <th>Aug</th>\n",
       "      <td>427.623554</td>\n",
       "      <td>1509.267684</td>\n",
       "      <td>3286</td>\n",
       "      <td>479.254101</td>\n",
       "      <td>375.993008</td>\n",
       "    </tr>\n",
       "    <tr>\n",
       "      <th>Sep</th>\n",
       "      <td>235.870440</td>\n",
       "      <td>808.103800</td>\n",
       "      <td>3180</td>\n",
       "      <td>263.972319</td>\n",
       "      <td>207.768561</td>\n",
       "    </tr>\n",
       "    <tr>\n",
       "      <th>Oct</th>\n",
       "      <td>151.285453</td>\n",
       "      <td>458.282186</td>\n",
       "      <td>3286</td>\n",
       "      <td>166.962831</td>\n",
       "      <td>135.608076</td>\n",
       "    </tr>\n",
       "    <tr>\n",
       "      <th>Nov</th>\n",
       "      <td>179.502830</td>\n",
       "      <td>663.978781</td>\n",
       "      <td>3180</td>\n",
       "      <td>202.592749</td>\n",
       "      <td>156.412911</td>\n",
       "    </tr>\n",
       "    <tr>\n",
       "      <th>Dec</th>\n",
       "      <td>503.324102</td>\n",
       "      <td>2000.098956</td>\n",
       "      <td>3286</td>\n",
       "      <td>571.745498</td>\n",
       "      <td>434.902706</td>\n",
       "    </tr>\n",
       "  </tbody>\n",
       "</table>\n",
       "</div>"
      ],
      "text/plain": [
       "           dcases                      ci95_high    ci95_low\n",
       "             mean          std  size                        \n",
       "month                                                       \n",
       "Jan    491.986001  1905.282764  1643  584.209416  399.762587\n",
       "Feb    216.968149   412.901707  1507  237.838582  196.097716\n",
       "Mar    132.331977   338.573755  2458  145.726054  118.937900\n",
       "Apr    119.899068   383.510432  3111  133.382925  106.415211\n",
       "May    119.238546   380.337268  3274  132.273353  106.203739\n",
       "Jun    289.447484  1223.268231  3180  331.986742  246.908227\n",
       "Jul    525.685636  2029.631410  3286  595.117308  456.253964\n",
       "Aug    427.623554  1509.267684  3286  479.254101  375.993008\n",
       "Sep    235.870440   808.103800  3180  263.972319  207.768561\n",
       "Oct    151.285453   458.282186  3286  166.962831  135.608076\n",
       "Nov    179.502830   663.978781  3180  202.592749  156.412911\n",
       "Dec    503.324102  2000.098956  3286  571.745498  434.902706"
      ]
     },
     "execution_count": 391,
     "metadata": {},
     "output_type": "execute_result"
    }
   ],
   "source": [
    "df_ci= pd.DataFrame(stats_months_africa)\n",
    "df_ci"
   ]
  },
  {
   "cell_type": "code",
   "execution_count": 392,
   "id": "be1a14fc",
   "metadata": {},
   "outputs": [
    {
     "data": {
      "text/html": [
       "<div>\n",
       "<style scoped>\n",
       "    .dataframe tbody tr th:only-of-type {\n",
       "        vertical-align: middle;\n",
       "    }\n",
       "\n",
       "    .dataframe tbody tr th {\n",
       "        vertical-align: top;\n",
       "    }\n",
       "\n",
       "    .dataframe thead tr th {\n",
       "        text-align: left;\n",
       "    }\n",
       "\n",
       "    .dataframe thead tr:last-of-type th {\n",
       "        text-align: right;\n",
       "    }\n",
       "</style>\n",
       "<table border=\"1\" class=\"dataframe\">\n",
       "  <thead>\n",
       "    <tr>\n",
       "      <th></th>\n",
       "      <th colspan=\"3\" halign=\"left\">dcases</th>\n",
       "      <th>ci95_high</th>\n",
       "      <th>ci95_low</th>\n",
       "      <th>month</th>\n",
       "    </tr>\n",
       "    <tr>\n",
       "      <th></th>\n",
       "      <th>mean</th>\n",
       "      <th>std</th>\n",
       "      <th>size</th>\n",
       "      <th></th>\n",
       "      <th></th>\n",
       "      <th></th>\n",
       "    </tr>\n",
       "    <tr>\n",
       "      <th>month</th>\n",
       "      <th></th>\n",
       "      <th></th>\n",
       "      <th></th>\n",
       "      <th></th>\n",
       "      <th></th>\n",
       "      <th></th>\n",
       "    </tr>\n",
       "  </thead>\n",
       "  <tbody>\n",
       "    <tr>\n",
       "      <th>Jan</th>\n",
       "      <td>491.986001</td>\n",
       "      <td>1905.282764</td>\n",
       "      <td>1643</td>\n",
       "      <td>584.209416</td>\n",
       "      <td>399.762587</td>\n",
       "      <td>Jan</td>\n",
       "    </tr>\n",
       "    <tr>\n",
       "      <th>Feb</th>\n",
       "      <td>216.968149</td>\n",
       "      <td>412.901707</td>\n",
       "      <td>1507</td>\n",
       "      <td>237.838582</td>\n",
       "      <td>196.097716</td>\n",
       "      <td>Feb</td>\n",
       "    </tr>\n",
       "    <tr>\n",
       "      <th>Mar</th>\n",
       "      <td>132.331977</td>\n",
       "      <td>338.573755</td>\n",
       "      <td>2458</td>\n",
       "      <td>145.726054</td>\n",
       "      <td>118.937900</td>\n",
       "      <td>Mar</td>\n",
       "    </tr>\n",
       "    <tr>\n",
       "      <th>Apr</th>\n",
       "      <td>119.899068</td>\n",
       "      <td>383.510432</td>\n",
       "      <td>3111</td>\n",
       "      <td>133.382925</td>\n",
       "      <td>106.415211</td>\n",
       "      <td>Apr</td>\n",
       "    </tr>\n",
       "    <tr>\n",
       "      <th>May</th>\n",
       "      <td>119.238546</td>\n",
       "      <td>380.337268</td>\n",
       "      <td>3274</td>\n",
       "      <td>132.273353</td>\n",
       "      <td>106.203739</td>\n",
       "      <td>May</td>\n",
       "    </tr>\n",
       "    <tr>\n",
       "      <th>Jun</th>\n",
       "      <td>289.447484</td>\n",
       "      <td>1223.268231</td>\n",
       "      <td>3180</td>\n",
       "      <td>331.986742</td>\n",
       "      <td>246.908227</td>\n",
       "      <td>Jun</td>\n",
       "    </tr>\n",
       "    <tr>\n",
       "      <th>Jul</th>\n",
       "      <td>525.685636</td>\n",
       "      <td>2029.631410</td>\n",
       "      <td>3286</td>\n",
       "      <td>595.117308</td>\n",
       "      <td>456.253964</td>\n",
       "      <td>Jul</td>\n",
       "    </tr>\n",
       "    <tr>\n",
       "      <th>Aug</th>\n",
       "      <td>427.623554</td>\n",
       "      <td>1509.267684</td>\n",
       "      <td>3286</td>\n",
       "      <td>479.254101</td>\n",
       "      <td>375.993008</td>\n",
       "      <td>Aug</td>\n",
       "    </tr>\n",
       "    <tr>\n",
       "      <th>Sep</th>\n",
       "      <td>235.870440</td>\n",
       "      <td>808.103800</td>\n",
       "      <td>3180</td>\n",
       "      <td>263.972319</td>\n",
       "      <td>207.768561</td>\n",
       "      <td>Sep</td>\n",
       "    </tr>\n",
       "    <tr>\n",
       "      <th>Oct</th>\n",
       "      <td>151.285453</td>\n",
       "      <td>458.282186</td>\n",
       "      <td>3286</td>\n",
       "      <td>166.962831</td>\n",
       "      <td>135.608076</td>\n",
       "      <td>Oct</td>\n",
       "    </tr>\n",
       "    <tr>\n",
       "      <th>Nov</th>\n",
       "      <td>179.502830</td>\n",
       "      <td>663.978781</td>\n",
       "      <td>3180</td>\n",
       "      <td>202.592749</td>\n",
       "      <td>156.412911</td>\n",
       "      <td>Nov</td>\n",
       "    </tr>\n",
       "    <tr>\n",
       "      <th>Dec</th>\n",
       "      <td>503.324102</td>\n",
       "      <td>2000.098956</td>\n",
       "      <td>3286</td>\n",
       "      <td>571.745498</td>\n",
       "      <td>434.902706</td>\n",
       "      <td>Dec</td>\n",
       "    </tr>\n",
       "  </tbody>\n",
       "</table>\n",
       "</div>"
      ],
      "text/plain": [
       "           dcases                      ci95_high    ci95_low month\n",
       "             mean          std  size                              \n",
       "month                                                             \n",
       "Jan    491.986001  1905.282764  1643  584.209416  399.762587   Jan\n",
       "Feb    216.968149   412.901707  1507  237.838582  196.097716   Feb\n",
       "Mar    132.331977   338.573755  2458  145.726054  118.937900   Mar\n",
       "Apr    119.899068   383.510432  3111  133.382925  106.415211   Apr\n",
       "May    119.238546   380.337268  3274  132.273353  106.203739   May\n",
       "Jun    289.447484  1223.268231  3180  331.986742  246.908227   Jun\n",
       "Jul    525.685636  2029.631410  3286  595.117308  456.253964   Jul\n",
       "Aug    427.623554  1509.267684  3286  479.254101  375.993008   Aug\n",
       "Sep    235.870440   808.103800  3180  263.972319  207.768561   Sep\n",
       "Oct    151.285453   458.282186  3286  166.962831  135.608076   Oct\n",
       "Nov    179.502830   663.978781  3180  202.592749  156.412911   Nov\n",
       "Dec    503.324102  2000.098956  3286  571.745498  434.902706   Dec"
      ]
     },
     "execution_count": 392,
     "metadata": {},
     "output_type": "execute_result"
    }
   ],
   "source": [
    "df_ci['month']=df_ci.index\n",
    "df_ci"
   ]
  },
  {
   "cell_type": "code",
   "execution_count": 393,
   "id": "100f7c85",
   "metadata": {},
   "outputs": [
    {
     "data": {
      "text/plain": [
       "([<matplotlib.axis.YTick at 0x7fef798c3af0>,\n",
       "  <matplotlib.axis.YTick at 0x7fef798b6fa0>,\n",
       "  <matplotlib.axis.YTick at 0x7fef798c3790>,\n",
       "  <matplotlib.axis.YTick at 0x7fef7a4c3a60>,\n",
       "  <matplotlib.axis.YTick at 0x7fef78a590d0>,\n",
       "  <matplotlib.axis.YTick at 0x7fef78a59820>,\n",
       "  <matplotlib.axis.YTick at 0x7fef78a5e0a0>,\n",
       "  <matplotlib.axis.YTick at 0x7fef78a5e730>,\n",
       "  <matplotlib.axis.YTick at 0x7fef78a5ee80>,\n",
       "  <matplotlib.axis.YTick at 0x7fef78a5ee50>,\n",
       "  <matplotlib.axis.YTick at 0x7fef78a59b80>,\n",
       "  <matplotlib.axis.YTick at 0x7fef78a64610>],\n",
       " [Text(0, 0, 'Jan'),\n",
       "  Text(0, 1, 'Feb'),\n",
       "  Text(0, 2, 'Mar'),\n",
       "  Text(0, 3, 'Apr'),\n",
       "  Text(0, 4, 'May'),\n",
       "  Text(0, 5, 'Jun'),\n",
       "  Text(0, 6, 'Jul'),\n",
       "  Text(0, 7, 'Aug'),\n",
       "  Text(0, 8, 'Sep'),\n",
       "  Text(0, 9, 'Oct'),\n",
       "  Text(0, 10, 'Nov'),\n",
       "  Text(0, 11, 'Dec')])"
      ]
     },
     "execution_count": 393,
     "metadata": {},
     "output_type": "execute_result"
    },
    {
     "data": {
      "image/png": "[encoded data removed]",
      "text/plain": [
       "<Figure size 432x288 with 1 Axes>"
      ]
     },
     "metadata": {
      "needs_background": "light"
     },
     "output_type": "display_data"
    }
   ],
   "source": [
    "for lb,ub,y in zip(df_ci['ci95_low'],df_ci['ci95_high'],range(len(df_ci))):\n",
    "    plt.plot((lb,ub),(y,y),'ro-')\n",
    "plt.yticks(range(len(df_ci)),list(df_ci['month']))"
   ]
  },
  {
   "cell_type": "markdown",
   "id": "a0fd11ee",
   "metadata": {},
   "source": [
    "### Comparing Africa to the Whole World  "
   ]
  },
  {
   "cell_type": "markdown",
   "id": "0ab984a7",
   "metadata": {},
   "source": [
    "The two graphs of the confidence intervals show that Africa doesn't follow the global trend in COVID-19 case spikes. July and August, some of the months with the most cases in Africa have the lowest number of cases globaly. There also seems to be higher more months with spikes than the global average. "
   ]
  },
  {
   "cell_type": "code",
   "execution_count": null,
   "id": "0fa344dc",
   "metadata": {},
   "outputs": [],
   "source": []
  }
 ],
 "metadata": {
  "kernelspec": {
   "display_name": "Python 3 (ipykernel)",
   "language": "python",
   "name": "python3"
  },
  "language_info": {
   "codemirror_mode": {
    "name": "ipython",
    "version": 3
   },
   "file_extension": ".py",
   "mimetype": "text/x-python",
   "name": "python",
   "nbconvert_exporter": "python",
   "pygments_lexer": "ipython3",
   "version": "3.9.7"
  }
 },
 "nbformat": 4,
 "nbformat_minor": 5
}
